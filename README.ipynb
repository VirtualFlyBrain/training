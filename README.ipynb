{
  "cells": [
    {
      "cell_type": "markdown",
      "source": "# VFB training\nThis is a project containing iPython notebooks to support the [Virtual Fly Brain](https://VirtualFlyBrain.org) \"Hacking the connectome\" workshop in collaboration with the Drosophila Connectomics Group based at the Dept of Zoology, University of Cambridge.\n\nThis repository will focus on the use of the python [API tools](https://github.com/VirtualFlyBrain/training/blob/main/presentations/tools_landscape.md) and parallels [a similar](https://github.com/VirtualFlyBrain/natworkshop) repo containing exercises for R.\n",
      "metadata": {
        "tags": [],
        "cell_id": "00000-94c9215c-6b10-4b9d-97a2-6a652f7cc92f",
        "deepnote_cell_type": "markdown"
      }
    },
    {
      "cell_type": "markdown",
      "source": "Please see examples in the following notebooks:\n\n```\n└── training\n    └── Python Workshop\n        ├── 0_Intro_to_Deepnote.ipynb\n        ├── 1_Discovery.ipynb\n        ├── 2_Mapping.ipynb\n        ├── 3_Visualisation.ipynb\n        ├── 4_Connectomics.ipynb\n        ├── 5_Nblast.ipynb\n        ├── 6_Transforms.ipynb\n        └── Reference Notebooks\n            ├── 0_VFB_API_overview.ipynb\n            ├── 1_datatypes.ipynb\n            ├── 2_plotting.ipynb\n            ├── 3_pymaid.ipynb\n            └── 4_neuprint.ipynb\n            ",
      "metadata": {
        "tags": [],
        "cell_id": "00001-2e05cbe4-067f-439b-843e-b8d846257528",
        "deepnote_cell_type": "markdown"
      }
    }
  ],
  "nbformat": 4,
  "nbformat_minor": 2,
  "metadata": {
    "orig_nbformat": 2,
    "deepnote_notebook_id": "13cb54a3-25d6-4d79-8b5e-b70fc7882bd7",
    "deepnote": {},
    "deepnote_execution_queue": []
  }
}