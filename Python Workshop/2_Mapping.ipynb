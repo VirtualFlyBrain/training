{
  "cells": [
    {
      "cell_type": "code",
      "metadata": {
        "tags": [],
        "cell_id": "00000-7ee8dd35-db9d-49b0-b5d0-b049815d03a2",
        "deepnote_to_be_reexecuted": false,
        "source_hash": null,
        "execution_millis": 3220,
        "execution_start": 1614693551574,
        "output_cleared": true,
        "deepnote_cell_type": "code"
      },
      "source": "!pip install vfb-connect --upgrade",
      "execution_count": null,
      "outputs": []
    },
    {
      "cell_type": "markdown",
      "source": "### A note on using these notebooks\nThis is designed as an interactive tutorial. Feel free to add code cells below each example to try out variations of your own.",
      "metadata": {
        "tags": [],
        "cell_id": "00001-2efdf39c-bd13-4d3a-ad1d-12fd91001c79",
        "deepnote_cell_type": "markdown"
      }
    },
    {
      "cell_type": "code",
      "metadata": {
        "tags": [],
        "cell_id": "00001-bd6025fd-9e02-441d-a687-c11a9105816c",
        "deepnote_to_be_reexecuted": false,
        "source_hash": null,
        "execution_millis": 6167,
        "execution_start": 1614693554800,
        "output_cleared": true,
        "deepnote_cell_type": "code"
      },
      "source": "# Import libs and initialise API objects\nfrom vfb_connect.cross_server_tools import VfbConnect\nimport pandas as pd\n\nvc = VfbConnect()\n\nimport pymaid\nimport navis\n\nnavis.set_pbars(jupyter=False)\npymaid.set_pbars(jupyter=False)\n\n# Connect to the VFB CATMAID server hosting the FAFB data\nrm = pymaid.connect_catmaid(server=\"https://fafb.catmaid.virtualflybrain.org/\", api_token=None, max_threads=10)\n\n# Test call to see if connection works \nprint(f'Server is running CATMAID version {rm.catmaid_version}')\n\n# Many functions return JSON-compatible nested data structures. This function coverts them to DataFrame.\ndef summary_2_df(summary, sort=None):\n    \"\"\"Convert summary to DataFrame.  Optionally specify a set of columns to sort as a list of strings\"\"\"\n    if sort:\n        return pd.DataFrame.from_records(summary).sort_values(sort)\n    else:\n        return pd.DataFrame.from_records(summary)",
      "execution_count": null,
      "outputs": []
    },
    {
      "cell_type": "markdown",
      "source": "## Mapping\n\nUse case: If I have a single neuron, how can I find other neurons of the same or similar type within or between data sources?",
      "metadata": {
        "tags": [],
        "cell_id": "00000-b64aa76d-01f7-4148-83bd-257b5fd599ef",
        "deepnote_cell_type": "markdown"
      }
    },
    {
      "cell_type": "markdown",
      "source": "#### Mapping via common parent type\n\n",
      "metadata": {
        "tags": [],
        "cell_id": "00003-6f4558f5-f83c-462d-a03e-1ed1023b8206",
        "deepnote_cell_type": "markdown"
      }
    },
    {
      "cell_type": "code",
      "metadata": {
        "tags": [],
        "cell_id": "00004-661217c8-22d1-45a9-9f85-b7f2aad5e571",
        "deepnote_to_be_reexecuted": false,
        "source_hash": null,
        "execution_millis": 428,
        "execution_start": 1614693560971,
        "output_cleared": true,
        "deepnote_cell_type": "code"
      },
      "source": "# lets take some examples from a discovery query on the previous spreadhseet\nsayin_tab = pd.DataFrame.from_records(vc.get_instances_by_dataset('Sayin2019', summary=True))\nsayin_tab",
      "execution_count": null,
      "outputs": []
    },
    {
      "cell_type": "code",
      "metadata": {
        "tags": [],
        "cell_id": "00005-5af68851-490e-42ae-a9ce-e1e8cb5c3507",
        "deepnote_to_be_reexecuted": false,
        "source_hash": null,
        "execution_millis": 360,
        "execution_start": 1614693561396,
        "output_cleared": true,
        "deepnote_cell_type": "code"
      },
      "source": "oct_VPM3 = summary_2_df(vc.get_instances('octopaminergic VPM3 neuron', summary=True))\noct_VPM3",
      "execution_count": null,
      "outputs": []
    },
    {
      "cell_type": "code",
      "metadata": {
        "tags": [],
        "cell_id": "00006-0becdfbb-57cd-485b-8988-e40108253c92",
        "deepnote_to_be_reexecuted": false,
        "source_hash": null,
        "execution_millis": 3172,
        "execution_start": 1614693561754,
        "output_cleared": true,
        "deepnote_cell_type": "code"
      },
      "source": "oct_VPM3_images = vc.neo_query_wrapper.get_images(oct_VPM3['id'], stomp=True, template='JRC2018Unisex', image_folder = 'oct_VPM3b')\noct_VPM3_images",
      "execution_count": null,
      "outputs": []
    },
    {
      "cell_type": "code",
      "metadata": {
        "tags": [],
        "cell_id": "00006-5133b9ca-0b41-447b-a88f-1b5ca719402a",
        "deepnote_to_be_reexecuted": false,
        "source_hash": null,
        "execution_millis": 9587,
        "execution_start": 1614693564829,
        "output_cleared": true,
        "deepnote_cell_type": "code"
      },
      "source": "oct_VPM3_images = vc.get_images_by_type('octopaminergic VPM3 neuron', stomp=True, template='JRC2018Unisex', image_folder = 'oct_VPM3')\nnl = navis.read_swc('./oct_VPM3')\nnavis.plot3d(nl)",
      "execution_count": null,
      "outputs": []
    },
    {
      "cell_type": "markdown",
      "source": "#### Mapping via NBLAST\n\nVFB supports image based queries that find neurons with similar morphology to a query neuron. We use a matrix of [NBLAST](https://www.ncbi.nlm.nih.gov/pmc/articles/PMC4961245/) scores for this purpose.  This currently covers mapping between FAFB & Hemibrain and internal mappings within the hemibrain and FLyCircuit neurons. More mappings will be added soon, as well as support for other similarity mappings.",
      "metadata": {
        "tags": [],
        "cell_id": "00004-8c643569-3d85-4495-924e-50bc5b3ff2f4",
        "deepnote_cell_type": "markdown"
      }
    },
    {
      "cell_type": "code",
      "metadata": {
        "tags": [],
        "cell_id": "00006-08499f10-43ed-4363-8ab4-1bfdecf57a89",
        "deepnote_to_be_reexecuted": false,
        "source_hash": null,
        "execution_millis": 469,
        "execution_start": 1614693574070,
        "output_cleared": true,
        "deepnote_cell_type": "code"
      },
      "source": "summary_2_df(vc.neo_query_wrapper.get_anatomical_individual_TermInfo(['VFB_001012ay'], summary=True))",
      "execution_count": null,
      "outputs": []
    },
    {
      "cell_type": "code",
      "metadata": {
        "tags": [],
        "cell_id": "00005-0e387265-d459-4fad-8d50-acdd75735f93",
        "deepnote_to_be_reexecuted": false,
        "source_hash": null,
        "execution_millis": 955,
        "execution_start": 1614693574454,
        "output_cleared": true,
        "deepnote_cell_type": "code"
      },
      "source": "similar_to_EPG6L1 = vc.get_similar_neurons('VFB_001012ay')\nsimilar_to_EPG6L1 ",
      "execution_count": null,
      "outputs": []
    },
    {
      "cell_type": "code",
      "metadata": {
        "tags": [],
        "cell_id": "00006-424d5756-3cdc-4000-b526-83b1dc566480",
        "deepnote_to_be_reexecuted": false,
        "source_hash": null,
        "execution_millis": 4043,
        "execution_start": 1614693575231,
        "output_cleared": true,
        "deepnote_cell_type": "code"
      },
      "source": "EPG6L1_similar_images = vc.neo_query_wrapper.get_images(list(similar_to_EPG6L1['id']) + ['VFB_001012ay'], \n                                template='JRC2018Unisex',\n                                image_folder='EPG6L1',\n                                stomp=True) # Note - stomp allows an existing folder to be over-written\n\n\nEPG6L1_similar_images\n",
      "execution_count": null,
      "outputs": []
    },
    {
      "cell_type": "code",
      "metadata": {
        "tags": [],
        "cell_id": "00007-8706bc18-e6fd-4264-ad6a-cbba1faa0239",
        "deepnote_to_be_reexecuted": false,
        "source_hash": null,
        "execution_millis": 0,
        "execution_start": 1614693579190,
        "output_cleared": true,
        "deepnote_cell_type": "code"
      },
      "source": "list(EPG6L1_similar_images['parents_label'])",
      "execution_count": null,
      "outputs": []
    },
    {
      "cell_type": "code",
      "metadata": {
        "tags": [],
        "cell_id": "00006-4dbcd82c-2cc0-41dc-8c90-0985d079c11b",
        "deepnote_to_be_reexecuted": false,
        "source_hash": null,
        "execution_millis": 4934,
        "execution_start": 1614693579190,
        "output_cleared": true,
        "deepnote_cell_type": "code"
      },
      "source": "nl = navis.read_swc('./EPG6L1')\nnl.plot3d(hover_name=True)",
      "execution_count": null,
      "outputs": []
    },
    {
      "cell_type": "code",
      "metadata": {
        "tags": [],
        "cell_id": "00007-d4746419-3663-4da3-a272-59f631298ced",
        "deepnote_to_be_reexecuted": false,
        "source_hash": null,
        "execution_millis": 244,
        "execution_start": 1614693584004,
        "output_cleared": true,
        "deepnote_cell_type": "code"
      },
      "source": "## Generate a link to display these neurons on VFB\n\nprint(vc.get_vfb_link(list(similar_to_EPG6L1['id']) + ['VFB_001012ay'], template='JRC2018Unisex'))\n",
      "execution_count": null,
      "outputs": []
    },
    {
      "cell_type": "markdown",
      "source": "Note: to clean up 'spiky' neurons with obvious alignment issues you can use the navis function [despike](https://navis.readthedocs.io/en/latest/source/tutorials/generated/navis.despike_neuron.html#navis.despike_neuron)",
      "metadata": {
        "tags": [],
        "cell_id": "00015-e4228455-d46b-495b-894c-e2f8b5865e59",
        "deepnote_cell_type": "markdown"
      }
    },
    {
      "cell_type": "markdown",
      "source": "<a style='text-decoration:none;line-height:16px;display:flex;color:#5B5B62;padding:10px;justify-content:end;' href='https://deepnote.com?utm_source=created-in-deepnote-cell&projectId=94cb7c07-bfd7-4142-b5f9-bec41746df04' target=\"_blank\">\n<img style='display:inline;max-height:16px;margin:0px;margin-right:7.5px;' src='data:image/svg+xml;base64,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' > </img>\nCreated in <span style='font-weight:600;margin-left:4px;'>Deepnote</span></a>",
      "metadata": {
        "tags": [],
        "created_in_deepnote_cell": true,
        "deepnote_cell_type": "markdown"
      }
    }
  ],
  "nbformat": 4,
  "nbformat_minor": 2,
  "metadata": {
    "orig_nbformat": 2,
    "deepnote_notebook_id": "df8605b9-4c85-44a5-90aa-f6786056a75e",
    "deepnote": {},
    "deepnote_execution_queue": []
  }
}