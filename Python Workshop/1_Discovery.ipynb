{
  "cells": [
    {
      "cell_type": "markdown",
      "source": "Required packages: vfb-connect and python-catmaid (pymaid & navis)",
      "metadata": {
        "tags": [],
        "cell_id": "00000-d3cab687-8c75-48b6-9862-b1215893d8be",
        "deepnote_cell_type": "markdown"
      }
    },
    {
      "cell_type": "code",
      "metadata": {
        "tags": [],
        "cell_id": "00000-8f977ce1-edb3-464f-8d14-37d0507d14dc",
        "deepnote_to_be_reexecuted": false,
        "source_hash": "d547b677",
        "execution_millis": 6998,
        "output_cleared": false,
        "execution_start": 1620061435938,
        "deepnote_cell_type": "code"
      },
      "source": "!pip install vfb-connect --upgrade\n!pip install python-catmaid --upgrade",
      "execution_count": 1,
      "outputs": [
        {
          "name": "stdout",
          "text": "Requirement already satisfied: vfb-connect in /root/venv/lib/python3.7/site-packages (1.2.5)\nRequirement already satisfied: jsonpath-rw in /root/venv/lib/python3.7/site-packages (from vfb-connect) (1.4.0)\nRequirement already satisfied: pandas in /shared-libs/python3.7/py/lib/python3.7/site-packages (from vfb-connect) (1.2.4)\nRequirement already satisfied: requests in /shared-libs/python3.7/py/lib/python3.7/site-packages (from vfb-connect) (2.25.1)\nRequirement already satisfied: six in /shared-libs/python3.7/py-core/lib/python3.7/site-packages (from jsonpath-rw->vfb-connect) (1.15.0)\nRequirement already satisfied: ply in /root/venv/lib/python3.7/site-packages (from jsonpath-rw->vfb-connect) (3.11)\nRequirement already satisfied: decorator in /shared-libs/python3.7/py-core/lib/python3.7/site-packages (from jsonpath-rw->vfb-connect) (5.0.6)\nRequirement already satisfied: numpy>=1.16.5 in /root/venv/lib/python3.7/site-packages (from pandas->vfb-connect) (1.20.2)\nRequirement already satisfied: pytz>=2017.3 in /shared-libs/python3.7/py/lib/python3.7/site-packages (from pandas->vfb-connect) (2021.1)\nRequirement already satisfied: python-dateutil>=2.7.3 in /shared-libs/python3.7/py-core/lib/python3.7/site-packages (from pandas->vfb-connect) (2.8.1)\nRequirement already satisfied: idna<3,>=2.5 in /shared-libs/python3.7/py/lib/python3.7/site-packages (from requests->vfb-connect) (2.10)\nRequirement already satisfied: urllib3<1.27,>=1.21.1 in /shared-libs/python3.7/py/lib/python3.7/site-packages (from requests->vfb-connect) (1.26.4)\nRequirement already satisfied: certifi>=2017.4.17 in /shared-libs/python3.7/py/lib/python3.7/site-packages (from requests->vfb-connect) (2020.12.5)\nRequirement already satisfied: chardet<5,>=3.0.2 in /shared-libs/python3.7/py/lib/python3.7/site-packages (from requests->vfb-connect) (3.0.4)\n\u001b[33mWARNING: You are using pip version 21.0.1; however, version 21.1.1 is available.\nYou should consider upgrading via the '/root/venv/bin/python -m pip install --upgrade pip' command.\u001b[0m\nRequirement already satisfied: python-catmaid in /root/venv/lib/python3.7/site-packages (2.0.4)\nRequirement already satisfied: six>=1.11.0 in /shared-libs/python3.7/py-core/lib/python3.7/site-packages (from python-catmaid) (1.15.0)\nRequirement already satisfied: networkx>=2.4 in /root/venv/lib/python3.7/site-packages (from python-catmaid) (2.5.1)\nRequirement already satisfied: setuptools>=41.0.1 in /root/venv/lib/python3.7/site-packages (from python-catmaid) (54.1.2)\nRequirement already satisfied: navis>=0.2 in /root/venv/lib/python3.7/site-packages (from python-catmaid) (0.5.3)\nRequirement already satisfied: scipy>=1.3.0 in /shared-libs/python3.7/py/lib/python3.7/site-packages (from python-catmaid) (1.6.2)\nRequirement already satisfied: psutil>=5.4.3 in /root/venv/lib/python3.7/site-packages (from python-catmaid) (5.8.0)\nRequirement already satisfied: requests-futures>=0.9.9 in /root/venv/lib/python3.7/site-packages (from python-catmaid) (1.0.0)\nRequirement already satisfied: numpy>=1.16.3 in /root/venv/lib/python3.7/site-packages (from python-catmaid) (1.20.2)\nRequirement already satisfied: pandas>=1.0 in /shared-libs/python3.7/py/lib/python3.7/site-packages (from python-catmaid) (1.2.4)\nRequirement already satisfied: requests>=2.21.0 in /shared-libs/python3.7/py/lib/python3.7/site-packages (from python-catmaid) (2.25.1)\nRequirement already satisfied: tqdm>=4.50.0 in /shared-libs/python3.7/py/lib/python3.7/site-packages (from python-catmaid) (4.60.0)\nRequirement already satisfied: ncollpyde>=0.11 in /root/venv/lib/python3.7/site-packages (from navis>=0.2->python-catmaid) (0.14.0)\nRequirement already satisfied: vispy>=0.6.4 in /root/venv/lib/python3.7/site-packages (from navis>=0.2->python-catmaid) (0.6.6)\nRequirement already satisfied: PyQt5>=5.15 in /root/venv/lib/python3.7/site-packages (from navis>=0.2->python-catmaid) (5.15.4)\nRequirement already satisfied: pypng>=0.0.18 in /root/venv/lib/python3.7/site-packages (from navis>=0.2->python-catmaid) (0.0.20)\nRequirement already satisfied: trimesh>=3.8 in /root/venv/lib/python3.7/site-packages (from navis>=0.2->python-catmaid) (3.9.15)\nRequirement already satisfied: rdata>=0.5 in /root/venv/lib/python3.7/site-packages (from navis>=0.2->python-catmaid) (0.5)\nRequirement already satisfied: matplotlib>=3.2 in /shared-libs/python3.7/py/lib/python3.7/site-packages (from navis>=0.2->python-catmaid) (3.4.1)\nRequirement already satisfied: fuzzywuzzy>=0.18 in /root/venv/lib/python3.7/site-packages (from navis>=0.2->python-catmaid) (0.18.0)\nRequirement already satisfied: plotly>=4.9 in /shared-libs/python3.7/py/lib/python3.7/site-packages (from navis>=0.2->python-catmaid) (4.14.3)\nRequirement already satisfied: pynrrd>=0.4.2 in /root/venv/lib/python3.7/site-packages (from navis>=0.2->python-catmaid) (0.4.2)\nRequirement already satisfied: pint>=0.10 in /root/venv/lib/python3.7/site-packages (from navis>=0.2->python-catmaid) (0.17)\nRequirement already satisfied: molesq>=0.2.0 in /root/venv/lib/python3.7/site-packages (from navis>=0.2->python-catmaid) (0.3.1)\nRequirement already satisfied: h5py>=3.1 in /root/venv/lib/python3.7/site-packages (from navis>=0.2->python-catmaid) (3.2.1)\nRequirement already satisfied: seaborn>=0.10 in /shared-libs/python3.7/py/lib/python3.7/site-packages (from navis>=0.2->python-catmaid) (0.11.1)\nRequirement already satisfied: typing-extensions>=3.7.4 in /shared-libs/python3.7/py-core/lib/python3.7/site-packages (from navis>=0.2->python-catmaid) (3.7.4.3)\nRequirement already satisfied: morphops>=0.1.11 in /root/venv/lib/python3.7/site-packages (from navis>=0.2->python-catmaid) (0.1.12)\nRequirement already satisfied: cached-property in /root/venv/lib/python3.7/site-packages (from h5py>=3.1->navis>=0.2->python-catmaid) (1.5.2)\nRequirement already satisfied: pillow>=6.2.0 in /shared-libs/python3.7/py/lib/python3.7/site-packages (from matplotlib>=3.2->navis>=0.2->python-catmaid) (8.2.0)\nRequirement already satisfied: cycler>=0.10 in /shared-libs/python3.7/py/lib/python3.7/site-packages (from matplotlib>=3.2->navis>=0.2->python-catmaid) (0.10.0)\nRequirement already satisfied: python-dateutil>=2.7 in /shared-libs/python3.7/py-core/lib/python3.7/site-packages (from matplotlib>=3.2->navis>=0.2->python-catmaid) (2.8.1)\nRequirement already satisfied: pyparsing>=2.2.1 in /shared-libs/python3.7/py-core/lib/python3.7/site-packages (from matplotlib>=3.2->navis>=0.2->python-catmaid) (2.4.7)\nRequirement already satisfied: kiwisolver>=1.0.1 in /shared-libs/python3.7/py/lib/python3.7/site-packages (from matplotlib>=3.2->navis>=0.2->python-catmaid) (1.3.1)\nCollecting decorator<5,>=4.3\n  Using cached decorator-4.4.2-py2.py3-none-any.whl (9.2 kB)\nRequirement already satisfied: pytz>=2017.3 in /shared-libs/python3.7/py/lib/python3.7/site-packages (from pandas>=1.0->python-catmaid) (2021.1)\nRequirement already satisfied: packaging in /shared-libs/python3.7/py-core/lib/python3.7/site-packages (from pint>=0.10->navis>=0.2->python-catmaid) (20.9)\nRequirement already satisfied: importlib-metadata in /shared-libs/python3.7/py-core/lib/python3.7/site-packages (from pint>=0.10->navis>=0.2->python-catmaid) (3.10.1)\nRequirement already satisfied: retrying>=1.3.3 in /shared-libs/python3.7/py/lib/python3.7/site-packages (from plotly>=4.9->navis>=0.2->python-catmaid) (1.3.3)\nRequirement already satisfied: PyQt5-sip<13,>=12.8 in /root/venv/lib/python3.7/site-packages (from PyQt5>=5.15->navis>=0.2->python-catmaid) (12.8.1)\nRequirement already satisfied: PyQt5-Qt5>=5.15 in /root/venv/lib/python3.7/site-packages (from PyQt5>=5.15->navis>=0.2->python-catmaid) (5.15.2)\nRequirement already satisfied: xarray in /root/venv/lib/python3.7/site-packages (from rdata>=0.5->navis>=0.2->python-catmaid) (0.17.0)\nRequirement already satisfied: idna<3,>=2.5 in /shared-libs/python3.7/py/lib/python3.7/site-packages (from requests>=2.21.0->python-catmaid) (2.10)\nRequirement already satisfied: chardet<5,>=3.0.2 in /shared-libs/python3.7/py/lib/python3.7/site-packages (from requests>=2.21.0->python-catmaid) (3.0.4)\nRequirement already satisfied: urllib3<1.27,>=1.21.1 in /shared-libs/python3.7/py/lib/python3.7/site-packages (from requests>=2.21.0->python-catmaid) (1.26.4)\nRequirement already satisfied: certifi>=2017.4.17 in /shared-libs/python3.7/py/lib/python3.7/site-packages (from requests>=2.21.0->python-catmaid) (2020.12.5)\nRequirement already satisfied: freetype-py in /root/venv/lib/python3.7/site-packages (from vispy>=0.6.4->navis>=0.2->python-catmaid) (2.2.0)\nRequirement already satisfied: zipp>=0.5 in /shared-libs/python3.7/py-core/lib/python3.7/site-packages (from importlib-metadata->pint>=0.10->navis>=0.2->python-catmaid) (3.4.1)\nInstalling collected packages: decorator\n  Attempting uninstall: decorator\n    Found existing installation: decorator 5.0.6\n    Not uninstalling decorator at /shared-libs/python3.7/py-core/lib/python3.7/site-packages, outside environment /root/venv\n    Can't uninstall 'decorator'. No files were found to uninstall.\nSuccessfully installed decorator-4.4.2\n\u001b[33mWARNING: You are using pip version 21.0.1; however, version 21.1.1 is available.\nYou should consider upgrading via the '/root/venv/bin/python -m pip install --upgrade pip' command.\u001b[0m\n",
          "output_type": "stream"
        }
      ]
    },
    {
      "cell_type": "markdown",
      "source": "### A note on using these notebooks\nThis is designed as an interactive tutorial. Feel free to add code cells below each example to try out variations of your own.",
      "metadata": {
        "tags": [],
        "cell_id": "00002-b9853f11-a533-4129-ab77-3a4381649c3f",
        "deepnote_cell_type": "markdown"
      }
    },
    {
      "cell_type": "markdown",
      "source": "### How to find neurons across datasets\n\nVirtualFlyBrain integrates images and connectomics profiles of neurons from many sources.  It classifies and records their properties using a standard, queryable classification ([The Drosophila Anatomy Ontology](https://www.ebi.ac.uk/ols/ontologies/fbbt)). This standardises the names of neuron types across sources, so you don't need to worry about differences in nomenclature uses and supports queries for neurons by their classification. ",
      "metadata": {
        "tags": [],
        "cell_id": "00000-79bca113-6b64-4597-ad88-b519aea26aea",
        "deepnote_cell_type": "markdown"
      }
    },
    {
      "cell_type": "code",
      "metadata": {
        "tags": [],
        "cell_id": "00000-7a8aaee6-8107-4d3e-8262-7fdb8e78edbf",
        "deepnote_to_be_reexecuted": false,
        "source_hash": "558cc218",
        "execution_millis": 6069,
        "output_cleared": false,
        "execution_start": 1620061442939,
        "deepnote_cell_type": "code"
      },
      "source": "# Import libs and initialise API objects\nfrom vfb_connect.cross_server_tools import VfbConnect\nimport pandas as pd\nvc = VfbConnect()\n\nimport pymaid\nimport navis\n\nnavis.set_pbars(jupyter=False)\npymaid.set_pbars(jupyter=False)\n\n# Connect to the VFB CATMAID server hosting the FAFB data\nrm = pymaid.connect_catmaid(server=\"https://fafb.catmaid.virtualflybrain.org/\", api_token=None, max_threads=10)\n\n# Test call to see if connection works \nprint(f'Server is running CATMAID version {rm.catmaid_version}')\n",
      "execution_count": 2,
      "outputs": [
        {
          "name": "stderr",
          "text": "WARNING: Could not load OpenGL library.\nINFO  : Global CATMAID instance set. Caching is ON. (pymaid)\nServer is running CATMAID version 2020.02.15-990-gb5aac7433\n",
          "output_type": "stream"
        }
      ]
    },
    {
      "cell_type": "markdown",
      "source": "### Finds neurons by type (classification) across datasets\n\nWe can use the `vc.get_instances` method in combination with theNname or Symbol of a neuron type on VFB to find individual neurons from multiple sources.\n\nUse the search tool on [VFB](http://virtualflybrain.org) to find neuron types by name or synonym:\n\n<img src=\"https://user-images.githubusercontent.com/112839/109564687-535c9380-7ad9-11eb-80e9-5a5bc21cd915.png\" width=30% height=30%>\n<img src=\"https://user-images.githubusercontent.com/112839/109565128-eac1e680-7ad9-11eb-9649-1ec55a298a1b.png\" width=30% height=30%>\n\nUse either the full name or the Symbol to query for neurons:",
      "metadata": {
        "tags": [],
        "cell_id": "00001-3d466554-95ec-42b9-af26-4d0c9eee3e2c",
        "deepnote_cell_type": "markdown"
      }
    },
    {
      "cell_type": "code",
      "metadata": {
        "tags": [],
        "cell_id": "00002-0f08c5a1-913b-4a33-be18-d83db2c4809b",
        "deepnote_to_be_reexecuted": false,
        "source_hash": "32c9c2ad",
        "execution_millis": 429,
        "output_cleared": false,
        "execution_start": 1620061449012,
        "deepnote_cell_type": "code"
      },
      "source": "DA3adPN = vc.get_instances(\"DA3_adPN\", summary=True)\npd.DataFrame.from_records(DA3adPN)",
      "execution_count": 3,
      "outputs": [
        {
          "output_type": "execute_result",
          "execution_count": 3,
          "data": {
            "application/vnd.deepnote.dataframe.v2+json": {
              "row_count": 6,
              "column_count": 11,
              "columns": [
                {
                  "name": "label",
                  "dtype": "object",
                  "stats": {
                    "unique_count": 6,
                    "nan_count": 0,
                    "categories": [
                      {
                        "name": "Uniglomerular mALT DA3 adPN#L1 (FAFB:2449792)",
                        "count": 1
                      },
                      {
                        "name": "Uniglomerular mALT DA3 adPN#R2 (FAFB:65465)",
                        "count": 1
                      },
                      {
                        "name": "4 others",
                        "count": 4
                      }
                    ]
                  }
                },
                {
                  "name": "symbol",
                  "dtype": "object",
                  "stats": {
                    "unique_count": 1,
                    "nan_count": 0,
                    "categories": [
                      {
                        "name": "",
                        "count": 6
                      }
                    ]
                  }
                },
                {
                  "name": "id",
                  "dtype": "object",
                  "stats": {
                    "unique_count": 6,
                    "nan_count": 0,
                    "categories": [
                      {
                        "name": "VFB_0010123h",
                        "count": 1
                      },
                      {
                        "name": "VFB_00101240",
                        "count": 1
                      },
                      {
                        "name": "4 others",
                        "count": 4
                      }
                    ]
                  }
                },
                {
                  "name": "tags",
                  "dtype": "object",
                  "stats": {
                    "unique_count": 3,
                    "nan_count": 0,
                    "categories": [
                      {
                        "name": "Entity|has_image|Adult|Anatomy|has_neuron_connectivity|Cell|Cholinergic|Individual|Nervous_system|Neuron",
                        "count": 2
                      },
                      {
                        "name": "Entity|has_image|Adult|Anatomy|has_neuron_connectivity|Cell|Cholinergic|Individual|NBLAST|Nervous_system|Neuron",
                        "count": 2
                      },
                      {
                        "name": "Entity|has_image|Adult|Anatomy|has_neuron_connectivity|Cell|Cholinergic|Individual|has_region_connectivity|NBLAST|Nervous_system|Neuron",
                        "count": 2
                      }
                    ]
                  }
                },
                {
                  "name": "parents_label",
                  "dtype": "object",
                  "stats": {
                    "unique_count": 1,
                    "nan_count": 0,
                    "categories": [
                      {
                        "name": "adult antennal lobe projection neuron DA3 adPN",
                        "count": 6
                      }
                    ]
                  }
                },
                {
                  "name": "parents_id",
                  "dtype": "object",
                  "stats": {
                    "unique_count": 1,
                    "nan_count": 0,
                    "categories": [
                      {
                        "name": "FBbt_00100384",
                        "count": 6
                      }
                    ]
                  }
                },
                {
                  "name": "data_source",
                  "dtype": "object",
                  "stats": {
                    "unique_count": 2,
                    "nan_count": 0,
                    "categories": [
                      {
                        "name": "catmaid_fafb",
                        "count": 4
                      },
                      {
                        "name": "neuprint_JRC_Hemibrain_1point1",
                        "count": 2
                      }
                    ]
                  }
                },
                {
                  "name": "accession",
                  "dtype": "object",
                  "stats": {
                    "unique_count": 6,
                    "nan_count": 0,
                    "categories": [
                      {
                        "name": "2449792",
                        "count": 1
                      },
                      {
                        "name": "65465",
                        "count": 1
                      },
                      {
                        "name": "4 others",
                        "count": 4
                      }
                    ]
                  }
                },
                {
                  "name": "templates",
                  "dtype": "object",
                  "stats": {
                    "unique_count": 5,
                    "nan_count": 0,
                    "categories": [
                      {
                        "name": "JRC2018Unisex",
                        "count": 2
                      },
                      {
                        "name": "adult brain template JFRC2|JRC2018Unisex",
                        "count": 1
                      },
                      {
                        "name": "3 others",
                        "count": 3
                      }
                    ]
                  }
                },
                {
                  "name": "dataset",
                  "dtype": "object",
                  "stats": {
                    "unique_count": 1,
                    "nan_count": 0,
                    "categories": [
                      {
                        "name": "None",
                        "count": 6
                      }
                    ]
                  }
                },
                {
                  "name": "license",
                  "dtype": "object",
                  "stats": {
                    "unique_count": 1,
                    "nan_count": 0,
                    "categories": [
                      {
                        "name": "",
                        "count": 6
                      }
                    ]
                  }
                },
                {
                  "name": "_deepnote_index_column",
                  "dtype": "int64"
                }
              ],
              "rows_top": [
                {
                  "label": "Uniglomerular mALT DA3 adPN#L1 (FAFB:2449792)",
                  "symbol": "",
                  "id": "VFB_0010123h",
                  "tags": "Entity|has_image|Adult|Anatomy|has_neuron_connectivity|Cell|Cholinergic|Individual|Nervous_system|Neuron",
                  "parents_label": "adult antennal lobe projection neuron DA3 adPN",
                  "parents_id": "FBbt_00100384",
                  "data_source": "catmaid_fafb",
                  "accession": "2449792",
                  "templates": "JRC2018Unisex",
                  "dataset": "None",
                  "license": "",
                  "_deepnote_index_column": 0
                },
                {
                  "label": "Uniglomerular mALT DA3 adPN#R2 (FAFB:65465)",
                  "symbol": "",
                  "id": "VFB_00101240",
                  "tags": "Entity|has_image|Adult|Anatomy|has_neuron_connectivity|Cell|Cholinergic|Individual|NBLAST|Nervous_system|Neuron",
                  "parents_label": "adult antennal lobe projection neuron DA3 adPN",
                  "parents_id": "FBbt_00100384",
                  "data_source": "catmaid_fafb",
                  "accession": "65465",
                  "templates": "adult brain template JFRC2|JRC2018Unisex",
                  "dataset": "None",
                  "license": "",
                  "_deepnote_index_column": 1
                },
                {
                  "label": "Uniglomerular mALT DA3 adPN#R1 (FAFB:57349)",
                  "symbol": "",
                  "id": "VFB_00101239",
                  "tags": "Entity|has_image|Adult|Anatomy|has_neuron_connectivity|Cell|Cholinergic|Individual|NBLAST|Nervous_system|Neuron",
                  "parents_label": "adult antennal lobe projection neuron DA3 adPN",
                  "parents_id": "FBbt_00100384",
                  "data_source": "catmaid_fafb",
                  "accession": "57349",
                  "templates": "JRC2018Unisex|adult brain template JFRC2",
                  "dataset": "None",
                  "license": "",
                  "_deepnote_index_column": 2
                },
                {
                  "label": "DA3_adPN_R (FlyEM-HB:1703683361)",
                  "symbol": "",
                  "id": "VFB_jrchjtdn",
                  "tags": "Entity|has_image|Adult|Anatomy|has_neuron_connectivity|Cell|Cholinergic|Individual|has_region_connectivity|NBLAST|Nervous_system|Neuron",
                  "parents_label": "adult antennal lobe projection neuron DA3 adPN",
                  "parents_id": "FBbt_00100384",
                  "data_source": "neuprint_JRC_Hemibrain_1point1",
                  "accession": "1703683361",
                  "templates": "JRC2018Unisex|JRC_FlyEM_Hemibrain",
                  "dataset": "None",
                  "license": "",
                  "_deepnote_index_column": 3
                },
                {
                  "label": "Uniglomerular mALT DA3 adPN#L2 (FAFB:2350853)",
                  "symbol": "",
                  "id": "VFB_0010122u",
                  "tags": "Entity|has_image|Adult|Anatomy|has_neuron_connectivity|Cell|Cholinergic|Individual|Nervous_system|Neuron",
                  "parents_label": "adult antennal lobe projection neuron DA3 adPN",
                  "parents_id": "FBbt_00100384",
                  "data_source": "catmaid_fafb",
                  "accession": "2350853",
                  "templates": "JRC2018Unisex",
                  "dataset": "None",
                  "license": "",
                  "_deepnote_index_column": 4
                },
                {
                  "label": "DA3_adPN_R (FlyEM-HB:666135689)",
                  "symbol": "",
                  "id": "VFB_jrchjtdo",
                  "tags": "Entity|has_image|Adult|Anatomy|has_neuron_connectivity|Cell|Cholinergic|Individual|has_region_connectivity|NBLAST|Nervous_system|Neuron",
                  "parents_label": "adult antennal lobe projection neuron DA3 adPN",
                  "parents_id": "FBbt_00100384",
                  "data_source": "neuprint_JRC_Hemibrain_1point1",
                  "accession": "666135689",
                  "templates": "JRC_FlyEM_Hemibrain|JRC2018Unisex",
                  "dataset": "None",
                  "license": "",
                  "_deepnote_index_column": 5
                }
              ],
              "rows_bottom": null
            },
            "text/plain": "                                           label symbol            id  \\\n0  Uniglomerular mALT DA3 adPN#L1 (FAFB:2449792)         VFB_0010123h   \n1    Uniglomerular mALT DA3 adPN#R2 (FAFB:65465)         VFB_00101240   \n2    Uniglomerular mALT DA3 adPN#R1 (FAFB:57349)         VFB_00101239   \n3               DA3_adPN_R (FlyEM-HB:1703683361)         VFB_jrchjtdn   \n4  Uniglomerular mALT DA3 adPN#L2 (FAFB:2350853)         VFB_0010122u   \n5                DA3_adPN_R (FlyEM-HB:666135689)         VFB_jrchjtdo   \n\n                                                tags  \\\n0  Entity|has_image|Adult|Anatomy|has_neuron_conn...   \n1  Entity|has_image|Adult|Anatomy|has_neuron_conn...   \n2  Entity|has_image|Adult|Anatomy|has_neuron_conn...   \n3  Entity|has_image|Adult|Anatomy|has_neuron_conn...   \n4  Entity|has_image|Adult|Anatomy|has_neuron_conn...   \n5  Entity|has_image|Adult|Anatomy|has_neuron_conn...   \n\n                                    parents_label     parents_id  \\\n0  adult antennal lobe projection neuron DA3 adPN  FBbt_00100384   \n1  adult antennal lobe projection neuron DA3 adPN  FBbt_00100384   \n2  adult antennal lobe projection neuron DA3 adPN  FBbt_00100384   \n3  adult antennal lobe projection neuron DA3 adPN  FBbt_00100384   \n4  adult antennal lobe projection neuron DA3 adPN  FBbt_00100384   \n5  adult antennal lobe projection neuron DA3 adPN  FBbt_00100384   \n\n                      data_source   accession  \\\n0                    catmaid_fafb     2449792   \n1                    catmaid_fafb       65465   \n2                    catmaid_fafb       57349   \n3  neuprint_JRC_Hemibrain_1point1  1703683361   \n4                    catmaid_fafb     2350853   \n5  neuprint_JRC_Hemibrain_1point1   666135689   \n\n                                  templates dataset license  \n0                             JRC2018Unisex    None          \n1  adult brain template JFRC2|JRC2018Unisex    None          \n2  JRC2018Unisex|adult brain template JFRC2    None          \n3         JRC2018Unisex|JRC_FlyEM_Hemibrain    None          \n4                             JRC2018Unisex    None          \n5         JRC_FlyEM_Hemibrain|JRC2018Unisex    None          ",
            "text/html": "<div>\n<style scoped>\n    .dataframe tbody tr th:only-of-type {\n        vertical-align: middle;\n    }\n\n    .dataframe tbody tr th {\n        vertical-align: top;\n    }\n\n    .dataframe thead th {\n        text-align: right;\n    }\n</style>\n<table border=\"1\" class=\"dataframe\">\n  <thead>\n    <tr style=\"text-align: right;\">\n      <th></th>\n      <th>label</th>\n      <th>symbol</th>\n      <th>id</th>\n      <th>tags</th>\n      <th>parents_label</th>\n      <th>parents_id</th>\n      <th>data_source</th>\n      <th>accession</th>\n      <th>templates</th>\n      <th>dataset</th>\n      <th>license</th>\n    </tr>\n  </thead>\n  <tbody>\n    <tr>\n      <th>0</th>\n      <td>Uniglomerular mALT DA3 adPN#L1 (FAFB:2449792)</td>\n      <td></td>\n      <td>VFB_0010123h</td>\n      <td>Entity|has_image|Adult|Anatomy|has_neuron_conn...</td>\n      <td>adult antennal lobe projection neuron DA3 adPN</td>\n      <td>FBbt_00100384</td>\n      <td>catmaid_fafb</td>\n      <td>2449792</td>\n      <td>JRC2018Unisex</td>\n      <td>None</td>\n      <td></td>\n    </tr>\n    <tr>\n      <th>1</th>\n      <td>Uniglomerular mALT DA3 adPN#R2 (FAFB:65465)</td>\n      <td></td>\n      <td>VFB_00101240</td>\n      <td>Entity|has_image|Adult|Anatomy|has_neuron_conn...</td>\n      <td>adult antennal lobe projection neuron DA3 adPN</td>\n      <td>FBbt_00100384</td>\n      <td>catmaid_fafb</td>\n      <td>65465</td>\n      <td>adult brain template JFRC2|JRC2018Unisex</td>\n      <td>None</td>\n      <td></td>\n    </tr>\n    <tr>\n      <th>2</th>\n      <td>Uniglomerular mALT DA3 adPN#R1 (FAFB:57349)</td>\n      <td></td>\n      <td>VFB_00101239</td>\n      <td>Entity|has_image|Adult|Anatomy|has_neuron_conn...</td>\n      <td>adult antennal lobe projection neuron DA3 adPN</td>\n      <td>FBbt_00100384</td>\n      <td>catmaid_fafb</td>\n      <td>57349</td>\n      <td>JRC2018Unisex|adult brain template JFRC2</td>\n      <td>None</td>\n      <td></td>\n    </tr>\n    <tr>\n      <th>3</th>\n      <td>DA3_adPN_R (FlyEM-HB:1703683361)</td>\n      <td></td>\n      <td>VFB_jrchjtdn</td>\n      <td>Entity|has_image|Adult|Anatomy|has_neuron_conn...</td>\n      <td>adult antennal lobe projection neuron DA3 adPN</td>\n      <td>FBbt_00100384</td>\n      <td>neuprint_JRC_Hemibrain_1point1</td>\n      <td>1703683361</td>\n      <td>JRC2018Unisex|JRC_FlyEM_Hemibrain</td>\n      <td>None</td>\n      <td></td>\n    </tr>\n    <tr>\n      <th>4</th>\n      <td>Uniglomerular mALT DA3 adPN#L2 (FAFB:2350853)</td>\n      <td></td>\n      <td>VFB_0010122u</td>\n      <td>Entity|has_image|Adult|Anatomy|has_neuron_conn...</td>\n      <td>adult antennal lobe projection neuron DA3 adPN</td>\n      <td>FBbt_00100384</td>\n      <td>catmaid_fafb</td>\n      <td>2350853</td>\n      <td>JRC2018Unisex</td>\n      <td>None</td>\n      <td></td>\n    </tr>\n    <tr>\n      <th>5</th>\n      <td>DA3_adPN_R (FlyEM-HB:666135689)</td>\n      <td></td>\n      <td>VFB_jrchjtdo</td>\n      <td>Entity|has_image|Adult|Anatomy|has_neuron_conn...</td>\n      <td>adult antennal lobe projection neuron DA3 adPN</td>\n      <td>FBbt_00100384</td>\n      <td>neuprint_JRC_Hemibrain_1point1</td>\n      <td>666135689</td>\n      <td>JRC_FlyEM_Hemibrain|JRC2018Unisex</td>\n      <td>None</td>\n      <td></td>\n    </tr>\n  </tbody>\n</table>\n</div>"
          },
          "metadata": {}
        }
      ]
    },
    {
      "cell_type": "markdown",
      "source": "### Find neurons by location\n\nWe can use the same method to search for neurons by location, using simple queries.  See [Semantic query guide](https://vfb-connect.readthedocs.io/en/latest/Semantic_queries.html) for more info.",
      "metadata": {
        "tags": [],
        "cell_id": "00004-d350500b-89e9-4a83-9add-bb45e436dc1f",
        "deepnote_cell_type": "markdown"
      }
    },
    {
      "cell_type": "code",
      "metadata": {
        "tags": [],
        "cell_id": "00004-dcc17021-330f-4898-877c-cf190a55c379",
        "deepnote_to_be_reexecuted": false,
        "source_hash": "1e03ca3a",
        "execution_millis": 2426,
        "output_cleared": false,
        "execution_start": 1620061449435,
        "deepnote_cell_type": "code"
      },
      "source": "# Find neurons by location. The following query works across multiple data sources and both sides of the brain.  \n# Results may be incomplete & may include minor overlap inferred from low synapse counts\n\nneurons_in_DA3 = vc.get_instances(\"'neuron' that 'overlaps' some 'antennal lobe glomerulus DA3'\", summary=True)\nneurons_in_DA3_tab = pd.DataFrame.from_records(neurons_in_DA3)\nneurons_in_DA3_tab[0:5]\n",
      "execution_count": 4,
      "outputs": [
        {
          "name": "stdout",
          "text": "Running query: FBbt:00005106 that RO:0002131 some FBbt:00003934\nQuery URL: http://owl.virtualflybrain.org/kbs/vfb/instances?object=FBbt%3A00005106+that+RO%3A0002131+some+FBbt%3A00003934&prefixes=%7B%22FBbt%22%3A+%22http%3A%2F%2Fpurl.obolibrary.org%2Fobo%2FFBbt_%22%2C+%22RO%22%3A+%22http%3A%2F%2Fpurl.obolibrary.org%2Fobo%2FRO_%22%2C+%22BFO%22%3A+%22http%3A%2F%2Fpurl.obolibrary.org%2Fobo%2FBFO_%22%7D&direct=False\nQuery results: 158\n",
          "output_type": "stream"
        },
        {
          "output_type": "execute_result",
          "execution_count": 4,
          "data": {
            "application/vnd.deepnote.dataframe.v2+json": {
              "row_count": 5,
              "column_count": 11,
              "columns": [
                {
                  "name": "label",
                  "dtype": "object",
                  "stats": {
                    "unique_count": 5,
                    "nan_count": 0,
                    "categories": [
                      {
                        "name": "ORN_D (FlyEM-HB:1639368236)",
                        "count": 1
                      },
                      {
                        "name": "lLN1_b_R (FlyEM-HB:5813078440)",
                        "count": 1
                      },
                      {
                        "name": "3 others",
                        "count": 3
                      }
                    ]
                  }
                },
                {
                  "name": "symbol",
                  "dtype": "object",
                  "stats": {
                    "unique_count": 1,
                    "nan_count": 0,
                    "categories": [
                      {
                        "name": "",
                        "count": 5
                      }
                    ]
                  }
                },
                {
                  "name": "id",
                  "dtype": "object",
                  "stats": {
                    "unique_count": 5,
                    "nan_count": 0,
                    "categories": [
                      {
                        "name": "VFB_jrchk121",
                        "count": 1
                      },
                      {
                        "name": "VFB_jrchk8a7",
                        "count": 1
                      },
                      {
                        "name": "3 others",
                        "count": 3
                      }
                    ]
                  }
                },
                {
                  "name": "tags",
                  "dtype": "object",
                  "stats": {
                    "unique_count": 3,
                    "nan_count": 0,
                    "categories": [
                      {
                        "name": "Entity|has_image|Adult|Anatomy|has_neuron_connectivity|Cell|Individual|has_region_connectivity|NBLAST|Nervous_system|Neuron",
                        "count": 2
                      },
                      {
                        "name": "Entity|has_image|Adult|Anatomy|has_neuron_connectivity|Cell|Individual|Sensory_neuron|has_region_connectivity|Nervous_system|Neuron",
                        "count": 2
                      },
                      {
                        "name": "Entity|has_image|Adult|Anatomy|has_neuron_connectivity|Cell|Individual|Sensory_neuron|has_region_connectivity|NBLAST|Nervous_system|Neuron",
                        "count": 1
                      }
                    ]
                  }
                },
                {
                  "name": "parents_label",
                  "dtype": "object",
                  "stats": {
                    "unique_count": 5,
                    "nan_count": 0,
                    "categories": [
                      {
                        "name": "adult olfactory receptor neuron Or69a",
                        "count": 1
                      },
                      {
                        "name": "adult antennal lobe local neuron type 1 lLN",
                        "count": 1
                      },
                      {
                        "name": "3 others",
                        "count": 3
                      }
                    ]
                  }
                },
                {
                  "name": "parents_id",
                  "dtype": "object",
                  "stats": {
                    "unique_count": 5,
                    "nan_count": 0,
                    "categories": [
                      {
                        "name": "FBbt_00067034",
                        "count": 1
                      },
                      {
                        "name": "FBbt_20003740",
                        "count": 1
                      },
                      {
                        "name": "3 others",
                        "count": 3
                      }
                    ]
                  }
                },
                {
                  "name": "data_source",
                  "dtype": "object",
                  "stats": {
                    "unique_count": 1,
                    "nan_count": 0,
                    "categories": [
                      {
                        "name": "neuprint_JRC_Hemibrain_1point1",
                        "count": 5
                      }
                    ]
                  }
                },
                {
                  "name": "accession",
                  "dtype": "object",
                  "stats": {
                    "unique_count": 5,
                    "nan_count": 0,
                    "categories": [
                      {
                        "name": "1639368236",
                        "count": 1
                      },
                      {
                        "name": "5813078440",
                        "count": 1
                      },
                      {
                        "name": "3 others",
                        "count": 3
                      }
                    ]
                  }
                },
                {
                  "name": "templates",
                  "dtype": "object",
                  "stats": {
                    "unique_count": 2,
                    "nan_count": 0,
                    "categories": [
                      {
                        "name": "JRC2018Unisex|JRC_FlyEM_Hemibrain",
                        "count": 3
                      },
                      {
                        "name": "JRC_FlyEM_Hemibrain|JRC2018Unisex",
                        "count": 2
                      }
                    ]
                  }
                },
                {
                  "name": "dataset",
                  "dtype": "object",
                  "stats": {
                    "unique_count": 1,
                    "nan_count": 0,
                    "categories": [
                      {
                        "name": "None",
                        "count": 5
                      }
                    ]
                  }
                },
                {
                  "name": "license",
                  "dtype": "object",
                  "stats": {
                    "unique_count": 1,
                    "nan_count": 0,
                    "categories": [
                      {
                        "name": "",
                        "count": 5
                      }
                    ]
                  }
                },
                {
                  "name": "_deepnote_index_column",
                  "dtype": "int64"
                }
              ],
              "rows_top": [
                {
                  "label": "ORN_D (FlyEM-HB:1639368236)",
                  "symbol": "",
                  "id": "VFB_jrchk121",
                  "tags": "Entity|has_image|Adult|Anatomy|has_neuron_connectivity|Cell|Individual|Sensory_neuron|has_region_connectivity|NBLAST|Nervous_system|Neuron",
                  "parents_label": "adult olfactory receptor neuron Or69a",
                  "parents_id": "FBbt_00067034",
                  "data_source": "neuprint_JRC_Hemibrain_1point1",
                  "accession": "1639368236",
                  "templates": "JRC2018Unisex|JRC_FlyEM_Hemibrain",
                  "dataset": "None",
                  "license": "",
                  "_deepnote_index_column": 0
                },
                {
                  "label": "lLN1_b_R (FlyEM-HB:5813078440)",
                  "symbol": "",
                  "id": "VFB_jrchk8a7",
                  "tags": "Entity|has_image|Adult|Anatomy|has_neuron_connectivity|Cell|Individual|has_region_connectivity|NBLAST|Nervous_system|Neuron",
                  "parents_label": "adult antennal lobe local neuron type 1 lLN",
                  "parents_id": "FBbt_20003740",
                  "data_source": "neuprint_JRC_Hemibrain_1point1",
                  "accession": "5813078440",
                  "templates": "JRC2018Unisex|JRC_FlyEM_Hemibrain",
                  "dataset": "None",
                  "license": "",
                  "_deepnote_index_column": 1
                },
                {
                  "label": "ORN_DA1_L (FlyEM-HB:1672311578)",
                  "symbol": "",
                  "id": "VFB_jrchk13h",
                  "tags": "Entity|has_image|Adult|Anatomy|has_neuron_connectivity|Cell|Individual|Sensory_neuron|has_region_connectivity|Nervous_system|Neuron",
                  "parents_label": "adult olfactory receptor neuron Or67d",
                  "parents_id": "FBbt_00067031",
                  "data_source": "neuprint_JRC_Hemibrain_1point1",
                  "accession": "1672311578",
                  "templates": "JRC2018Unisex|JRC_FlyEM_Hemibrain",
                  "dataset": "None",
                  "license": "",
                  "_deepnote_index_column": 2
                },
                {
                  "label": "M_vPNml53_R (FlyEM-HB:5813008771)",
                  "symbol": "",
                  "id": "VFB_jrchk0y3",
                  "tags": "Entity|has_image|Adult|Anatomy|has_neuron_connectivity|Cell|Individual|has_region_connectivity|NBLAST|Nervous_system|Neuron",
                  "parents_label": "adult multiglomerular antennal lobe projection neuron type 53 vPN",
                  "parents_id": "FBbt_20003830",
                  "data_source": "neuprint_JRC_Hemibrain_1point1",
                  "accession": "5813008771",
                  "templates": "JRC_FlyEM_Hemibrain|JRC2018Unisex",
                  "dataset": "None",
                  "license": "",
                  "_deepnote_index_column": 3
                },
                {
                  "label": "ORN_DA3 (FlyEM-HB:1734718131)",
                  "symbol": "",
                  "id": "VFB_jrchk18m",
                  "tags": "Entity|has_image|Adult|Anatomy|has_neuron_connectivity|Cell|Individual|Sensory_neuron|has_region_connectivity|Nervous_system|Neuron",
                  "parents_label": "adult olfactory receptor neuron Or23a",
                  "parents_id": "FBbt_00067033",
                  "data_source": "neuprint_JRC_Hemibrain_1point1",
                  "accession": "1734718131",
                  "templates": "JRC_FlyEM_Hemibrain|JRC2018Unisex",
                  "dataset": "None",
                  "license": "",
                  "_deepnote_index_column": 4
                }
              ],
              "rows_bottom": null
            },
            "text/plain": "                               label symbol            id  \\\n0        ORN_D (FlyEM-HB:1639368236)         VFB_jrchk121   \n1     lLN1_b_R (FlyEM-HB:5813078440)         VFB_jrchk8a7   \n2    ORN_DA1_L (FlyEM-HB:1672311578)         VFB_jrchk13h   \n3  M_vPNml53_R (FlyEM-HB:5813008771)         VFB_jrchk0y3   \n4      ORN_DA3 (FlyEM-HB:1734718131)         VFB_jrchk18m   \n\n                                                tags  \\\n0  Entity|has_image|Adult|Anatomy|has_neuron_conn...   \n1  Entity|has_image|Adult|Anatomy|has_neuron_conn...   \n2  Entity|has_image|Adult|Anatomy|has_neuron_conn...   \n3  Entity|has_image|Adult|Anatomy|has_neuron_conn...   \n4  Entity|has_image|Adult|Anatomy|has_neuron_conn...   \n\n                                       parents_label     parents_id  \\\n0              adult olfactory receptor neuron Or69a  FBbt_00067034   \n1        adult antennal lobe local neuron type 1 lLN  FBbt_20003740   \n2              adult olfactory receptor neuron Or67d  FBbt_00067031   \n3  adult multiglomerular antennal lobe projection...  FBbt_20003830   \n4              adult olfactory receptor neuron Or23a  FBbt_00067033   \n\n                      data_source   accession  \\\n0  neuprint_JRC_Hemibrain_1point1  1639368236   \n1  neuprint_JRC_Hemibrain_1point1  5813078440   \n2  neuprint_JRC_Hemibrain_1point1  1672311578   \n3  neuprint_JRC_Hemibrain_1point1  5813008771   \n4  neuprint_JRC_Hemibrain_1point1  1734718131   \n\n                           templates dataset license  \n0  JRC2018Unisex|JRC_FlyEM_Hemibrain    None          \n1  JRC2018Unisex|JRC_FlyEM_Hemibrain    None          \n2  JRC2018Unisex|JRC_FlyEM_Hemibrain    None          \n3  JRC_FlyEM_Hemibrain|JRC2018Unisex    None          \n4  JRC_FlyEM_Hemibrain|JRC2018Unisex    None          ",
            "text/html": "<div>\n<style scoped>\n    .dataframe tbody tr th:only-of-type {\n        vertical-align: middle;\n    }\n\n    .dataframe tbody tr th {\n        vertical-align: top;\n    }\n\n    .dataframe thead th {\n        text-align: right;\n    }\n</style>\n<table border=\"1\" class=\"dataframe\">\n  <thead>\n    <tr style=\"text-align: right;\">\n      <th></th>\n      <th>label</th>\n      <th>symbol</th>\n      <th>id</th>\n      <th>tags</th>\n      <th>parents_label</th>\n      <th>parents_id</th>\n      <th>data_source</th>\n      <th>accession</th>\n      <th>templates</th>\n      <th>dataset</th>\n      <th>license</th>\n    </tr>\n  </thead>\n  <tbody>\n    <tr>\n      <th>0</th>\n      <td>ORN_D (FlyEM-HB:1639368236)</td>\n      <td></td>\n      <td>VFB_jrchk121</td>\n      <td>Entity|has_image|Adult|Anatomy|has_neuron_conn...</td>\n      <td>adult olfactory receptor neuron Or69a</td>\n      <td>FBbt_00067034</td>\n      <td>neuprint_JRC_Hemibrain_1point1</td>\n      <td>1639368236</td>\n      <td>JRC2018Unisex|JRC_FlyEM_Hemibrain</td>\n      <td>None</td>\n      <td></td>\n    </tr>\n    <tr>\n      <th>1</th>\n      <td>lLN1_b_R (FlyEM-HB:5813078440)</td>\n      <td></td>\n      <td>VFB_jrchk8a7</td>\n      <td>Entity|has_image|Adult|Anatomy|has_neuron_conn...</td>\n      <td>adult antennal lobe local neuron type 1 lLN</td>\n      <td>FBbt_20003740</td>\n      <td>neuprint_JRC_Hemibrain_1point1</td>\n      <td>5813078440</td>\n      <td>JRC2018Unisex|JRC_FlyEM_Hemibrain</td>\n      <td>None</td>\n      <td></td>\n    </tr>\n    <tr>\n      <th>2</th>\n      <td>ORN_DA1_L (FlyEM-HB:1672311578)</td>\n      <td></td>\n      <td>VFB_jrchk13h</td>\n      <td>Entity|has_image|Adult|Anatomy|has_neuron_conn...</td>\n      <td>adult olfactory receptor neuron Or67d</td>\n      <td>FBbt_00067031</td>\n      <td>neuprint_JRC_Hemibrain_1point1</td>\n      <td>1672311578</td>\n      <td>JRC2018Unisex|JRC_FlyEM_Hemibrain</td>\n      <td>None</td>\n      <td></td>\n    </tr>\n    <tr>\n      <th>3</th>\n      <td>M_vPNml53_R (FlyEM-HB:5813008771)</td>\n      <td></td>\n      <td>VFB_jrchk0y3</td>\n      <td>Entity|has_image|Adult|Anatomy|has_neuron_conn...</td>\n      <td>adult multiglomerular antennal lobe projection...</td>\n      <td>FBbt_20003830</td>\n      <td>neuprint_JRC_Hemibrain_1point1</td>\n      <td>5813008771</td>\n      <td>JRC_FlyEM_Hemibrain|JRC2018Unisex</td>\n      <td>None</td>\n      <td></td>\n    </tr>\n    <tr>\n      <th>4</th>\n      <td>ORN_DA3 (FlyEM-HB:1734718131)</td>\n      <td></td>\n      <td>VFB_jrchk18m</td>\n      <td>Entity|has_image|Adult|Anatomy|has_neuron_conn...</td>\n      <td>adult olfactory receptor neuron Or23a</td>\n      <td>FBbt_00067033</td>\n      <td>neuprint_JRC_Hemibrain_1point1</td>\n      <td>1734718131</td>\n      <td>JRC_FlyEM_Hemibrain|JRC2018Unisex</td>\n      <td>None</td>\n      <td></td>\n    </tr>\n  </tbody>\n</table>\n</div>"
          },
          "metadata": {}
        }
      ]
    },
    {
      "cell_type": "code",
      "metadata": {
        "tags": [],
        "cell_id": "00006-d14e7552-74de-47db-b0df-2cd4880e2d37",
        "deepnote_to_be_reexecuted": false,
        "source_hash": "1d3a22e2",
        "execution_millis": 4039,
        "output_cleared": false,
        "execution_start": 1620061451863,
        "deepnote_cell_type": "code"
      },
      "source": "# Find local interneurons (intrinsic neurons) of the AL, overlapping DA3:\n\nlocal_in_DA3 = vc.get_instances(\"'local interneuron of adult antennal lobe' that 'overlaps' some 'antennal lobe glomerulus DA3'\",\n                                summary=True)\nlocal_in_DA3_tab = pd.DataFrame.from_records(local_in_DA3)\nlocal_in_DA3_tab",
      "execution_count": 5,
      "outputs": [
        {
          "name": "stdout",
          "text": "Running query: FBbt:00007390 that RO:0002131 some FBbt:00003934\nQuery URL: http://owl.virtualflybrain.org/kbs/vfb/instances?object=FBbt%3A00007390+that+RO%3A0002131+some+FBbt%3A00003934&prefixes=%7B%22FBbt%22%3A+%22http%3A%2F%2Fpurl.obolibrary.org%2Fobo%2FFBbt_%22%2C+%22RO%22%3A+%22http%3A%2F%2Fpurl.obolibrary.org%2Fobo%2FRO_%22%2C+%22BFO%22%3A+%22http%3A%2F%2Fpurl.obolibrary.org%2Fobo%2FBFO_%22%7D&direct=False\nQuery results: 53\n",
          "output_type": "stream"
        },
        {
          "output_type": "execute_result",
          "execution_count": 5,
          "data": {
            "application/vnd.deepnote.dataframe.v2+json": {
              "row_count": 53,
              "column_count": 11,
              "columns": [
                {
                  "name": "label",
                  "dtype": "object",
                  "stats": {
                    "unique_count": 53,
                    "nan_count": 0,
                    "categories": [
                      {
                        "name": "lLN1_b_R (FlyEM-HB:1610530558)",
                        "count": 1
                      },
                      {
                        "name": "lLN2T_c(Tortuous)_R (FlyEM-HB:1671292719)",
                        "count": 1
                      },
                      {
                        "name": "51 others",
                        "count": 51
                      }
                    ]
                  }
                },
                {
                  "name": "symbol",
                  "dtype": "object",
                  "stats": {
                    "unique_count": 1,
                    "nan_count": 0,
                    "categories": [
                      {
                        "name": "",
                        "count": 53
                      }
                    ]
                  }
                },
                {
                  "name": "id",
                  "dtype": "object",
                  "stats": {
                    "unique_count": 53,
                    "nan_count": 0,
                    "categories": [
                      {
                        "name": "VFB_jrchk8ac",
                        "count": 1
                      },
                      {
                        "name": "VFB_jrchk8bo",
                        "count": 1
                      },
                      {
                        "name": "51 others",
                        "count": 51
                      }
                    ]
                  }
                },
                {
                  "name": "tags",
                  "dtype": "object",
                  "stats": {
                    "unique_count": 1,
                    "nan_count": 0,
                    "categories": [
                      {
                        "name": "Entity|has_image|Adult|Anatomy|has_neuron_connectivity|Cell|Individual|has_region_connectivity|NBLAST|Nervous_system|Neuron",
                        "count": 53
                      }
                    ]
                  }
                },
                {
                  "name": "parents_label",
                  "dtype": "object",
                  "stats": {
                    "unique_count": 16,
                    "nan_count": 0,
                    "categories": [
                      {
                        "name": "adult antennal lobe local neuron type 1 lLN",
                        "count": 15
                      },
                      {
                        "name": "adult antennal lobe lateral local neuron 2T",
                        "count": 11
                      },
                      {
                        "name": "14 others",
                        "count": 27
                      }
                    ]
                  }
                },
                {
                  "name": "parents_id",
                  "dtype": "object",
                  "stats": {
                    "unique_count": 16,
                    "nan_count": 0,
                    "categories": [
                      {
                        "name": "FBbt_20003740",
                        "count": 15
                      },
                      {
                        "name": "FBbt_00049816",
                        "count": 11
                      },
                      {
                        "name": "14 others",
                        "count": 27
                      }
                    ]
                  }
                },
                {
                  "name": "data_source",
                  "dtype": "object",
                  "stats": {
                    "unique_count": 1,
                    "nan_count": 0,
                    "categories": [
                      {
                        "name": "neuprint_JRC_Hemibrain_1point1",
                        "count": 53
                      }
                    ]
                  }
                },
                {
                  "name": "accession",
                  "dtype": "object",
                  "stats": {
                    "unique_count": 53,
                    "nan_count": 0,
                    "categories": [
                      {
                        "name": "1610530558",
                        "count": 1
                      },
                      {
                        "name": "1671292719",
                        "count": 1
                      },
                      {
                        "name": "51 others",
                        "count": 51
                      }
                    ]
                  }
                },
                {
                  "name": "templates",
                  "dtype": "object",
                  "stats": {
                    "unique_count": 2,
                    "nan_count": 0,
                    "categories": [
                      {
                        "name": "JRC2018Unisex|JRC_FlyEM_Hemibrain",
                        "count": 30
                      },
                      {
                        "name": "JRC_FlyEM_Hemibrain|JRC2018Unisex",
                        "count": 23
                      }
                    ]
                  }
                },
                {
                  "name": "dataset",
                  "dtype": "object",
                  "stats": {
                    "unique_count": 1,
                    "nan_count": 0,
                    "categories": [
                      {
                        "name": "None",
                        "count": 53
                      }
                    ]
                  }
                },
                {
                  "name": "license",
                  "dtype": "object",
                  "stats": {
                    "unique_count": 1,
                    "nan_count": 0,
                    "categories": [
                      {
                        "name": "",
                        "count": 53
                      }
                    ]
                  }
                },
                {
                  "name": "_deepnote_index_column",
                  "dtype": "int64"
                }
              ],
              "rows_top": [
                {
                  "label": "lLN1_b_R (FlyEM-HB:1610530558)",
                  "symbol": "",
                  "id": "VFB_jrchk8ac",
                  "tags": "Entity|has_image|Adult|Anatomy|has_neuron_connectivity|Cell|Individual|has_region_connectivity|NBLAST|Nervous_system|Neuron",
                  "parents_label": "adult antennal lobe local neuron type 1 lLN",
                  "parents_id": "FBbt_20003740",
                  "data_source": "neuprint_JRC_Hemibrain_1point1",
                  "accession": "1610530558",
                  "templates": "JRC2018Unisex|JRC_FlyEM_Hemibrain",
                  "dataset": "None",
                  "license": "",
                  "_deepnote_index_column": 0
                },
                {
                  "label": "lLN2T_c(Tortuous)_R (FlyEM-HB:1671292719)",
                  "symbol": "",
                  "id": "VFB_jrchk8bo",
                  "tags": "Entity|has_image|Adult|Anatomy|has_neuron_connectivity|Cell|Individual|has_region_connectivity|NBLAST|Nervous_system|Neuron",
                  "parents_label": "adult antennal lobe lateral local neuron 2T",
                  "parents_id": "FBbt_00049816",
                  "data_source": "neuprint_JRC_Hemibrain_1point1",
                  "accession": "1671292719",
                  "templates": "JRC2018Unisex|JRC_FlyEM_Hemibrain",
                  "dataset": "None",
                  "license": "",
                  "_deepnote_index_column": 1
                },
                {
                  "label": "lLN2S(Star)_R (FlyEM-HB:1732995501)",
                  "symbol": "",
                  "id": "VFB_jrchk8ba",
                  "tags": "Entity|has_image|Adult|Anatomy|has_neuron_connectivity|Cell|Individual|has_region_connectivity|NBLAST|Nervous_system|Neuron",
                  "parents_label": "adult antennal lobe lateral local neuron 2S",
                  "parents_id": "FBbt_00049815",
                  "data_source": "neuprint_JRC_Hemibrain_1point1",
                  "accession": "1732995501",
                  "templates": "JRC2018Unisex|JRC_FlyEM_Hemibrain",
                  "dataset": "None",
                  "license": "",
                  "_deepnote_index_column": 2
                },
                {
                  "label": "lLN2T_e(Tortuous)_R (FlyEM-HB:1699974843)",
                  "symbol": "",
                  "id": "VFB_jrchk8br",
                  "tags": "Entity|has_image|Adult|Anatomy|has_neuron_connectivity|Cell|Individual|has_region_connectivity|NBLAST|Nervous_system|Neuron",
                  "parents_label": "adult antennal lobe lateral local neuron 2T",
                  "parents_id": "FBbt_00049816",
                  "data_source": "neuprint_JRC_Hemibrain_1point1",
                  "accession": "1699974843",
                  "templates": "JRC_FlyEM_Hemibrain|JRC2018Unisex",
                  "dataset": "None",
                  "license": "",
                  "_deepnote_index_column": 3
                },
                {
                  "label": "lLN1_b_R (FlyEM-HB:5813054622)",
                  "symbol": "",
                  "id": "VFB_jrchk8a8",
                  "tags": "Entity|has_image|Adult|Anatomy|has_neuron_connectivity|Cell|Individual|has_region_connectivity|NBLAST|Nervous_system|Neuron",
                  "parents_label": "adult antennal lobe local neuron type 1 lLN",
                  "parents_id": "FBbt_20003740",
                  "data_source": "neuprint_JRC_Hemibrain_1point1",
                  "accession": "5813054622",
                  "templates": "JRC2018Unisex|JRC_FlyEM_Hemibrain",
                  "dataset": "None",
                  "license": "",
                  "_deepnote_index_column": 4
                },
                {
                  "label": "v2LN30_R (FlyEM-HB:1671620613)",
                  "symbol": "",
                  "id": "VFB_jrchk8e8",
                  "tags": "Entity|has_image|Adult|Anatomy|has_neuron_connectivity|Cell|Individual|has_region_connectivity|NBLAST|Nervous_system|Neuron",
                  "parents_label": "adult antennal lobe local neuron type 30 v2LN",
                  "parents_id": "FBbt_20003756",
                  "data_source": "neuprint_JRC_Hemibrain_1point1",
                  "accession": "1671620613",
                  "templates": "JRC2018Unisex|JRC_FlyEM_Hemibrain",
                  "dataset": "None",
                  "license": "",
                  "_deepnote_index_column": 5
                },
                {
                  "label": "lLN1_b_R (FlyEM-HB:1642623277)",
                  "symbol": "",
                  "id": "VFB_jrchk8ad",
                  "tags": "Entity|has_image|Adult|Anatomy|has_neuron_connectivity|Cell|Individual|has_region_connectivity|NBLAST|Nervous_system|Neuron",
                  "parents_label": "adult antennal lobe local neuron type 1 lLN",
                  "parents_id": "FBbt_20003740",
                  "data_source": "neuprint_JRC_Hemibrain_1point1",
                  "accession": "1642623277",
                  "templates": "JRC2018Unisex|JRC_FlyEM_Hemibrain",
                  "dataset": "None",
                  "license": "",
                  "_deepnote_index_column": 6
                },
                {
                  "label": "lLN2T_b(Tortuous)_R (FlyEM-HB:1640572741)",
                  "symbol": "",
                  "id": "VFB_jrchk8bl",
                  "tags": "Entity|has_image|Adult|Anatomy|has_neuron_connectivity|Cell|Individual|has_region_connectivity|NBLAST|Nervous_system|Neuron",
                  "parents_label": "adult antennal lobe lateral local neuron 2T",
                  "parents_id": "FBbt_00049816",
                  "data_source": "neuprint_JRC_Hemibrain_1point1",
                  "accession": "1640572741",
                  "templates": "JRC2018Unisex|JRC_FlyEM_Hemibrain",
                  "dataset": "None",
                  "license": "",
                  "_deepnote_index_column": 7
                },
                {
                  "label": "lLN1_c_R (FlyEM-HB:1824101645)",
                  "symbol": "",
                  "id": "VFB_jrchk8ag",
                  "tags": "Entity|has_image|Adult|Anatomy|has_neuron_connectivity|Cell|Individual|has_region_connectivity|NBLAST|Nervous_system|Neuron",
                  "parents_label": "adult antennal lobe local neuron type 1 lLN",
                  "parents_id": "FBbt_20003740",
                  "data_source": "neuprint_JRC_Hemibrain_1point1",
                  "accession": "1824101645",
                  "templates": "JRC_FlyEM_Hemibrain|JRC2018Unisex",
                  "dataset": "None",
                  "license": "",
                  "_deepnote_index_column": 8
                },
                {
                  "label": "lLN2T_d(Tortuous)_R (FlyEM-HB:1667251683)",
                  "symbol": "",
                  "id": "VFB_jrchk8bp",
                  "tags": "Entity|has_image|Adult|Anatomy|has_neuron_connectivity|Cell|Individual|has_region_connectivity|NBLAST|Nervous_system|Neuron",
                  "parents_label": "adult antennal lobe lateral local neuron 2T",
                  "parents_id": "FBbt_00049816",
                  "data_source": "neuprint_JRC_Hemibrain_1point1",
                  "accession": "1667251683",
                  "templates": "JRC2018Unisex|JRC_FlyEM_Hemibrain",
                  "dataset": "None",
                  "license": "",
                  "_deepnote_index_column": 9
                },
                {
                  "label": "lLN2R_b(Regional)_R (FlyEM-HB:5813076969)",
                  "symbol": "",
                  "id": "VFB_jrchk8b6",
                  "tags": "Entity|has_image|Adult|Anatomy|has_neuron_connectivity|Cell|Individual|has_region_connectivity|NBLAST|Nervous_system|Neuron",
                  "parents_label": "adult antennal lobe lateral local neuron 2R",
                  "parents_id": "FBbt_00049814",
                  "data_source": "neuprint_JRC_Hemibrain_1point1",
                  "accession": "5813076969",
                  "templates": "JRC2018Unisex|JRC_FlyEM_Hemibrain",
                  "dataset": "None",
                  "license": "",
                  "_deepnote_index_column": 10
                },
                {
                  "label": "lLN2R_b(Regional)_R (FlyEM-HB:1702305987)",
                  "symbol": "",
                  "id": "VFB_jrchk8b5",
                  "tags": "Entity|has_image|Adult|Anatomy|has_neuron_connectivity|Cell|Individual|has_region_connectivity|NBLAST|Nervous_system|Neuron",
                  "parents_label": "adult antennal lobe lateral local neuron 2R",
                  "parents_id": "FBbt_00049814",
                  "data_source": "neuprint_JRC_Hemibrain_1point1",
                  "accession": "1702305987",
                  "templates": "JRC_FlyEM_Hemibrain|JRC2018Unisex",
                  "dataset": "None",
                  "license": "",
                  "_deepnote_index_column": 11
                },
                {
                  "label": "lLN2P_b(Patchy)_R (FlyEM-HB:1946178096)",
                  "symbol": "",
                  "id": "VFB_jrchk8au",
                  "tags": "Entity|has_image|Adult|Anatomy|has_neuron_connectivity|Cell|Individual|has_region_connectivity|NBLAST|Nervous_system|Neuron",
                  "parents_label": "adult antennal lobe lateral local neuron 2P",
                  "parents_id": "FBbt_00049813",
                  "data_source": "neuprint_JRC_Hemibrain_1point1",
                  "accession": "1946178096",
                  "templates": "JRC2018Unisex|JRC_FlyEM_Hemibrain",
                  "dataset": "None",
                  "license": "",
                  "_deepnote_index_column": 12
                },
                {
                  "label": "lLN2P_c(Patchy)_R (FlyEM-HB:2105086391)",
                  "symbol": "",
                  "id": "VFB_jrchk8b0",
                  "tags": "Entity|has_image|Adult|Anatomy|has_neuron_connectivity|Cell|Individual|has_region_connectivity|NBLAST|Nervous_system|Neuron",
                  "parents_label": "adult antennal lobe lateral local neuron 2P",
                  "parents_id": "FBbt_00049813",
                  "data_source": "neuprint_JRC_Hemibrain_1point1",
                  "accession": "2105086391",
                  "templates": "JRC2018Unisex|JRC_FlyEM_Hemibrain",
                  "dataset": "None",
                  "license": "",
                  "_deepnote_index_column": 13
                },
                {
                  "label": "lLN2T_a(Tortuous)_R (FlyEM-HB:1762354941)",
                  "symbol": "",
                  "id": "VFB_jrchk8bg",
                  "tags": "Entity|has_image|Adult|Anatomy|has_neuron_connectivity|Cell|Individual|has_region_connectivity|NBLAST|Nervous_system|Neuron",
                  "parents_label": "adult antennal lobe lateral local neuron 2T",
                  "parents_id": "FBbt_00049816",
                  "data_source": "neuprint_JRC_Hemibrain_1point1",
                  "accession": "1762354941",
                  "templates": "JRC2018Unisex|JRC_FlyEM_Hemibrain",
                  "dataset": "None",
                  "license": "",
                  "_deepnote_index_column": 14
                },
                {
                  "label": "lLN11_R (FlyEM-HB:2040301572)",
                  "symbol": "",
                  "id": "VFB_jrchk89d",
                  "tags": "Entity|has_image|Adult|Anatomy|has_neuron_connectivity|Cell|Individual|has_region_connectivity|NBLAST|Nervous_system|Neuron",
                  "parents_label": "adult antennal lobe local neuron type 11 lLN",
                  "parents_id": "FBbt_20003745",
                  "data_source": "neuprint_JRC_Hemibrain_1point1",
                  "accession": "2040301572",
                  "templates": "JRC_FlyEM_Hemibrain|JRC2018Unisex",
                  "dataset": "None",
                  "license": "",
                  "_deepnote_index_column": 15
                },
                {
                  "label": "lLN1_b_R (FlyEM-HB:5813054725)",
                  "symbol": "",
                  "id": "VFB_jrchk8ab",
                  "tags": "Entity|has_image|Adult|Anatomy|has_neuron_connectivity|Cell|Individual|has_region_connectivity|NBLAST|Nervous_system|Neuron",
                  "parents_label": "adult antennal lobe local neuron type 1 lLN",
                  "parents_id": "FBbt_20003740",
                  "data_source": "neuprint_JRC_Hemibrain_1point1",
                  "accession": "5813054725",
                  "templates": "JRC_FlyEM_Hemibrain|JRC2018Unisex",
                  "dataset": "None",
                  "license": "",
                  "_deepnote_index_column": 16
                },
                {
                  "label": "lLN2T_a(Tortuous)_R (FlyEM-HB:5813056598)",
                  "symbol": "",
                  "id": "VFB_jrchk8bi",
                  "tags": "Entity|has_image|Adult|Anatomy|has_neuron_connectivity|Cell|Individual|has_region_connectivity|NBLAST|Nervous_system|Neuron",
                  "parents_label": "adult antennal lobe lateral local neuron 2T",
                  "parents_id": "FBbt_00049816",
                  "data_source": "neuprint_JRC_Hemibrain_1point1",
                  "accession": "5813056598",
                  "templates": "JRC2018Unisex|JRC_FlyEM_Hemibrain",
                  "dataset": "None",
                  "license": "",
                  "_deepnote_index_column": 17
                },
                {
                  "label": "lLN12a_R (FlyEM-HB:1826445251)",
                  "symbol": "",
                  "id": "VFB_jrchk89g",
                  "tags": "Entity|has_image|Adult|Anatomy|has_neuron_connectivity|Cell|Individual|has_region_connectivity|NBLAST|Nervous_system|Neuron",
                  "parents_label": "adult antennal lobe local neuron type 12A lLN",
                  "parents_id": "FBbt_20003746",
                  "data_source": "neuprint_JRC_Hemibrain_1point1",
                  "accession": "1826445251",
                  "templates": "JRC2018Unisex|JRC_FlyEM_Hemibrain",
                  "dataset": "None",
                  "license": "",
                  "_deepnote_index_column": 18
                },
                {
                  "label": "lLN2T_a(Tortuous)_R (FlyEM-HB:5813054726)",
                  "symbol": "",
                  "id": "VFB_jrchk8bh",
                  "tags": "Entity|has_image|Adult|Anatomy|has_neuron_connectivity|Cell|Individual|has_region_connectivity|NBLAST|Nervous_system|Neuron",
                  "parents_label": "adult antennal lobe lateral local neuron 2T",
                  "parents_id": "FBbt_00049816",
                  "data_source": "neuprint_JRC_Hemibrain_1point1",
                  "accession": "5813054726",
                  "templates": "JRC_FlyEM_Hemibrain|JRC2018Unisex",
                  "dataset": "None",
                  "license": "",
                  "_deepnote_index_column": 19
                },
                {
                  "label": "lLN1_c_R (FlyEM-HB:1702651358)",
                  "symbol": "",
                  "id": "VFB_jrchk8aj",
                  "tags": "Entity|has_image|Adult|Anatomy|has_neuron_connectivity|Cell|Individual|has_region_connectivity|NBLAST|Nervous_system|Neuron",
                  "parents_label": "adult antennal lobe local neuron type 1 lLN",
                  "parents_id": "FBbt_20003740",
                  "data_source": "neuprint_JRC_Hemibrain_1point1",
                  "accession": "1702651358",
                  "templates": "JRC_FlyEM_Hemibrain|JRC2018Unisex",
                  "dataset": "None",
                  "license": "",
                  "_deepnote_index_column": 20
                },
                {
                  "label": "lLN1_c_R (FlyEM-HB:1578826464)",
                  "symbol": "",
                  "id": "VFB_jrchk8ah",
                  "tags": "Entity|has_image|Adult|Anatomy|has_neuron_connectivity|Cell|Individual|has_region_connectivity|NBLAST|Nervous_system|Neuron",
                  "parents_label": "adult antennal lobe local neuron type 1 lLN",
                  "parents_id": "FBbt_20003740",
                  "data_source": "neuprint_JRC_Hemibrain_1point1",
                  "accession": "1578826464",
                  "templates": "JRC2018Unisex|JRC_FlyEM_Hemibrain",
                  "dataset": "None",
                  "license": "",
                  "_deepnote_index_column": 21
                },
                {
                  "label": "lLN2S(Star)_R (FlyEM-HB:5813069085)",
                  "symbol": "",
                  "id": "VFB_jrchk8b9",
                  "tags": "Entity|has_image|Adult|Anatomy|has_neuron_connectivity|Cell|Individual|has_region_connectivity|NBLAST|Nervous_system|Neuron",
                  "parents_label": "adult antennal lobe lateral local neuron 2S",
                  "parents_id": "FBbt_00049815",
                  "data_source": "neuprint_JRC_Hemibrain_1point1",
                  "accession": "5813069085",
                  "templates": "JRC_FlyEM_Hemibrain|JRC2018Unisex",
                  "dataset": "None",
                  "license": "",
                  "_deepnote_index_column": 22
                },
                {
                  "label": "lLN2S(Star)_R (FlyEM-HB:1640922754)",
                  "symbol": "",
                  "id": "VFB_jrchk8b8",
                  "tags": "Entity|has_image|Adult|Anatomy|has_neuron_connectivity|Cell|Individual|has_region_connectivity|NBLAST|Nervous_system|Neuron",
                  "parents_label": "adult antennal lobe lateral local neuron 2S",
                  "parents_id": "FBbt_00049815",
                  "data_source": "neuprint_JRC_Hemibrain_1point1",
                  "accession": "1640922754",
                  "templates": "JRC2018Unisex|JRC_FlyEM_Hemibrain",
                  "dataset": "None",
                  "license": "",
                  "_deepnote_index_column": 23
                },
                {
                  "label": "l2LN18_R (FlyEM-HB:5813054773)",
                  "symbol": "",
                  "id": "VFB_jrchk891",
                  "tags": "Entity|has_image|Adult|Anatomy|has_neuron_connectivity|Cell|Individual|has_region_connectivity|NBLAST|Nervous_system|Neuron",
                  "parents_label": "adult antennal lobe local neuron type 18 l2LN",
                  "parents_id": "FBbt_20003734",
                  "data_source": "neuprint_JRC_Hemibrain_1point1",
                  "accession": "5813054773",
                  "templates": "JRC2018Unisex|JRC_FlyEM_Hemibrain",
                  "dataset": "None",
                  "license": "",
                  "_deepnote_index_column": 24
                },
                {
                  "label": "lLN10_R (FlyEM-HB:1825789179)",
                  "symbol": "",
                  "id": "VFB_jrchk89b",
                  "tags": "Entity|has_image|Adult|Anatomy|has_neuron_connectivity|Cell|Individual|has_region_connectivity|NBLAST|Nervous_system|Neuron",
                  "parents_label": "adult antennal lobe local neuron type 10 lLN",
                  "parents_id": "FBbt_20003744",
                  "data_source": "neuprint_JRC_Hemibrain_1point1",
                  "accession": "1825789179",
                  "templates": "JRC_FlyEM_Hemibrain|JRC2018Unisex",
                  "dataset": "None",
                  "license": "",
                  "_deepnote_index_column": 25
                },
                {
                  "label": "lLN1_a_R (FlyEM-HB:5813130064)",
                  "symbol": "",
                  "id": "VFB_jrchk8a4",
                  "tags": "Entity|has_image|Adult|Anatomy|has_neuron_connectivity|Cell|Individual|has_region_connectivity|NBLAST|Nervous_system|Neuron",
                  "parents_label": "adult antennal lobe local neuron type 1 lLN",
                  "parents_id": "FBbt_20003740",
                  "data_source": "neuprint_JRC_Hemibrain_1point1",
                  "accession": "5813130064",
                  "templates": "JRC_FlyEM_Hemibrain|JRC2018Unisex",
                  "dataset": "None",
                  "license": "",
                  "_deepnote_index_column": 26
                },
                {
                  "label": "lLN2F_b(Full)_R (FlyEM-HB:1640909284)",
                  "symbol": "",
                  "id": "VFB_jrchk8am",
                  "tags": "Entity|has_image|Adult|Anatomy|has_neuron_connectivity|Cell|Individual|has_region_connectivity|NBLAST|Nervous_system|Neuron",
                  "parents_label": "adult antennal lobe lateral local neuron 2F",
                  "parents_id": "FBbt_00049812",
                  "data_source": "neuprint_JRC_Hemibrain_1point1",
                  "accession": "1640909284",
                  "templates": "JRC2018Unisex|JRC_FlyEM_Hemibrain",
                  "dataset": "None",
                  "license": "",
                  "_deepnote_index_column": 27
                },
                {
                  "label": "lLN11_R (FlyEM-HB:1670278227)",
                  "symbol": "",
                  "id": "VFB_jrchk89e",
                  "tags": "Entity|has_image|Adult|Anatomy|has_neuron_connectivity|Cell|Individual|has_region_connectivity|NBLAST|Nervous_system|Neuron",
                  "parents_label": "adult antennal lobe local neuron type 11 lLN",
                  "parents_id": "FBbt_20003745",
                  "data_source": "neuprint_JRC_Hemibrain_1point1",
                  "accession": "1670278227",
                  "templates": "JRC2018Unisex|JRC_FlyEM_Hemibrain",
                  "dataset": "None",
                  "license": "",
                  "_deepnote_index_column": 28
                },
                {
                  "label": "lLN1_b_R (FlyEM-HB:5813069055)",
                  "symbol": "",
                  "id": "VFB_jrchk8aa",
                  "tags": "Entity|has_image|Adult|Anatomy|has_neuron_connectivity|Cell|Individual|has_region_connectivity|NBLAST|Nervous_system|Neuron",
                  "parents_label": "adult antennal lobe local neuron type 1 lLN",
                  "parents_id": "FBbt_20003740",
                  "data_source": "neuprint_JRC_Hemibrain_1point1",
                  "accession": "5813069055",
                  "templates": "JRC_FlyEM_Hemibrain|JRC2018Unisex",
                  "dataset": "None",
                  "license": "",
                  "_deepnote_index_column": 29
                },
                {
                  "label": "lLN2T_a(Tortuous)_R (FlyEM-HB:5813055277)",
                  "symbol": "",
                  "id": "VFB_jrchk8bf",
                  "tags": "Entity|has_image|Adult|Anatomy|has_neuron_connectivity|Cell|Individual|has_region_connectivity|NBLAST|Nervous_system|Neuron",
                  "parents_label": "adult antennal lobe lateral local neuron 2T",
                  "parents_id": "FBbt_00049816",
                  "data_source": "neuprint_JRC_Hemibrain_1point1",
                  "accession": "5813055277",
                  "templates": "JRC_FlyEM_Hemibrain|JRC2018Unisex",
                  "dataset": "None",
                  "license": "",
                  "_deepnote_index_column": 30
                },
                {
                  "label": "lLN1_c_R (FlyEM-HB:5813047691)",
                  "symbol": "",
                  "id": "VFB_jrchk8ae",
                  "tags": "Entity|has_image|Adult|Anatomy|has_neuron_connectivity|Cell|Individual|has_region_connectivity|NBLAST|Nervous_system|Neuron",
                  "parents_label": "adult antennal lobe local neuron type 1 lLN",
                  "parents_id": "FBbt_20003740",
                  "data_source": "neuprint_JRC_Hemibrain_1point1",
                  "accession": "5813047691",
                  "templates": "JRC_FlyEM_Hemibrain|JRC2018Unisex",
                  "dataset": "None",
                  "license": "",
                  "_deepnote_index_column": 31
                },
                {
                  "label": "v2LN35_R (FlyEM-HB:1733056086)",
                  "symbol": "",
                  "id": "VFB_jrchk8ew",
                  "tags": "Entity|has_image|Adult|Anatomy|has_neuron_connectivity|Cell|Individual|has_region_connectivity|NBLAST|Nervous_system|Neuron",
                  "parents_label": "adult antennal lobe local neuron type 35 v2LN",
                  "parents_id": "FBbt_20003766",
                  "data_source": "neuprint_JRC_Hemibrain_1point1",
                  "accession": "1733056086",
                  "templates": "JRC2018Unisex|JRC_FlyEM_Hemibrain",
                  "dataset": "None",
                  "license": "",
                  "_deepnote_index_column": 32
                },
                {
                  "label": "lLN2T_a(Tortuous)_R (FlyEM-HB:5813032595)",
                  "symbol": "",
                  "id": "VFB_jrchk8bd",
                  "tags": "Entity|has_image|Adult|Anatomy|has_neuron_connectivity|Cell|Individual|has_region_connectivity|NBLAST|Nervous_system|Neuron",
                  "parents_label": "adult antennal lobe lateral local neuron 2T",
                  "parents_id": "FBbt_00049816",
                  "data_source": "neuprint_JRC_Hemibrain_1point1",
                  "accession": "5813032595",
                  "templates": "JRC2018Unisex|JRC_FlyEM_Hemibrain",
                  "dataset": "None",
                  "license": "",
                  "_deepnote_index_column": 33
                },
                {
                  "label": "v2LN3b_R (FlyEM-HB:5813034455)",
                  "symbol": "",
                  "id": "VFB_jrchk8ff",
                  "tags": "Entity|has_image|Adult|Anatomy|has_neuron_connectivity|Cell|Individual|has_region_connectivity|NBLAST|Nervous_system|Neuron",
                  "parents_label": "adult antennal lobe local neuron type 3B v2LN",
                  "parents_id": "FBbt_20003755",
                  "data_source": "neuprint_JRC_Hemibrain_1point1",
                  "accession": "5813034455",
                  "templates": "JRC2018Unisex|JRC_FlyEM_Hemibrain",
                  "dataset": "None",
                  "license": "",
                  "_deepnote_index_column": 34
                },
                {
                  "label": "lLN2F_a(Full)_R (FlyEM-HB:5901218894)",
                  "symbol": "",
                  "id": "VFB_jrchk8ak",
                  "tags": "Entity|has_image|Adult|Anatomy|has_neuron_connectivity|Cell|Individual|has_region_connectivity|NBLAST|Nervous_system|Neuron",
                  "parents_label": "adult antennal lobe lateral local neuron 2F",
                  "parents_id": "FBbt_00049812",
                  "data_source": "neuprint_JRC_Hemibrain_1point1",
                  "accession": "5901218894",
                  "templates": "JRC_FlyEM_Hemibrain|JRC2018Unisex",
                  "dataset": "None",
                  "license": "",
                  "_deepnote_index_column": 35
                },
                {
                  "label": "v2LN3b_R (FlyEM-HB:1888199872)",
                  "symbol": "",
                  "id": "VFB_jrchk8fg",
                  "tags": "Entity|has_image|Adult|Anatomy|has_neuron_connectivity|Cell|Individual|has_region_connectivity|NBLAST|Nervous_system|Neuron",
                  "parents_label": "adult antennal lobe local neuron type 3B v2LN",
                  "parents_id": "FBbt_20003755",
                  "data_source": "neuprint_JRC_Hemibrain_1point1",
                  "accession": "1888199872",
                  "templates": "JRC2018Unisex|JRC_FlyEM_Hemibrain",
                  "dataset": "None",
                  "license": "",
                  "_deepnote_index_column": 36
                },
                {
                  "label": "lLN2F_b(Full)_R (FlyEM-HB:5813024698)",
                  "symbol": "",
                  "id": "VFB_jrchk8an",
                  "tags": "Entity|has_image|Adult|Anatomy|has_neuron_connectivity|Cell|Individual|has_region_connectivity|NBLAST|Nervous_system|Neuron",
                  "parents_label": "adult antennal lobe lateral local neuron 2F",
                  "parents_id": "FBbt_00049812",
                  "data_source": "neuprint_JRC_Hemibrain_1point1",
                  "accession": "5813024698",
                  "templates": "JRC2018Unisex|JRC_FlyEM_Hemibrain",
                  "dataset": "None",
                  "license": "",
                  "_deepnote_index_column": 37
                },
                {
                  "label": "lLN2P_a(Patchy)_R (FlyEM-HB:2041621893)",
                  "symbol": "",
                  "id": "VFB_jrchk8ao",
                  "tags": "Entity|has_image|Adult|Anatomy|has_neuron_connectivity|Cell|Individual|has_region_connectivity|NBLAST|Nervous_system|Neuron",
                  "parents_label": "adult antennal lobe lateral local neuron 2P",
                  "parents_id": "FBbt_00049813",
                  "data_source": "neuprint_JRC_Hemibrain_1point1",
                  "accession": "2041621893",
                  "templates": "JRC_FlyEM_Hemibrain|JRC2018Unisex",
                  "dataset": "None",
                  "license": "",
                  "_deepnote_index_column": 38
                },
                {
                  "label": "lLN2T_e(Tortuous)_R (FlyEM-HB:1640922516)",
                  "symbol": "",
                  "id": "VFB_jrchk8bs",
                  "tags": "Entity|has_image|Adult|Anatomy|has_neuron_connectivity|Cell|Individual|has_region_connectivity|NBLAST|Nervous_system|Neuron",
                  "parents_label": "adult antennal lobe lateral local neuron 2T",
                  "parents_id": "FBbt_00049816",
                  "data_source": "neuprint_JRC_Hemibrain_1point1",
                  "accession": "1640922516",
                  "templates": "JRC2018Unisex|JRC_FlyEM_Hemibrain",
                  "dataset": "None",
                  "license": "",
                  "_deepnote_index_column": 39
                },
                {
                  "label": "lLN1_c_R (FlyEM-HB:5813062199)",
                  "symbol": "",
                  "id": "VFB_jrchk8af",
                  "tags": "Entity|has_image|Adult|Anatomy|has_neuron_connectivity|Cell|Individual|has_region_connectivity|NBLAST|Nervous_system|Neuron",
                  "parents_label": "adult antennal lobe local neuron type 1 lLN",
                  "parents_id": "FBbt_20003740",
                  "data_source": "neuprint_JRC_Hemibrain_1point1",
                  "accession": "5813062199",
                  "templates": "JRC_FlyEM_Hemibrain|JRC2018Unisex",
                  "dataset": "None",
                  "license": "",
                  "_deepnote_index_column": 40
                },
                {
                  "label": "lLN2S(Star)_R (FlyEM-HB:1762359683)",
                  "symbol": "",
                  "id": "VFB_jrchk8bc",
                  "tags": "Entity|has_image|Adult|Anatomy|has_neuron_connectivity|Cell|Individual|has_region_connectivity|NBLAST|Nervous_system|Neuron",
                  "parents_label": "adult antennal lobe lateral local neuron 2S",
                  "parents_id": "FBbt_00049815",
                  "data_source": "neuprint_JRC_Hemibrain_1point1",
                  "accession": "1762359683",
                  "templates": "JRC2018Unisex|JRC_FlyEM_Hemibrain",
                  "dataset": "None",
                  "license": "",
                  "_deepnote_index_column": 41
                },
                {
                  "label": "lLN1_b_R (FlyEM-HB:5813054777)",
                  "symbol": "",
                  "id": "VFB_jrchk8a9",
                  "tags": "Entity|has_image|Adult|Anatomy|has_neuron_connectivity|Cell|Individual|has_region_connectivity|NBLAST|Nervous_system|Neuron",
                  "parents_label": "adult antennal lobe local neuron type 1 lLN",
                  "parents_id": "FBbt_20003740",
                  "data_source": "neuprint_JRC_Hemibrain_1point1",
                  "accession": "5813054777",
                  "templates": "JRC_FlyEM_Hemibrain|JRC2018Unisex",
                  "dataset": "None",
                  "license": "",
                  "_deepnote_index_column": 42
                },
                {
                  "label": "il3LN6_R (FlyEM-HB:5813018460)",
                  "symbol": "",
                  "id": "VFB_jrchk88v",
                  "tags": "Entity|has_image|Adult|Anatomy|has_neuron_connectivity|Cell|Individual|has_region_connectivity|NBLAST|Nervous_system|Neuron",
                  "parents_label": "antennal lobe local neuron 6",
                  "parents_id": "FBbt_00047710",
                  "data_source": "neuprint_JRC_Hemibrain_1point1",
                  "accession": "5813018460",
                  "templates": "JRC_FlyEM_Hemibrain|JRC2018Unisex",
                  "dataset": "None",
                  "license": "",
                  "_deepnote_index_column": 43
                },
                {
                  "label": "lLN16a_R (FlyEM-HB:1702318692)",
                  "symbol": "",
                  "id": "VFB_jrchk89t",
                  "tags": "Entity|has_image|Adult|Anatomy|has_neuron_connectivity|Cell|Individual|has_region_connectivity|NBLAST|Nervous_system|Neuron",
                  "parents_label": "adult antennal lobe local neuron type 16A lLN",
                  "parents_id": "FBbt_20003751",
                  "data_source": "neuprint_JRC_Hemibrain_1point1",
                  "accession": "1702318692",
                  "templates": "JRC2018Unisex|JRC_FlyEM_Hemibrain",
                  "dataset": "None",
                  "license": "",
                  "_deepnote_index_column": 44
                },
                {
                  "label": "lLN2S(Star)_R (FlyEM-HB:1670627928)",
                  "symbol": "",
                  "id": "VFB_jrchk8bb",
                  "tags": "Entity|has_image|Adult|Anatomy|has_neuron_connectivity|Cell|Individual|has_region_connectivity|NBLAST|Nervous_system|Neuron",
                  "parents_label": "adult antennal lobe lateral local neuron 2S",
                  "parents_id": "FBbt_00049815",
                  "data_source": "neuprint_JRC_Hemibrain_1point1",
                  "accession": "1670627928",
                  "templates": "JRC_FlyEM_Hemibrain|JRC2018Unisex",
                  "dataset": "None",
                  "license": "",
                  "_deepnote_index_column": 45
                },
                {
                  "label": "lLN2S(Star)_R (FlyEM-HB:1702306037)",
                  "symbol": "",
                  "id": "VFB_jrchk8b7",
                  "tags": "Entity|has_image|Adult|Anatomy|has_neuron_connectivity|Cell|Individual|has_region_connectivity|NBLAST|Nervous_system|Neuron",
                  "parents_label": "adult antennal lobe lateral local neuron 2S",
                  "parents_id": "FBbt_00049815",
                  "data_source": "neuprint_JRC_Hemibrain_1point1",
                  "accession": "1702306037",
                  "templates": "JRC_FlyEM_Hemibrain|JRC2018Unisex",
                  "dataset": "None",
                  "license": "",
                  "_deepnote_index_column": 46
                },
                {
                  "label": "lLN1_c_R (FlyEM-HB:1547454812)",
                  "symbol": "",
                  "id": "VFB_jrchk8ai",
                  "tags": "Entity|has_image|Adult|Anatomy|has_neuron_connectivity|Cell|Individual|has_region_connectivity|NBLAST|Nervous_system|Neuron",
                  "parents_label": "adult antennal lobe local neuron type 1 lLN",
                  "parents_id": "FBbt_20003740",
                  "data_source": "neuprint_JRC_Hemibrain_1point1",
                  "accession": "1547454812",
                  "templates": "JRC2018Unisex|JRC_FlyEM_Hemibrain",
                  "dataset": "None",
                  "license": "",
                  "_deepnote_index_column": 47
                },
                {
                  "label": "lLN16b_R (FlyEM-HB:1887168462)",
                  "symbol": "",
                  "id": "VFB_jrchk89w",
                  "tags": "Entity|has_image|Adult|Anatomy|has_neuron_connectivity|Cell|Individual|has_region_connectivity|NBLAST|Nervous_system|Neuron",
                  "parents_label": "adult antennal lobe local neuron type 16B lLN",
                  "parents_id": "FBbt_20003752",
                  "data_source": "neuprint_JRC_Hemibrain_1point1",
                  "accession": "1887168462",
                  "templates": "JRC2018Unisex|JRC_FlyEM_Hemibrain",
                  "dataset": "None",
                  "license": "",
                  "_deepnote_index_column": 48
                },
                {
                  "label": "lLN1_b_R (FlyEM-HB:5813078440)",
                  "symbol": "",
                  "id": "VFB_jrchk8a7",
                  "tags": "Entity|has_image|Adult|Anatomy|has_neuron_connectivity|Cell|Individual|has_region_connectivity|NBLAST|Nervous_system|Neuron",
                  "parents_label": "adult antennal lobe local neuron type 1 lLN",
                  "parents_id": "FBbt_20003740",
                  "data_source": "neuprint_JRC_Hemibrain_1point1",
                  "accession": "5813078440",
                  "templates": "JRC2018Unisex|JRC_FlyEM_Hemibrain",
                  "dataset": "None",
                  "license": "",
                  "_deepnote_index_column": 49
                },
                {
                  "label": "lLN2F_a(Full)_R (FlyEM-HB:1670287030)",
                  "symbol": "",
                  "id": "VFB_jrchk8al",
                  "tags": "Entity|has_image|Adult|Anatomy|has_neuron_connectivity|Cell|Individual|has_region_connectivity|NBLAST|Nervous_system|Neuron",
                  "parents_label": "adult antennal lobe lateral local neuron 2F",
                  "parents_id": "FBbt_00049812",
                  "data_source": "neuprint_JRC_Hemibrain_1point1",
                  "accession": "1670287030",
                  "templates": "JRC_FlyEM_Hemibrain|JRC2018Unisex",
                  "dataset": "None",
                  "license": "",
                  "_deepnote_index_column": 50
                },
                {
                  "label": "lLN1_b_R (FlyEM-HB:1640887603)",
                  "symbol": "",
                  "id": "VFB_jrchk8a6",
                  "tags": "Entity|has_image|Adult|Anatomy|has_neuron_connectivity|Cell|Individual|has_region_connectivity|NBLAST|Nervous_system|Neuron",
                  "parents_label": "adult antennal lobe local neuron type 1 lLN",
                  "parents_id": "FBbt_20003740",
                  "data_source": "neuprint_JRC_Hemibrain_1point1",
                  "accession": "1640887603",
                  "templates": "JRC_FlyEM_Hemibrain|JRC2018Unisex",
                  "dataset": "None",
                  "license": "",
                  "_deepnote_index_column": 51
                },
                {
                  "label": "lLN2T_b(Tortuous)_R (FlyEM-HB:5813034493)",
                  "symbol": "",
                  "id": "VFB_jrchk8bm",
                  "tags": "Entity|has_image|Adult|Anatomy|has_neuron_connectivity|Cell|Individual|has_region_connectivity|NBLAST|Nervous_system|Neuron",
                  "parents_label": "adult antennal lobe lateral local neuron 2T",
                  "parents_id": "FBbt_00049816",
                  "data_source": "neuprint_JRC_Hemibrain_1point1",
                  "accession": "5813034493",
                  "templates": "JRC_FlyEM_Hemibrain|JRC2018Unisex",
                  "dataset": "None",
                  "license": "",
                  "_deepnote_index_column": 52
                }
              ],
              "rows_bottom": null
            },
            "text/plain": "                                        label symbol            id  \\\n0              lLN1_b_R (FlyEM-HB:1610530558)         VFB_jrchk8ac   \n1   lLN2T_c(Tortuous)_R (FlyEM-HB:1671292719)         VFB_jrchk8bo   \n2         lLN2S(Star)_R (FlyEM-HB:1732995501)         VFB_jrchk8ba   \n3   lLN2T_e(Tortuous)_R (FlyEM-HB:1699974843)         VFB_jrchk8br   \n4              lLN1_b_R (FlyEM-HB:5813054622)         VFB_jrchk8a8   \n5              v2LN30_R (FlyEM-HB:1671620613)         VFB_jrchk8e8   \n6              lLN1_b_R (FlyEM-HB:1642623277)         VFB_jrchk8ad   \n7   lLN2T_b(Tortuous)_R (FlyEM-HB:1640572741)         VFB_jrchk8bl   \n8              lLN1_c_R (FlyEM-HB:1824101645)         VFB_jrchk8ag   \n9   lLN2T_d(Tortuous)_R (FlyEM-HB:1667251683)         VFB_jrchk8bp   \n10  lLN2R_b(Regional)_R (FlyEM-HB:5813076969)         VFB_jrchk8b6   \n11  lLN2R_b(Regional)_R (FlyEM-HB:1702305987)         VFB_jrchk8b5   \n12    lLN2P_b(Patchy)_R (FlyEM-HB:1946178096)         VFB_jrchk8au   \n13    lLN2P_c(Patchy)_R (FlyEM-HB:2105086391)         VFB_jrchk8b0   \n14  lLN2T_a(Tortuous)_R (FlyEM-HB:1762354941)         VFB_jrchk8bg   \n15              lLN11_R (FlyEM-HB:2040301572)         VFB_jrchk89d   \n16             lLN1_b_R (FlyEM-HB:5813054725)         VFB_jrchk8ab   \n17  lLN2T_a(Tortuous)_R (FlyEM-HB:5813056598)         VFB_jrchk8bi   \n18             lLN12a_R (FlyEM-HB:1826445251)         VFB_jrchk89g   \n19  lLN2T_a(Tortuous)_R (FlyEM-HB:5813054726)         VFB_jrchk8bh   \n20             lLN1_c_R (FlyEM-HB:1702651358)         VFB_jrchk8aj   \n21             lLN1_c_R (FlyEM-HB:1578826464)         VFB_jrchk8ah   \n22        lLN2S(Star)_R (FlyEM-HB:5813069085)         VFB_jrchk8b9   \n23        lLN2S(Star)_R (FlyEM-HB:1640922754)         VFB_jrchk8b8   \n24             l2LN18_R (FlyEM-HB:5813054773)         VFB_jrchk891   \n25              lLN10_R (FlyEM-HB:1825789179)         VFB_jrchk89b   \n26             lLN1_a_R (FlyEM-HB:5813130064)         VFB_jrchk8a4   \n27      lLN2F_b(Full)_R (FlyEM-HB:1640909284)         VFB_jrchk8am   \n28              lLN11_R (FlyEM-HB:1670278227)         VFB_jrchk89e   \n29             lLN1_b_R (FlyEM-HB:5813069055)         VFB_jrchk8aa   \n30  lLN2T_a(Tortuous)_R (FlyEM-HB:5813055277)         VFB_jrchk8bf   \n31             lLN1_c_R (FlyEM-HB:5813047691)         VFB_jrchk8ae   \n32             v2LN35_R (FlyEM-HB:1733056086)         VFB_jrchk8ew   \n33  lLN2T_a(Tortuous)_R (FlyEM-HB:5813032595)         VFB_jrchk8bd   \n34             v2LN3b_R (FlyEM-HB:5813034455)         VFB_jrchk8ff   \n35      lLN2F_a(Full)_R (FlyEM-HB:5901218894)         VFB_jrchk8ak   \n36             v2LN3b_R (FlyEM-HB:1888199872)         VFB_jrchk8fg   \n37      lLN2F_b(Full)_R (FlyEM-HB:5813024698)         VFB_jrchk8an   \n38    lLN2P_a(Patchy)_R (FlyEM-HB:2041621893)         VFB_jrchk8ao   \n39  lLN2T_e(Tortuous)_R (FlyEM-HB:1640922516)         VFB_jrchk8bs   \n40             lLN1_c_R (FlyEM-HB:5813062199)         VFB_jrchk8af   \n41        lLN2S(Star)_R (FlyEM-HB:1762359683)         VFB_jrchk8bc   \n42             lLN1_b_R (FlyEM-HB:5813054777)         VFB_jrchk8a9   \n43             il3LN6_R (FlyEM-HB:5813018460)         VFB_jrchk88v   \n44             lLN16a_R (FlyEM-HB:1702318692)         VFB_jrchk89t   \n45        lLN2S(Star)_R (FlyEM-HB:1670627928)         VFB_jrchk8bb   \n46        lLN2S(Star)_R (FlyEM-HB:1702306037)         VFB_jrchk8b7   \n47             lLN1_c_R (FlyEM-HB:1547454812)         VFB_jrchk8ai   \n48             lLN16b_R (FlyEM-HB:1887168462)         VFB_jrchk89w   \n49             lLN1_b_R (FlyEM-HB:5813078440)         VFB_jrchk8a7   \n50      lLN2F_a(Full)_R (FlyEM-HB:1670287030)         VFB_jrchk8al   \n51             lLN1_b_R (FlyEM-HB:1640887603)         VFB_jrchk8a6   \n52  lLN2T_b(Tortuous)_R (FlyEM-HB:5813034493)         VFB_jrchk8bm   \n\n                                                 tags  \\\n0   Entity|has_image|Adult|Anatomy|has_neuron_conn...   \n1   Entity|has_image|Adult|Anatomy|has_neuron_conn...   \n2   Entity|has_image|Adult|Anatomy|has_neuron_conn...   \n3   Entity|has_image|Adult|Anatomy|has_neuron_conn...   \n4   Entity|has_image|Adult|Anatomy|has_neuron_conn...   \n5   Entity|has_image|Adult|Anatomy|has_neuron_conn...   \n6   Entity|has_image|Adult|Anatomy|has_neuron_conn...   \n7   Entity|has_image|Adult|Anatomy|has_neuron_conn...   \n8   Entity|has_image|Adult|Anatomy|has_neuron_conn...   \n9   Entity|has_image|Adult|Anatomy|has_neuron_conn...   \n10  Entity|has_image|Adult|Anatomy|has_neuron_conn...   \n11  Entity|has_image|Adult|Anatomy|has_neuron_conn...   \n12  Entity|has_image|Adult|Anatomy|has_neuron_conn...   \n13  Entity|has_image|Adult|Anatomy|has_neuron_conn...   \n14  Entity|has_image|Adult|Anatomy|has_neuron_conn...   \n15  Entity|has_image|Adult|Anatomy|has_neuron_conn...   \n16  Entity|has_image|Adult|Anatomy|has_neuron_conn...   \n17  Entity|has_image|Adult|Anatomy|has_neuron_conn...   \n18  Entity|has_image|Adult|Anatomy|has_neuron_conn...   \n19  Entity|has_image|Adult|Anatomy|has_neuron_conn...   \n20  Entity|has_image|Adult|Anatomy|has_neuron_conn...   \n21  Entity|has_image|Adult|Anatomy|has_neuron_conn...   \n22  Entity|has_image|Adult|Anatomy|has_neuron_conn...   \n23  Entity|has_image|Adult|Anatomy|has_neuron_conn...   \n24  Entity|has_image|Adult|Anatomy|has_neuron_conn...   \n25  Entity|has_image|Adult|Anatomy|has_neuron_conn...   \n26  Entity|has_image|Adult|Anatomy|has_neuron_conn...   \n27  Entity|has_image|Adult|Anatomy|has_neuron_conn...   \n28  Entity|has_image|Adult|Anatomy|has_neuron_conn...   \n29  Entity|has_image|Adult|Anatomy|has_neuron_conn...   \n30  Entity|has_image|Adult|Anatomy|has_neuron_conn...   \n31  Entity|has_image|Adult|Anatomy|has_neuron_conn...   \n32  Entity|has_image|Adult|Anatomy|has_neuron_conn...   \n33  Entity|has_image|Adult|Anatomy|has_neuron_conn...   \n34  Entity|has_image|Adult|Anatomy|has_neuron_conn...   \n35  Entity|has_image|Adult|Anatomy|has_neuron_conn...   \n36  Entity|has_image|Adult|Anatomy|has_neuron_conn...   \n37  Entity|has_image|Adult|Anatomy|has_neuron_conn...   \n38  Entity|has_image|Adult|Anatomy|has_neuron_conn...   \n39  Entity|has_image|Adult|Anatomy|has_neuron_conn...   \n40  Entity|has_image|Adult|Anatomy|has_neuron_conn...   \n41  Entity|has_image|Adult|Anatomy|has_neuron_conn...   \n42  Entity|has_image|Adult|Anatomy|has_neuron_conn...   \n43  Entity|has_image|Adult|Anatomy|has_neuron_conn...   \n44  Entity|has_image|Adult|Anatomy|has_neuron_conn...   \n45  Entity|has_image|Adult|Anatomy|has_neuron_conn...   \n46  Entity|has_image|Adult|Anatomy|has_neuron_conn...   \n47  Entity|has_image|Adult|Anatomy|has_neuron_conn...   \n48  Entity|has_image|Adult|Anatomy|has_neuron_conn...   \n49  Entity|has_image|Adult|Anatomy|has_neuron_conn...   \n50  Entity|has_image|Adult|Anatomy|has_neuron_conn...   \n51  Entity|has_image|Adult|Anatomy|has_neuron_conn...   \n52  Entity|has_image|Adult|Anatomy|has_neuron_conn...   \n\n                                    parents_label     parents_id  \\\n0     adult antennal lobe local neuron type 1 lLN  FBbt_20003740   \n1     adult antennal lobe lateral local neuron 2T  FBbt_00049816   \n2     adult antennal lobe lateral local neuron 2S  FBbt_00049815   \n3     adult antennal lobe lateral local neuron 2T  FBbt_00049816   \n4     adult antennal lobe local neuron type 1 lLN  FBbt_20003740   \n5   adult antennal lobe local neuron type 30 v2LN  FBbt_20003756   \n6     adult antennal lobe local neuron type 1 lLN  FBbt_20003740   \n7     adult antennal lobe lateral local neuron 2T  FBbt_00049816   \n8     adult antennal lobe local neuron type 1 lLN  FBbt_20003740   \n9     adult antennal lobe lateral local neuron 2T  FBbt_00049816   \n10    adult antennal lobe lateral local neuron 2R  FBbt_00049814   \n11    adult antennal lobe lateral local neuron 2R  FBbt_00049814   \n12    adult antennal lobe lateral local neuron 2P  FBbt_00049813   \n13    adult antennal lobe lateral local neuron 2P  FBbt_00049813   \n14    adult antennal lobe lateral local neuron 2T  FBbt_00049816   \n15   adult antennal lobe local neuron type 11 lLN  FBbt_20003745   \n16    adult antennal lobe local neuron type 1 lLN  FBbt_20003740   \n17    adult antennal lobe lateral local neuron 2T  FBbt_00049816   \n18  adult antennal lobe local neuron type 12A lLN  FBbt_20003746   \n19    adult antennal lobe lateral local neuron 2T  FBbt_00049816   \n20    adult antennal lobe local neuron type 1 lLN  FBbt_20003740   \n21    adult antennal lobe local neuron type 1 lLN  FBbt_20003740   \n22    adult antennal lobe lateral local neuron 2S  FBbt_00049815   \n23    adult antennal lobe lateral local neuron 2S  FBbt_00049815   \n24  adult antennal lobe local neuron type 18 l2LN  FBbt_20003734   \n25   adult antennal lobe local neuron type 10 lLN  FBbt_20003744   \n26    adult antennal lobe local neuron type 1 lLN  FBbt_20003740   \n27    adult antennal lobe lateral local neuron 2F  FBbt_00049812   \n28   adult antennal lobe local neuron type 11 lLN  FBbt_20003745   \n29    adult antennal lobe local neuron type 1 lLN  FBbt_20003740   \n30    adult antennal lobe lateral local neuron 2T  FBbt_00049816   \n31    adult antennal lobe local neuron type 1 lLN  FBbt_20003740   \n32  adult antennal lobe local neuron type 35 v2LN  FBbt_20003766   \n33    adult antennal lobe lateral local neuron 2T  FBbt_00049816   \n34  adult antennal lobe local neuron type 3B v2LN  FBbt_20003755   \n35    adult antennal lobe lateral local neuron 2F  FBbt_00049812   \n36  adult antennal lobe local neuron type 3B v2LN  FBbt_20003755   \n37    adult antennal lobe lateral local neuron 2F  FBbt_00049812   \n38    adult antennal lobe lateral local neuron 2P  FBbt_00049813   \n39    adult antennal lobe lateral local neuron 2T  FBbt_00049816   \n40    adult antennal lobe local neuron type 1 lLN  FBbt_20003740   \n41    adult antennal lobe lateral local neuron 2S  FBbt_00049815   \n42    adult antennal lobe local neuron type 1 lLN  FBbt_20003740   \n43                   antennal lobe local neuron 6  FBbt_00047710   \n44  adult antennal lobe local neuron type 16A lLN  FBbt_20003751   \n45    adult antennal lobe lateral local neuron 2S  FBbt_00049815   \n46    adult antennal lobe lateral local neuron 2S  FBbt_00049815   \n47    adult antennal lobe local neuron type 1 lLN  FBbt_20003740   \n48  adult antennal lobe local neuron type 16B lLN  FBbt_20003752   \n49    adult antennal lobe local neuron type 1 lLN  FBbt_20003740   \n50    adult antennal lobe lateral local neuron 2F  FBbt_00049812   \n51    adult antennal lobe local neuron type 1 lLN  FBbt_20003740   \n52    adult antennal lobe lateral local neuron 2T  FBbt_00049816   \n\n                       data_source   accession  \\\n0   neuprint_JRC_Hemibrain_1point1  1610530558   \n1   neuprint_JRC_Hemibrain_1point1  1671292719   \n2   neuprint_JRC_Hemibrain_1point1  1732995501   \n3   neuprint_JRC_Hemibrain_1point1  1699974843   \n4   neuprint_JRC_Hemibrain_1point1  5813054622   \n5   neuprint_JRC_Hemibrain_1point1  1671620613   \n6   neuprint_JRC_Hemibrain_1point1  1642623277   \n7   neuprint_JRC_Hemibrain_1point1  1640572741   \n8   neuprint_JRC_Hemibrain_1point1  1824101645   \n9   neuprint_JRC_Hemibrain_1point1  1667251683   \n10  neuprint_JRC_Hemibrain_1point1  5813076969   \n11  neuprint_JRC_Hemibrain_1point1  1702305987   \n12  neuprint_JRC_Hemibrain_1point1  1946178096   \n13  neuprint_JRC_Hemibrain_1point1  2105086391   \n14  neuprint_JRC_Hemibrain_1point1  1762354941   \n15  neuprint_JRC_Hemibrain_1point1  2040301572   \n16  neuprint_JRC_Hemibrain_1point1  5813054725   \n17  neuprint_JRC_Hemibrain_1point1  5813056598   \n18  neuprint_JRC_Hemibrain_1point1  1826445251   \n19  neuprint_JRC_Hemibrain_1point1  5813054726   \n20  neuprint_JRC_Hemibrain_1point1  1702651358   \n21  neuprint_JRC_Hemibrain_1point1  1578826464   \n22  neuprint_JRC_Hemibrain_1point1  5813069085   \n23  neuprint_JRC_Hemibrain_1point1  1640922754   \n24  neuprint_JRC_Hemibrain_1point1  5813054773   \n25  neuprint_JRC_Hemibrain_1point1  1825789179   \n26  neuprint_JRC_Hemibrain_1point1  5813130064   \n27  neuprint_JRC_Hemibrain_1point1  1640909284   \n28  neuprint_JRC_Hemibrain_1point1  1670278227   \n29  neuprint_JRC_Hemibrain_1point1  5813069055   \n30  neuprint_JRC_Hemibrain_1point1  5813055277   \n31  neuprint_JRC_Hemibrain_1point1  5813047691   \n32  neuprint_JRC_Hemibrain_1point1  1733056086   \n33  neuprint_JRC_Hemibrain_1point1  5813032595   \n34  neuprint_JRC_Hemibrain_1point1  5813034455   \n35  neuprint_JRC_Hemibrain_1point1  5901218894   \n36  neuprint_JRC_Hemibrain_1point1  1888199872   \n37  neuprint_JRC_Hemibrain_1point1  5813024698   \n38  neuprint_JRC_Hemibrain_1point1  2041621893   \n39  neuprint_JRC_Hemibrain_1point1  1640922516   \n40  neuprint_JRC_Hemibrain_1point1  5813062199   \n41  neuprint_JRC_Hemibrain_1point1  1762359683   \n42  neuprint_JRC_Hemibrain_1point1  5813054777   \n43  neuprint_JRC_Hemibrain_1point1  5813018460   \n44  neuprint_JRC_Hemibrain_1point1  1702318692   \n45  neuprint_JRC_Hemibrain_1point1  1670627928   \n46  neuprint_JRC_Hemibrain_1point1  1702306037   \n47  neuprint_JRC_Hemibrain_1point1  1547454812   \n48  neuprint_JRC_Hemibrain_1point1  1887168462   \n49  neuprint_JRC_Hemibrain_1point1  5813078440   \n50  neuprint_JRC_Hemibrain_1point1  1670287030   \n51  neuprint_JRC_Hemibrain_1point1  1640887603   \n52  neuprint_JRC_Hemibrain_1point1  5813034493   \n\n                            templates dataset license  \n0   JRC2018Unisex|JRC_FlyEM_Hemibrain    None          \n1   JRC2018Unisex|JRC_FlyEM_Hemibrain    None          \n2   JRC2018Unisex|JRC_FlyEM_Hemibrain    None          \n3   JRC_FlyEM_Hemibrain|JRC2018Unisex    None          \n4   JRC2018Unisex|JRC_FlyEM_Hemibrain    None          \n5   JRC2018Unisex|JRC_FlyEM_Hemibrain    None          \n6   JRC2018Unisex|JRC_FlyEM_Hemibrain    None          \n7   JRC2018Unisex|JRC_FlyEM_Hemibrain    None          \n8   JRC_FlyEM_Hemibrain|JRC2018Unisex    None          \n9   JRC2018Unisex|JRC_FlyEM_Hemibrain    None          \n10  JRC2018Unisex|JRC_FlyEM_Hemibrain    None          \n11  JRC_FlyEM_Hemibrain|JRC2018Unisex    None          \n12  JRC2018Unisex|JRC_FlyEM_Hemibrain    None          \n13  JRC2018Unisex|JRC_FlyEM_Hemibrain    None          \n14  JRC2018Unisex|JRC_FlyEM_Hemibrain    None          \n15  JRC_FlyEM_Hemibrain|JRC2018Unisex    None          \n16  JRC_FlyEM_Hemibrain|JRC2018Unisex    None          \n17  JRC2018Unisex|JRC_FlyEM_Hemibrain    None          \n18  JRC2018Unisex|JRC_FlyEM_Hemibrain    None          \n19  JRC_FlyEM_Hemibrain|JRC2018Unisex    None          \n20  JRC_FlyEM_Hemibrain|JRC2018Unisex    None          \n21  JRC2018Unisex|JRC_FlyEM_Hemibrain    None          \n22  JRC_FlyEM_Hemibrain|JRC2018Unisex    None          \n23  JRC2018Unisex|JRC_FlyEM_Hemibrain    None          \n24  JRC2018Unisex|JRC_FlyEM_Hemibrain    None          \n25  JRC_FlyEM_Hemibrain|JRC2018Unisex    None          \n26  JRC_FlyEM_Hemibrain|JRC2018Unisex    None          \n27  JRC2018Unisex|JRC_FlyEM_Hemibrain    None          \n28  JRC2018Unisex|JRC_FlyEM_Hemibrain    None          \n29  JRC_FlyEM_Hemibrain|JRC2018Unisex    None          \n30  JRC_FlyEM_Hemibrain|JRC2018Unisex    None          \n31  JRC_FlyEM_Hemibrain|JRC2018Unisex    None          \n32  JRC2018Unisex|JRC_FlyEM_Hemibrain    None          \n33  JRC2018Unisex|JRC_FlyEM_Hemibrain    None          \n34  JRC2018Unisex|JRC_FlyEM_Hemibrain    None          \n35  JRC_FlyEM_Hemibrain|JRC2018Unisex    None          \n36  JRC2018Unisex|JRC_FlyEM_Hemibrain    None          \n37  JRC2018Unisex|JRC_FlyEM_Hemibrain    None          \n38  JRC_FlyEM_Hemibrain|JRC2018Unisex    None          \n39  JRC2018Unisex|JRC_FlyEM_Hemibrain    None          \n40  JRC_FlyEM_Hemibrain|JRC2018Unisex    None          \n41  JRC2018Unisex|JRC_FlyEM_Hemibrain    None          \n42  JRC_FlyEM_Hemibrain|JRC2018Unisex    None          \n43  JRC_FlyEM_Hemibrain|JRC2018Unisex    None          \n44  JRC2018Unisex|JRC_FlyEM_Hemibrain    None          \n45  JRC_FlyEM_Hemibrain|JRC2018Unisex    None          \n46  JRC_FlyEM_Hemibrain|JRC2018Unisex    None          \n47  JRC2018Unisex|JRC_FlyEM_Hemibrain    None          \n48  JRC2018Unisex|JRC_FlyEM_Hemibrain    None          \n49  JRC2018Unisex|JRC_FlyEM_Hemibrain    None          \n50  JRC_FlyEM_Hemibrain|JRC2018Unisex    None          \n51  JRC_FlyEM_Hemibrain|JRC2018Unisex    None          \n52  JRC_FlyEM_Hemibrain|JRC2018Unisex    None          ",
            "text/html": "<div>\n<style scoped>\n    .dataframe tbody tr th:only-of-type {\n        vertical-align: middle;\n    }\n\n    .dataframe tbody tr th {\n        vertical-align: top;\n    }\n\n    .dataframe thead th {\n        text-align: right;\n    }\n</style>\n<table border=\"1\" class=\"dataframe\">\n  <thead>\n    <tr style=\"text-align: right;\">\n      <th></th>\n      <th>label</th>\n      <th>symbol</th>\n      <th>id</th>\n      <th>tags</th>\n      <th>parents_label</th>\n      <th>parents_id</th>\n      <th>data_source</th>\n      <th>accession</th>\n      <th>templates</th>\n      <th>dataset</th>\n      <th>license</th>\n    </tr>\n  </thead>\n  <tbody>\n    <tr>\n      <th>0</th>\n      <td>lLN1_b_R (FlyEM-HB:1610530558)</td>\n      <td></td>\n      <td>VFB_jrchk8ac</td>\n      <td>Entity|has_image|Adult|Anatomy|has_neuron_conn...</td>\n      <td>adult antennal lobe local neuron type 1 lLN</td>\n      <td>FBbt_20003740</td>\n      <td>neuprint_JRC_Hemibrain_1point1</td>\n      <td>1610530558</td>\n      <td>JRC2018Unisex|JRC_FlyEM_Hemibrain</td>\n      <td>None</td>\n      <td></td>\n    </tr>\n    <tr>\n      <th>1</th>\n      <td>lLN2T_c(Tortuous)_R (FlyEM-HB:1671292719)</td>\n      <td></td>\n      <td>VFB_jrchk8bo</td>\n      <td>Entity|has_image|Adult|Anatomy|has_neuron_conn...</td>\n      <td>adult antennal lobe lateral local neuron 2T</td>\n      <td>FBbt_00049816</td>\n      <td>neuprint_JRC_Hemibrain_1point1</td>\n      <td>1671292719</td>\n      <td>JRC2018Unisex|JRC_FlyEM_Hemibrain</td>\n      <td>None</td>\n      <td></td>\n    </tr>\n    <tr>\n      <th>2</th>\n      <td>lLN2S(Star)_R (FlyEM-HB:1732995501)</td>\n      <td></td>\n      <td>VFB_jrchk8ba</td>\n      <td>Entity|has_image|Adult|Anatomy|has_neuron_conn...</td>\n      <td>adult antennal lobe lateral local neuron 2S</td>\n      <td>FBbt_00049815</td>\n      <td>neuprint_JRC_Hemibrain_1point1</td>\n      <td>1732995501</td>\n      <td>JRC2018Unisex|JRC_FlyEM_Hemibrain</td>\n      <td>None</td>\n      <td></td>\n    </tr>\n    <tr>\n      <th>3</th>\n      <td>lLN2T_e(Tortuous)_R (FlyEM-HB:1699974843)</td>\n      <td></td>\n      <td>VFB_jrchk8br</td>\n      <td>Entity|has_image|Adult|Anatomy|has_neuron_conn...</td>\n      <td>adult antennal lobe lateral local neuron 2T</td>\n      <td>FBbt_00049816</td>\n      <td>neuprint_JRC_Hemibrain_1point1</td>\n      <td>1699974843</td>\n      <td>JRC_FlyEM_Hemibrain|JRC2018Unisex</td>\n      <td>None</td>\n      <td></td>\n    </tr>\n    <tr>\n      <th>4</th>\n      <td>lLN1_b_R (FlyEM-HB:5813054622)</td>\n      <td></td>\n      <td>VFB_jrchk8a8</td>\n      <td>Entity|has_image|Adult|Anatomy|has_neuron_conn...</td>\n      <td>adult antennal lobe local neuron type 1 lLN</td>\n      <td>FBbt_20003740</td>\n      <td>neuprint_JRC_Hemibrain_1point1</td>\n      <td>5813054622</td>\n      <td>JRC2018Unisex|JRC_FlyEM_Hemibrain</td>\n      <td>None</td>\n      <td></td>\n    </tr>\n    <tr>\n      <th>5</th>\n      <td>v2LN30_R (FlyEM-HB:1671620613)</td>\n      <td></td>\n      <td>VFB_jrchk8e8</td>\n      <td>Entity|has_image|Adult|Anatomy|has_neuron_conn...</td>\n      <td>adult antennal lobe local neuron type 30 v2LN</td>\n      <td>FBbt_20003756</td>\n      <td>neuprint_JRC_Hemibrain_1point1</td>\n      <td>1671620613</td>\n      <td>JRC2018Unisex|JRC_FlyEM_Hemibrain</td>\n      <td>None</td>\n      <td></td>\n    </tr>\n    <tr>\n      <th>6</th>\n      <td>lLN1_b_R (FlyEM-HB:1642623277)</td>\n      <td></td>\n      <td>VFB_jrchk8ad</td>\n      <td>Entity|has_image|Adult|Anatomy|has_neuron_conn...</td>\n      <td>adult antennal lobe local neuron type 1 lLN</td>\n      <td>FBbt_20003740</td>\n      <td>neuprint_JRC_Hemibrain_1point1</td>\n      <td>1642623277</td>\n      <td>JRC2018Unisex|JRC_FlyEM_Hemibrain</td>\n      <td>None</td>\n      <td></td>\n    </tr>\n    <tr>\n      <th>7</th>\n      <td>lLN2T_b(Tortuous)_R (FlyEM-HB:1640572741)</td>\n      <td></td>\n      <td>VFB_jrchk8bl</td>\n      <td>Entity|has_image|Adult|Anatomy|has_neuron_conn...</td>\n      <td>adult antennal lobe lateral local neuron 2T</td>\n      <td>FBbt_00049816</td>\n      <td>neuprint_JRC_Hemibrain_1point1</td>\n      <td>1640572741</td>\n      <td>JRC2018Unisex|JRC_FlyEM_Hemibrain</td>\n      <td>None</td>\n      <td></td>\n    </tr>\n    <tr>\n      <th>8</th>\n      <td>lLN1_c_R (FlyEM-HB:1824101645)</td>\n      <td></td>\n      <td>VFB_jrchk8ag</td>\n      <td>Entity|has_image|Adult|Anatomy|has_neuron_conn...</td>\n      <td>adult antennal lobe local neuron type 1 lLN</td>\n      <td>FBbt_20003740</td>\n      <td>neuprint_JRC_Hemibrain_1point1</td>\n      <td>1824101645</td>\n      <td>JRC_FlyEM_Hemibrain|JRC2018Unisex</td>\n      <td>None</td>\n      <td></td>\n    </tr>\n    <tr>\n      <th>9</th>\n      <td>lLN2T_d(Tortuous)_R (FlyEM-HB:1667251683)</td>\n      <td></td>\n      <td>VFB_jrchk8bp</td>\n      <td>Entity|has_image|Adult|Anatomy|has_neuron_conn...</td>\n      <td>adult antennal lobe lateral local neuron 2T</td>\n      <td>FBbt_00049816</td>\n      <td>neuprint_JRC_Hemibrain_1point1</td>\n      <td>1667251683</td>\n      <td>JRC2018Unisex|JRC_FlyEM_Hemibrain</td>\n      <td>None</td>\n      <td></td>\n    </tr>\n    <tr>\n      <th>10</th>\n      <td>lLN2R_b(Regional)_R (FlyEM-HB:5813076969)</td>\n      <td></td>\n      <td>VFB_jrchk8b6</td>\n      <td>Entity|has_image|Adult|Anatomy|has_neuron_conn...</td>\n      <td>adult antennal lobe lateral local neuron 2R</td>\n      <td>FBbt_00049814</td>\n      <td>neuprint_JRC_Hemibrain_1point1</td>\n      <td>5813076969</td>\n      <td>JRC2018Unisex|JRC_FlyEM_Hemibrain</td>\n      <td>None</td>\n      <td></td>\n    </tr>\n    <tr>\n      <th>11</th>\n      <td>lLN2R_b(Regional)_R (FlyEM-HB:1702305987)</td>\n      <td></td>\n      <td>VFB_jrchk8b5</td>\n      <td>Entity|has_image|Adult|Anatomy|has_neuron_conn...</td>\n      <td>adult antennal lobe lateral local neuron 2R</td>\n      <td>FBbt_00049814</td>\n      <td>neuprint_JRC_Hemibrain_1point1</td>\n      <td>1702305987</td>\n      <td>JRC_FlyEM_Hemibrain|JRC2018Unisex</td>\n      <td>None</td>\n      <td></td>\n    </tr>\n    <tr>\n      <th>12</th>\n      <td>lLN2P_b(Patchy)_R (FlyEM-HB:1946178096)</td>\n      <td></td>\n      <td>VFB_jrchk8au</td>\n      <td>Entity|has_image|Adult|Anatomy|has_neuron_conn...</td>\n      <td>adult antennal lobe lateral local neuron 2P</td>\n      <td>FBbt_00049813</td>\n      <td>neuprint_JRC_Hemibrain_1point1</td>\n      <td>1946178096</td>\n      <td>JRC2018Unisex|JRC_FlyEM_Hemibrain</td>\n      <td>None</td>\n      <td></td>\n    </tr>\n    <tr>\n      <th>13</th>\n      <td>lLN2P_c(Patchy)_R (FlyEM-HB:2105086391)</td>\n      <td></td>\n      <td>VFB_jrchk8b0</td>\n      <td>Entity|has_image|Adult|Anatomy|has_neuron_conn...</td>\n      <td>adult antennal lobe lateral local neuron 2P</td>\n      <td>FBbt_00049813</td>\n      <td>neuprint_JRC_Hemibrain_1point1</td>\n      <td>2105086391</td>\n      <td>JRC2018Unisex|JRC_FlyEM_Hemibrain</td>\n      <td>None</td>\n      <td></td>\n    </tr>\n    <tr>\n      <th>14</th>\n      <td>lLN2T_a(Tortuous)_R (FlyEM-HB:1762354941)</td>\n      <td></td>\n      <td>VFB_jrchk8bg</td>\n      <td>Entity|has_image|Adult|Anatomy|has_neuron_conn...</td>\n      <td>adult antennal lobe lateral local neuron 2T</td>\n      <td>FBbt_00049816</td>\n      <td>neuprint_JRC_Hemibrain_1point1</td>\n      <td>1762354941</td>\n      <td>JRC2018Unisex|JRC_FlyEM_Hemibrain</td>\n      <td>None</td>\n      <td></td>\n    </tr>\n    <tr>\n      <th>15</th>\n      <td>lLN11_R (FlyEM-HB:2040301572)</td>\n      <td></td>\n      <td>VFB_jrchk89d</td>\n      <td>Entity|has_image|Adult|Anatomy|has_neuron_conn...</td>\n      <td>adult antennal lobe local neuron type 11 lLN</td>\n      <td>FBbt_20003745</td>\n      <td>neuprint_JRC_Hemibrain_1point1</td>\n      <td>2040301572</td>\n      <td>JRC_FlyEM_Hemibrain|JRC2018Unisex</td>\n      <td>None</td>\n      <td></td>\n    </tr>\n    <tr>\n      <th>16</th>\n      <td>lLN1_b_R (FlyEM-HB:5813054725)</td>\n      <td></td>\n      <td>VFB_jrchk8ab</td>\n      <td>Entity|has_image|Adult|Anatomy|has_neuron_conn...</td>\n      <td>adult antennal lobe local neuron type 1 lLN</td>\n      <td>FBbt_20003740</td>\n      <td>neuprint_JRC_Hemibrain_1point1</td>\n      <td>5813054725</td>\n      <td>JRC_FlyEM_Hemibrain|JRC2018Unisex</td>\n      <td>None</td>\n      <td></td>\n    </tr>\n    <tr>\n      <th>17</th>\n      <td>lLN2T_a(Tortuous)_R (FlyEM-HB:5813056598)</td>\n      <td></td>\n      <td>VFB_jrchk8bi</td>\n      <td>Entity|has_image|Adult|Anatomy|has_neuron_conn...</td>\n      <td>adult antennal lobe lateral local neuron 2T</td>\n      <td>FBbt_00049816</td>\n      <td>neuprint_JRC_Hemibrain_1point1</td>\n      <td>5813056598</td>\n      <td>JRC2018Unisex|JRC_FlyEM_Hemibrain</td>\n      <td>None</td>\n      <td></td>\n    </tr>\n    <tr>\n      <th>18</th>\n      <td>lLN12a_R (FlyEM-HB:1826445251)</td>\n      <td></td>\n      <td>VFB_jrchk89g</td>\n      <td>Entity|has_image|Adult|Anatomy|has_neuron_conn...</td>\n      <td>adult antennal lobe local neuron type 12A lLN</td>\n      <td>FBbt_20003746</td>\n      <td>neuprint_JRC_Hemibrain_1point1</td>\n      <td>1826445251</td>\n      <td>JRC2018Unisex|JRC_FlyEM_Hemibrain</td>\n      <td>None</td>\n      <td></td>\n    </tr>\n    <tr>\n      <th>19</th>\n      <td>lLN2T_a(Tortuous)_R (FlyEM-HB:5813054726)</td>\n      <td></td>\n      <td>VFB_jrchk8bh</td>\n      <td>Entity|has_image|Adult|Anatomy|has_neuron_conn...</td>\n      <td>adult antennal lobe lateral local neuron 2T</td>\n      <td>FBbt_00049816</td>\n      <td>neuprint_JRC_Hemibrain_1point1</td>\n      <td>5813054726</td>\n      <td>JRC_FlyEM_Hemibrain|JRC2018Unisex</td>\n      <td>None</td>\n      <td></td>\n    </tr>\n    <tr>\n      <th>20</th>\n      <td>lLN1_c_R (FlyEM-HB:1702651358)</td>\n      <td></td>\n      <td>VFB_jrchk8aj</td>\n      <td>Entity|has_image|Adult|Anatomy|has_neuron_conn...</td>\n      <td>adult antennal lobe local neuron type 1 lLN</td>\n      <td>FBbt_20003740</td>\n      <td>neuprint_JRC_Hemibrain_1point1</td>\n      <td>1702651358</td>\n      <td>JRC_FlyEM_Hemibrain|JRC2018Unisex</td>\n      <td>None</td>\n      <td></td>\n    </tr>\n    <tr>\n      <th>21</th>\n      <td>lLN1_c_R (FlyEM-HB:1578826464)</td>\n      <td></td>\n      <td>VFB_jrchk8ah</td>\n      <td>Entity|has_image|Adult|Anatomy|has_neuron_conn...</td>\n      <td>adult antennal lobe local neuron type 1 lLN</td>\n      <td>FBbt_20003740</td>\n      <td>neuprint_JRC_Hemibrain_1point1</td>\n      <td>1578826464</td>\n      <td>JRC2018Unisex|JRC_FlyEM_Hemibrain</td>\n      <td>None</td>\n      <td></td>\n    </tr>\n    <tr>\n      <th>22</th>\n      <td>lLN2S(Star)_R (FlyEM-HB:5813069085)</td>\n      <td></td>\n      <td>VFB_jrchk8b9</td>\n      <td>Entity|has_image|Adult|Anatomy|has_neuron_conn...</td>\n      <td>adult antennal lobe lateral local neuron 2S</td>\n      <td>FBbt_00049815</td>\n      <td>neuprint_JRC_Hemibrain_1point1</td>\n      <td>5813069085</td>\n      <td>JRC_FlyEM_Hemibrain|JRC2018Unisex</td>\n      <td>None</td>\n      <td></td>\n    </tr>\n    <tr>\n      <th>23</th>\n      <td>lLN2S(Star)_R (FlyEM-HB:1640922754)</td>\n      <td></td>\n      <td>VFB_jrchk8b8</td>\n      <td>Entity|has_image|Adult|Anatomy|has_neuron_conn...</td>\n      <td>adult antennal lobe lateral local neuron 2S</td>\n      <td>FBbt_00049815</td>\n      <td>neuprint_JRC_Hemibrain_1point1</td>\n      <td>1640922754</td>\n      <td>JRC2018Unisex|JRC_FlyEM_Hemibrain</td>\n      <td>None</td>\n      <td></td>\n    </tr>\n    <tr>\n      <th>24</th>\n      <td>l2LN18_R (FlyEM-HB:5813054773)</td>\n      <td></td>\n      <td>VFB_jrchk891</td>\n      <td>Entity|has_image|Adult|Anatomy|has_neuron_conn...</td>\n      <td>adult antennal lobe local neuron type 18 l2LN</td>\n      <td>FBbt_20003734</td>\n      <td>neuprint_JRC_Hemibrain_1point1</td>\n      <td>5813054773</td>\n      <td>JRC2018Unisex|JRC_FlyEM_Hemibrain</td>\n      <td>None</td>\n      <td></td>\n    </tr>\n    <tr>\n      <th>25</th>\n      <td>lLN10_R (FlyEM-HB:1825789179)</td>\n      <td></td>\n      <td>VFB_jrchk89b</td>\n      <td>Entity|has_image|Adult|Anatomy|has_neuron_conn...</td>\n      <td>adult antennal lobe local neuron type 10 lLN</td>\n      <td>FBbt_20003744</td>\n      <td>neuprint_JRC_Hemibrain_1point1</td>\n      <td>1825789179</td>\n      <td>JRC_FlyEM_Hemibrain|JRC2018Unisex</td>\n      <td>None</td>\n      <td></td>\n    </tr>\n    <tr>\n      <th>26</th>\n      <td>lLN1_a_R (FlyEM-HB:5813130064)</td>\n      <td></td>\n      <td>VFB_jrchk8a4</td>\n      <td>Entity|has_image|Adult|Anatomy|has_neuron_conn...</td>\n      <td>adult antennal lobe local neuron type 1 lLN</td>\n      <td>FBbt_20003740</td>\n      <td>neuprint_JRC_Hemibrain_1point1</td>\n      <td>5813130064</td>\n      <td>JRC_FlyEM_Hemibrain|JRC2018Unisex</td>\n      <td>None</td>\n      <td></td>\n    </tr>\n    <tr>\n      <th>27</th>\n      <td>lLN2F_b(Full)_R (FlyEM-HB:1640909284)</td>\n      <td></td>\n      <td>VFB_jrchk8am</td>\n      <td>Entity|has_image|Adult|Anatomy|has_neuron_conn...</td>\n      <td>adult antennal lobe lateral local neuron 2F</td>\n      <td>FBbt_00049812</td>\n      <td>neuprint_JRC_Hemibrain_1point1</td>\n      <td>1640909284</td>\n      <td>JRC2018Unisex|JRC_FlyEM_Hemibrain</td>\n      <td>None</td>\n      <td></td>\n    </tr>\n    <tr>\n      <th>28</th>\n      <td>lLN11_R (FlyEM-HB:1670278227)</td>\n      <td></td>\n      <td>VFB_jrchk89e</td>\n      <td>Entity|has_image|Adult|Anatomy|has_neuron_conn...</td>\n      <td>adult antennal lobe local neuron type 11 lLN</td>\n      <td>FBbt_20003745</td>\n      <td>neuprint_JRC_Hemibrain_1point1</td>\n      <td>1670278227</td>\n      <td>JRC2018Unisex|JRC_FlyEM_Hemibrain</td>\n      <td>None</td>\n      <td></td>\n    </tr>\n    <tr>\n      <th>29</th>\n      <td>lLN1_b_R (FlyEM-HB:5813069055)</td>\n      <td></td>\n      <td>VFB_jrchk8aa</td>\n      <td>Entity|has_image|Adult|Anatomy|has_neuron_conn...</td>\n      <td>adult antennal lobe local neuron type 1 lLN</td>\n      <td>FBbt_20003740</td>\n      <td>neuprint_JRC_Hemibrain_1point1</td>\n      <td>5813069055</td>\n      <td>JRC_FlyEM_Hemibrain|JRC2018Unisex</td>\n      <td>None</td>\n      <td></td>\n    </tr>\n    <tr>\n      <th>30</th>\n      <td>lLN2T_a(Tortuous)_R (FlyEM-HB:5813055277)</td>\n      <td></td>\n      <td>VFB_jrchk8bf</td>\n      <td>Entity|has_image|Adult|Anatomy|has_neuron_conn...</td>\n      <td>adult antennal lobe lateral local neuron 2T</td>\n      <td>FBbt_00049816</td>\n      <td>neuprint_JRC_Hemibrain_1point1</td>\n      <td>5813055277</td>\n      <td>JRC_FlyEM_Hemibrain|JRC2018Unisex</td>\n      <td>None</td>\n      <td></td>\n    </tr>\n    <tr>\n      <th>31</th>\n      <td>lLN1_c_R (FlyEM-HB:5813047691)</td>\n      <td></td>\n      <td>VFB_jrchk8ae</td>\n      <td>Entity|has_image|Adult|Anatomy|has_neuron_conn...</td>\n      <td>adult antennal lobe local neuron type 1 lLN</td>\n      <td>FBbt_20003740</td>\n      <td>neuprint_JRC_Hemibrain_1point1</td>\n      <td>5813047691</td>\n      <td>JRC_FlyEM_Hemibrain|JRC2018Unisex</td>\n      <td>None</td>\n      <td></td>\n    </tr>\n    <tr>\n      <th>32</th>\n      <td>v2LN35_R (FlyEM-HB:1733056086)</td>\n      <td></td>\n      <td>VFB_jrchk8ew</td>\n      <td>Entity|has_image|Adult|Anatomy|has_neuron_conn...</td>\n      <td>adult antennal lobe local neuron type 35 v2LN</td>\n      <td>FBbt_20003766</td>\n      <td>neuprint_JRC_Hemibrain_1point1</td>\n      <td>1733056086</td>\n      <td>JRC2018Unisex|JRC_FlyEM_Hemibrain</td>\n      <td>None</td>\n      <td></td>\n    </tr>\n    <tr>\n      <th>33</th>\n      <td>lLN2T_a(Tortuous)_R (FlyEM-HB:5813032595)</td>\n      <td></td>\n      <td>VFB_jrchk8bd</td>\n      <td>Entity|has_image|Adult|Anatomy|has_neuron_conn...</td>\n      <td>adult antennal lobe lateral local neuron 2T</td>\n      <td>FBbt_00049816</td>\n      <td>neuprint_JRC_Hemibrain_1point1</td>\n      <td>5813032595</td>\n      <td>JRC2018Unisex|JRC_FlyEM_Hemibrain</td>\n      <td>None</td>\n      <td></td>\n    </tr>\n    <tr>\n      <th>34</th>\n      <td>v2LN3b_R (FlyEM-HB:5813034455)</td>\n      <td></td>\n      <td>VFB_jrchk8ff</td>\n      <td>Entity|has_image|Adult|Anatomy|has_neuron_conn...</td>\n      <td>adult antennal lobe local neuron type 3B v2LN</td>\n      <td>FBbt_20003755</td>\n      <td>neuprint_JRC_Hemibrain_1point1</td>\n      <td>5813034455</td>\n      <td>JRC2018Unisex|JRC_FlyEM_Hemibrain</td>\n      <td>None</td>\n      <td></td>\n    </tr>\n    <tr>\n      <th>35</th>\n      <td>lLN2F_a(Full)_R (FlyEM-HB:5901218894)</td>\n      <td></td>\n      <td>VFB_jrchk8ak</td>\n      <td>Entity|has_image|Adult|Anatomy|has_neuron_conn...</td>\n      <td>adult antennal lobe lateral local neuron 2F</td>\n      <td>FBbt_00049812</td>\n      <td>neuprint_JRC_Hemibrain_1point1</td>\n      <td>5901218894</td>\n      <td>JRC_FlyEM_Hemibrain|JRC2018Unisex</td>\n      <td>None</td>\n      <td></td>\n    </tr>\n    <tr>\n      <th>36</th>\n      <td>v2LN3b_R (FlyEM-HB:1888199872)</td>\n      <td></td>\n      <td>VFB_jrchk8fg</td>\n      <td>Entity|has_image|Adult|Anatomy|has_neuron_conn...</td>\n      <td>adult antennal lobe local neuron type 3B v2LN</td>\n      <td>FBbt_20003755</td>\n      <td>neuprint_JRC_Hemibrain_1point1</td>\n      <td>1888199872</td>\n      <td>JRC2018Unisex|JRC_FlyEM_Hemibrain</td>\n      <td>None</td>\n      <td></td>\n    </tr>\n    <tr>\n      <th>37</th>\n      <td>lLN2F_b(Full)_R (FlyEM-HB:5813024698)</td>\n      <td></td>\n      <td>VFB_jrchk8an</td>\n      <td>Entity|has_image|Adult|Anatomy|has_neuron_conn...</td>\n      <td>adult antennal lobe lateral local neuron 2F</td>\n      <td>FBbt_00049812</td>\n      <td>neuprint_JRC_Hemibrain_1point1</td>\n      <td>5813024698</td>\n      <td>JRC2018Unisex|JRC_FlyEM_Hemibrain</td>\n      <td>None</td>\n      <td></td>\n    </tr>\n    <tr>\n      <th>38</th>\n      <td>lLN2P_a(Patchy)_R (FlyEM-HB:2041621893)</td>\n      <td></td>\n      <td>VFB_jrchk8ao</td>\n      <td>Entity|has_image|Adult|Anatomy|has_neuron_conn...</td>\n      <td>adult antennal lobe lateral local neuron 2P</td>\n      <td>FBbt_00049813</td>\n      <td>neuprint_JRC_Hemibrain_1point1</td>\n      <td>2041621893</td>\n      <td>JRC_FlyEM_Hemibrain|JRC2018Unisex</td>\n      <td>None</td>\n      <td></td>\n    </tr>\n    <tr>\n      <th>39</th>\n      <td>lLN2T_e(Tortuous)_R (FlyEM-HB:1640922516)</td>\n      <td></td>\n      <td>VFB_jrchk8bs</td>\n      <td>Entity|has_image|Adult|Anatomy|has_neuron_conn...</td>\n      <td>adult antennal lobe lateral local neuron 2T</td>\n      <td>FBbt_00049816</td>\n      <td>neuprint_JRC_Hemibrain_1point1</td>\n      <td>1640922516</td>\n      <td>JRC2018Unisex|JRC_FlyEM_Hemibrain</td>\n      <td>None</td>\n      <td></td>\n    </tr>\n    <tr>\n      <th>40</th>\n      <td>lLN1_c_R (FlyEM-HB:5813062199)</td>\n      <td></td>\n      <td>VFB_jrchk8af</td>\n      <td>Entity|has_image|Adult|Anatomy|has_neuron_conn...</td>\n      <td>adult antennal lobe local neuron type 1 lLN</td>\n      <td>FBbt_20003740</td>\n      <td>neuprint_JRC_Hemibrain_1point1</td>\n      <td>5813062199</td>\n      <td>JRC_FlyEM_Hemibrain|JRC2018Unisex</td>\n      <td>None</td>\n      <td></td>\n    </tr>\n    <tr>\n      <th>41</th>\n      <td>lLN2S(Star)_R (FlyEM-HB:1762359683)</td>\n      <td></td>\n      <td>VFB_jrchk8bc</td>\n      <td>Entity|has_image|Adult|Anatomy|has_neuron_conn...</td>\n      <td>adult antennal lobe lateral local neuron 2S</td>\n      <td>FBbt_00049815</td>\n      <td>neuprint_JRC_Hemibrain_1point1</td>\n      <td>1762359683</td>\n      <td>JRC2018Unisex|JRC_FlyEM_Hemibrain</td>\n      <td>None</td>\n      <td></td>\n    </tr>\n    <tr>\n      <th>42</th>\n      <td>lLN1_b_R (FlyEM-HB:5813054777)</td>\n      <td></td>\n      <td>VFB_jrchk8a9</td>\n      <td>Entity|has_image|Adult|Anatomy|has_neuron_conn...</td>\n      <td>adult antennal lobe local neuron type 1 lLN</td>\n      <td>FBbt_20003740</td>\n      <td>neuprint_JRC_Hemibrain_1point1</td>\n      <td>5813054777</td>\n      <td>JRC_FlyEM_Hemibrain|JRC2018Unisex</td>\n      <td>None</td>\n      <td></td>\n    </tr>\n    <tr>\n      <th>43</th>\n      <td>il3LN6_R (FlyEM-HB:5813018460)</td>\n      <td></td>\n      <td>VFB_jrchk88v</td>\n      <td>Entity|has_image|Adult|Anatomy|has_neuron_conn...</td>\n      <td>antennal lobe local neuron 6</td>\n      <td>FBbt_00047710</td>\n      <td>neuprint_JRC_Hemibrain_1point1</td>\n      <td>5813018460</td>\n      <td>JRC_FlyEM_Hemibrain|JRC2018Unisex</td>\n      <td>None</td>\n      <td></td>\n    </tr>\n    <tr>\n      <th>44</th>\n      <td>lLN16a_R (FlyEM-HB:1702318692)</td>\n      <td></td>\n      <td>VFB_jrchk89t</td>\n      <td>Entity|has_image|Adult|Anatomy|has_neuron_conn...</td>\n      <td>adult antennal lobe local neuron type 16A lLN</td>\n      <td>FBbt_20003751</td>\n      <td>neuprint_JRC_Hemibrain_1point1</td>\n      <td>1702318692</td>\n      <td>JRC2018Unisex|JRC_FlyEM_Hemibrain</td>\n      <td>None</td>\n      <td></td>\n    </tr>\n    <tr>\n      <th>45</th>\n      <td>lLN2S(Star)_R (FlyEM-HB:1670627928)</td>\n      <td></td>\n      <td>VFB_jrchk8bb</td>\n      <td>Entity|has_image|Adult|Anatomy|has_neuron_conn...</td>\n      <td>adult antennal lobe lateral local neuron 2S</td>\n      <td>FBbt_00049815</td>\n      <td>neuprint_JRC_Hemibrain_1point1</td>\n      <td>1670627928</td>\n      <td>JRC_FlyEM_Hemibrain|JRC2018Unisex</td>\n      <td>None</td>\n      <td></td>\n    </tr>\n    <tr>\n      <th>46</th>\n      <td>lLN2S(Star)_R (FlyEM-HB:1702306037)</td>\n      <td></td>\n      <td>VFB_jrchk8b7</td>\n      <td>Entity|has_image|Adult|Anatomy|has_neuron_conn...</td>\n      <td>adult antennal lobe lateral local neuron 2S</td>\n      <td>FBbt_00049815</td>\n      <td>neuprint_JRC_Hemibrain_1point1</td>\n      <td>1702306037</td>\n      <td>JRC_FlyEM_Hemibrain|JRC2018Unisex</td>\n      <td>None</td>\n      <td></td>\n    </tr>\n    <tr>\n      <th>47</th>\n      <td>lLN1_c_R (FlyEM-HB:1547454812)</td>\n      <td></td>\n      <td>VFB_jrchk8ai</td>\n      <td>Entity|has_image|Adult|Anatomy|has_neuron_conn...</td>\n      <td>adult antennal lobe local neuron type 1 lLN</td>\n      <td>FBbt_20003740</td>\n      <td>neuprint_JRC_Hemibrain_1point1</td>\n      <td>1547454812</td>\n      <td>JRC2018Unisex|JRC_FlyEM_Hemibrain</td>\n      <td>None</td>\n      <td></td>\n    </tr>\n    <tr>\n      <th>48</th>\n      <td>lLN16b_R (FlyEM-HB:1887168462)</td>\n      <td></td>\n      <td>VFB_jrchk89w</td>\n      <td>Entity|has_image|Adult|Anatomy|has_neuron_conn...</td>\n      <td>adult antennal lobe local neuron type 16B lLN</td>\n      <td>FBbt_20003752</td>\n      <td>neuprint_JRC_Hemibrain_1point1</td>\n      <td>1887168462</td>\n      <td>JRC2018Unisex|JRC_FlyEM_Hemibrain</td>\n      <td>None</td>\n      <td></td>\n    </tr>\n    <tr>\n      <th>49</th>\n      <td>lLN1_b_R (FlyEM-HB:5813078440)</td>\n      <td></td>\n      <td>VFB_jrchk8a7</td>\n      <td>Entity|has_image|Adult|Anatomy|has_neuron_conn...</td>\n      <td>adult antennal lobe local neuron type 1 lLN</td>\n      <td>FBbt_20003740</td>\n      <td>neuprint_JRC_Hemibrain_1point1</td>\n      <td>5813078440</td>\n      <td>JRC2018Unisex|JRC_FlyEM_Hemibrain</td>\n      <td>None</td>\n      <td></td>\n    </tr>\n    <tr>\n      <th>50</th>\n      <td>lLN2F_a(Full)_R (FlyEM-HB:1670287030)</td>\n      <td></td>\n      <td>VFB_jrchk8al</td>\n      <td>Entity|has_image|Adult|Anatomy|has_neuron_conn...</td>\n      <td>adult antennal lobe lateral local neuron 2F</td>\n      <td>FBbt_00049812</td>\n      <td>neuprint_JRC_Hemibrain_1point1</td>\n      <td>1670287030</td>\n      <td>JRC_FlyEM_Hemibrain|JRC2018Unisex</td>\n      <td>None</td>\n      <td></td>\n    </tr>\n    <tr>\n      <th>51</th>\n      <td>lLN1_b_R (FlyEM-HB:1640887603)</td>\n      <td></td>\n      <td>VFB_jrchk8a6</td>\n      <td>Entity|has_image|Adult|Anatomy|has_neuron_conn...</td>\n      <td>adult antennal lobe local neuron type 1 lLN</td>\n      <td>FBbt_20003740</td>\n      <td>neuprint_JRC_Hemibrain_1point1</td>\n      <td>1640887603</td>\n      <td>JRC_FlyEM_Hemibrain|JRC2018Unisex</td>\n      <td>None</td>\n      <td></td>\n    </tr>\n    <tr>\n      <th>52</th>\n      <td>lLN2T_b(Tortuous)_R (FlyEM-HB:5813034493)</td>\n      <td></td>\n      <td>VFB_jrchk8bm</td>\n      <td>Entity|has_image|Adult|Anatomy|has_neuron_conn...</td>\n      <td>adult antennal lobe lateral local neuron 2T</td>\n      <td>FBbt_00049816</td>\n      <td>neuprint_JRC_Hemibrain_1point1</td>\n      <td>5813034493</td>\n      <td>JRC_FlyEM_Hemibrain|JRC2018Unisex</td>\n      <td>None</td>\n      <td></td>\n    </tr>\n  </tbody>\n</table>\n</div>"
          },
          "metadata": {}
        }
      ]
    },
    {
      "cell_type": "code",
      "metadata": {
        "tags": [],
        "cell_id": "00004-91e5a8af-2f48-4ebb-9c9a-765a7d80a5f1",
        "deepnote_to_be_reexecuted": false,
        "source_hash": "e41b421a",
        "execution_millis": 1330,
        "output_cleared": false,
        "execution_start": 1620061455883,
        "deepnote_cell_type": "code"
      },
      "source": "# Find neurons by dataset/paper - on CATMAID\n\nbates = pymaid.find_neurons(annotations='Paper: Bates and Schlegel et al 2020')\nbates",
      "execution_count": 6,
      "outputs": [
        {
          "name": "stderr",
          "text": "INFO  : Found 583 neurons matching the search parameters (pymaid)\n",
          "output_type": "stream"
        },
        {
          "output_type": "execute_result",
          "execution_count": 6,
          "data": {
            "text/plain": "<class 'pymaid.core.CatmaidNeuronList'> containing 583 neurons (0.0B)\n              type                                               name  \\\n0    CatmaidNeuron        Uniglomerular mALT DA1 lPN 57316 2863105 ML   \n1    CatmaidNeuron               Uniglomerular mALT DA3 adPN 57350 HG   \n..             ...                                                ...   \n581  CatmaidNeuron  Multiglomerular mlALT vPN VM7d+VM5d+DC4+6 LTS ...   \n582  CatmaidNeuron              Uniglomerular mALT DL2d adPN 57342 ML   \n\n    skeleton_id n_nodes n_connectors n_branches n_leafs cable_length soma  \\\n0       2863104      NA           NA         NA      NA           NA   NA   \n1         57349      NA           NA         NA      NA           NA   NA   \n..          ...     ...          ...        ...     ...          ...  ...   \n581     4624378      NA           NA         NA      NA           NA   NA   \n582       57341      NA           NA         NA      NA           NA   NA   \n\n           units  \n0    1 nanometer  \n1    1 nanometer  \n..           ...  \n581  1 nanometer  \n582  1 nanometer  ",
            "text/html": "&lt;class 'pymaid.core.CatmaidNeuronList'&gt; containing 583 neurons (0.0B)<div>\n<style scoped>\n    .dataframe tbody tr th:only-of-type {\n        vertical-align: middle;\n    }\n\n    .dataframe tbody tr th {\n        vertical-align: top;\n    }\n\n    .dataframe thead th {\n        text-align: right;\n    }\n</style>\n<table border=\"1\" class=\"dataframe\">\n  <thead>\n    <tr style=\"text-align: right;\">\n      <th></th>\n      <th>type</th>\n      <th>name</th>\n      <th>skeleton_id</th>\n      <th>n_nodes</th>\n      <th>n_connectors</th>\n      <th>n_branches</th>\n      <th>n_leafs</th>\n      <th>cable_length</th>\n      <th>soma</th>\n      <th>units</th>\n    </tr>\n  </thead>\n  <tbody>\n    <tr>\n      <th>0</th>\n      <td>CatmaidNeuron</td>\n      <td>Uniglomerular mALT DA1 lPN 57316 2863105 ML</td>\n      <td>2863104</td>\n      <td>NA</td>\n      <td>NA</td>\n      <td>NA</td>\n      <td>NA</td>\n      <td>NA</td>\n      <td>NA</td>\n      <td>1 nanometer</td>\n    </tr>\n    <tr>\n      <th>1</th>\n      <td>CatmaidNeuron</td>\n      <td>Uniglomerular mALT DA3 adPN 57350 HG</td>\n      <td>57349</td>\n      <td>NA</td>\n      <td>NA</td>\n      <td>NA</td>\n      <td>NA</td>\n      <td>NA</td>\n      <td>NA</td>\n      <td>1 nanometer</td>\n    </tr>\n    <tr>\n      <th>...</th>\n      <td>...</td>\n      <td>...</td>\n      <td>...</td>\n      <td>...</td>\n      <td>...</td>\n      <td>...</td>\n      <td>...</td>\n      <td>...</td>\n      <td>...</td>\n      <td>...</td>\n    </tr>\n    <tr>\n      <th>581</th>\n      <td>CatmaidNeuron</td>\n      <td>Multiglomerular mlALT vPN VM7d+VM5d+DC4+6 LTS ...</td>\n      <td>4624378</td>\n      <td>NA</td>\n      <td>NA</td>\n      <td>NA</td>\n      <td>NA</td>\n      <td>NA</td>\n      <td>NA</td>\n      <td>1 nanometer</td>\n    </tr>\n    <tr>\n      <th>582</th>\n      <td>CatmaidNeuron</td>\n      <td>Uniglomerular mALT DL2d adPN 57342 ML</td>\n      <td>57341</td>\n      <td>NA</td>\n      <td>NA</td>\n      <td>NA</td>\n      <td>NA</td>\n      <td>NA</td>\n      <td>NA</td>\n      <td>1 nanometer</td>\n    </tr>\n  </tbody>\n</table>\n</div>"
          },
          "metadata": {}
        }
      ]
    },
    {
      "cell_type": "code",
      "metadata": {
        "tags": [],
        "cell_id": "00009-51e5ef7d-4810-4d2d-afce-eb3c6e315810",
        "deepnote_to_be_reexecuted": false,
        "source_hash": "46eeef09",
        "execution_millis": 2131,
        "output_cleared": false,
        "execution_start": 1620061457217,
        "deepnote_cell_type": "code"
      },
      "source": "# Inspect what datasets are available on VFB\n\nds = vc.neo_query_wrapper.get_datasets(summary=True)\nds_tab = pd.DataFrame.from_records(ds)\nds_tab.sort_values(by=['id'])",
      "execution_count": 7,
      "outputs": [
        {
          "output_type": "execute_result",
          "execution_count": 7,
          "data": {
            "application/vnd.deepnote.dataframe.v2+json": {
              "row_count": 84,
              "column_count": 9,
              "columns": [
                {
                  "name": "label",
                  "dtype": "object",
                  "stats": {
                    "unique_count": 76,
                    "nan_count": 0,
                    "categories": [
                      {
                        "name": "split-GAL4 lines for dopaminergic neurons (AsoRubin2016)",
                        "count": 2
                      },
                      {
                        "name": "Grooming neurons and drivers (Hampel 2015)",
                        "count": 2
                      },
                      {
                        "name": "74 others",
                        "count": 80
                      }
                    ]
                  }
                },
                {
                  "name": "symbol",
                  "dtype": "object",
                  "stats": {
                    "unique_count": 1,
                    "nan_count": 0,
                    "categories": [
                      {
                        "name": "",
                        "count": 84
                      }
                    ]
                  }
                },
                {
                  "name": "id",
                  "dtype": "object",
                  "stats": {
                    "unique_count": 84,
                    "nan_count": 0,
                    "categories": [
                      {
                        "name": "Andrade2019",
                        "count": 1
                      },
                      {
                        "name": "Aso2014",
                        "count": 1
                      },
                      {
                        "name": "82 others",
                        "count": 82
                      }
                    ]
                  }
                },
                {
                  "name": "tags",
                  "dtype": "object",
                  "stats": {
                    "unique_count": 1,
                    "nan_count": 0,
                    "categories": [
                      {
                        "name": "Entity|Individual|DataSet",
                        "count": 84
                      }
                    ]
                  }
                },
                {
                  "name": "description",
                  "dtype": "object",
                  "stats": {
                    "unique_count": 84,
                    "nan_count": 0,
                    "categories": [
                      {
                        "name": "[]",
                        "count": 16
                      },
                      {
                        "name": "['']",
                        "count": 4
                      },
                      {
                        "name": "57 others",
                        "count": 64
                      }
                    ]
                  }
                },
                {
                  "name": "miniref",
                  "dtype": "object",
                  "stats": {
                    "unique_count": 65,
                    "nan_count": 0,
                    "categories": [
                      {
                        "name": "Dolan et al., 2019, eLife 8: e43079",
                        "count": 4
                      },
                      {
                        "name": "",
                        "count": 3
                      },
                      {
                        "name": "63 others",
                        "count": 77
                      }
                    ]
                  }
                },
                {
                  "name": "FlyBase",
                  "dtype": "object",
                  "stats": {
                    "unique_count": 50,
                    "nan_count": 0,
                    "categories": [
                      {
                        "name": "",
                        "count": 22
                      },
                      {
                        "name": "FBrf0242477",
                        "count": 4
                      },
                      {
                        "name": "48 others",
                        "count": 58
                      }
                    ]
                  }
                },
                {
                  "name": "PMID",
                  "dtype": "object",
                  "stats": {
                    "unique_count": 49,
                    "nan_count": 0,
                    "categories": [
                      {
                        "name": "",
                        "count": 23
                      },
                      {
                        "name": "31112130",
                        "count": 4
                      },
                      {
                        "name": "47 others",
                        "count": 57
                      }
                    ]
                  }
                },
                {
                  "name": "DOI",
                  "dtype": "object",
                  "stats": {
                    "unique_count": 65,
                    "nan_count": 0,
                    "categories": [
                      {
                        "name": "10.7554/eLife.43079",
                        "count": 4
                      },
                      {
                        "name": "",
                        "count": 3
                      },
                      {
                        "name": "63 others",
                        "count": 77
                      }
                    ]
                  }
                },
                {
                  "name": "_deepnote_index_column",
                  "dtype": "int64"
                }
              ],
              "rows_top": [
                {
                  "label": "EM L1 Andrade et al. 2019",
                  "symbol": "",
                  "id": "Andrade2019",
                  "tags": "Entity|Individual|DataSet",
                  "description": "['L1 EM reconstructed neurons from Andrade et al 2019']",
                  "miniref": "Andrade et al., 2019, Curr. Biol. 29(3): 412--425.e3",
                  "FlyBase": "FBrf0241389",
                  "PMID": "30661802",
                  "DOI": "10.1016/j.cub.2018.12.012",
                  "_deepnote_index_column": 36
                },
                {
                  "label": "MBONs and split-GAL4 lines that target them (Aso2014)",
                  "symbol": "",
                  "id": "Aso2014",
                  "tags": "Entity|Individual|DataSet",
                  "description": "[]",
                  "miniref": "Aso et al., 2014, eLife 3: e04577",
                  "FlyBase": "FBrf0227179",
                  "PMID": "25535793",
                  "DOI": "10.7554/eLife.04577",
                  "_deepnote_index_column": 55
                },
                {
                  "label": "split-GAL4 lines for dopaminergic neurons (AsoRubin2016)",
                  "symbol": "",
                  "id": "AsoRubin2016",
                  "tags": "Entity|Individual|DataSet",
                  "description": "['For comparison of the properties of memories formed by optogenetic activation of individual DAN cell types']",
                  "miniref": "Aso and Rubin, 2016, eLife 5: e16135",
                  "FlyBase": "FBrf0233230",
                  "PMID": "27441388",
                  "DOI": "10.7554/eLife.16135",
                  "_deepnote_index_column": 73
                },
                {
                  "label": "EM FAFB Bates and Schlegel et al 2020",
                  "symbol": "",
                  "id": "BatesSchlegel2020",
                  "tags": "Entity|Individual|DataSet",
                  "description": "['FAFB EM reconstructed neurons from Bates and Schlegel et al 2020']",
                  "miniref": "Bates and Schlegel et al., 2020",
                  "FlyBase": "",
                  "PMID": "",
                  "DOI": "10.1016/j.cub.2020.06.042",
                  "_deepnote_index_column": 59
                },
                {
                  "label": "Larval olfactory system neurons - EM (Berk2016)",
                  "symbol": "",
                  "id": "Berck2016",
                  "tags": "Entity|Individual|DataSet",
                  "description": "['Berck, Khandelwal et al. 2016']",
                  "miniref": "Berck et al., 2016, eLife 5: e14859",
                  "FlyBase": "FBrf0232785",
                  "PMID": "27177418",
                  "DOI": "10.7554/eLife.14859",
                  "_deepnote_index_column": 12
                },
                {
                  "label": "BrainName neuropils and tracts - Ito half-brain",
                  "symbol": "",
                  "id": "BrainName_Ito_half_brain",
                  "tags": "Entity|Individual|DataSet",
                  "description": "[]",
                  "miniref": "Ito et al., 2014, Neuron 81(4): 755--765",
                  "FlyBase": "FBrf0224194",
                  "PMID": "24559671",
                  "DOI": "10.1016/j.neuron.2013.12.017",
                  "_deepnote_index_column": 81
                },
                {
                  "label": "Nociceptive system neurons - EM (Burgos2017)",
                  "symbol": "",
                  "id": "Burgos2018",
                  "tags": "Entity|Individual|DataSet",
                  "description": "['Burgos et al 2018']",
                  "miniref": "Burgos et al., 2018, eLife 7: e26016",
                  "FlyBase": "FBrf0238464",
                  "PMID": "29528286",
                  "DOI": "10.7554/eLife.26016",
                  "_deepnote_index_column": 30
                },
                {
                  "label": "Adult Brain fru clones (Cachero2010)",
                  "symbol": "",
                  "id": "Cachero2010",
                  "tags": "Entity|Individual|DataSet",
                  "description": "[]",
                  "miniref": "Cachero et al., 2010, Curr. Biol. 20(18): 1589--1601",
                  "FlyBase": "FBrf0211926",
                  "PMID": "20832311",
                  "DOI": "10.1016/j.cub.2010.07.045",
                  "_deepnote_index_column": 37
                },
                {
                  "label": "EM L1 Carreira-Rosario, Arzan Zarin, Clark et al. 2018",
                  "symbol": "",
                  "id": "CarreiraRosario2018",
                  "tags": "Entity|Individual|DataSet",
                  "description": "['L1 EM reconstructed neurons from Carreira-Rosario, Arzan Zarin, Clark et al. 2018']",
                  "miniref": "Carreira-Rosario et al., 2018, eLife 7: e38554",
                  "FlyBase": "FBrf0239825",
                  "PMID": "30070205",
                  "DOI": "10.7554/eLife.38554",
                  "_deepnote_index_column": 1
                },
                {
                  "label": "FlyCircuit 1.0 - single neurons (Chiang2010)",
                  "symbol": "",
                  "id": "Chiang2010",
                  "tags": "Entity|Individual|DataSet",
                  "description": "[]",
                  "miniref": "Chiang et al., 2011, Curr. Biol. 21(1): 1--11",
                  "FlyBase": "FBrf0212704",
                  "PMID": "21129968",
                  "DOI": "10.1016/j.cub.2010.11.056",
                  "_deepnote_index_column": 25
                },
                {
                  "label": "EM FAFB Coates et al 2020",
                  "symbol": "",
                  "id": "Coates2020",
                  "tags": "Entity|Individual|DataSet",
                  "description": "['FAFB EM reconstructed neurons from Coates et al 2020']",
                  "miniref": "Coates et al., 2020",
                  "FlyBase": "",
                  "PMID": "",
                  "DOI": "10.1523/JNEUROSCI.0552-20.2020",
                  "_deepnote_index_column": 46
                },
                {
                  "label": "NBLAST clustering of FlyCircuit 1.0 neurons (Costa2016)",
                  "symbol": "",
                  "id": "CostaJefferis_v3",
                  "tags": "Entity|Individual|DataSet",
                  "description": "['Version 3 NBLAST clustering of FlyCircuit 1.0 neurons']",
                  "miniref": "Costa et al., 2016, Neuron 91(2): 293--311",
                  "FlyBase": "FBrf0232991",
                  "PMID": "27373836",
                  "DOI": "10.1016/j.neuron.2016.06.012",
                  "_deepnote_index_column": 44
                },
                {
                  "label": "Adult VNS neuropils (Court2017)",
                  "symbol": "",
                  "id": "Court2017",
                  "tags": "Entity|Individual|DataSet",
                  "description": "[]",
                  "miniref": "Court et al., 2017",
                  "FlyBase": "",
                  "PMID": "",
                  "DOI": "10.1101/122952",
                  "_deepnote_index_column": 45
                },
                {
                  "label": "Adult VNC neuropils (Court2020)",
                  "symbol": "",
                  "id": "Court2020",
                  "tags": "Entity|Individual|DataSet",
                  "description": "[]",
                  "miniref": "Court et al., 2017",
                  "FlyBase": "",
                  "PMID": "",
                  "DOI": "10.1101/122952",
                  "_deepnote_index_column": 43
                },
                {
                  "label": "Dickson lab VT lines - FlyLight/Janelia images (2017)",
                  "symbol": "",
                  "id": "Dickson2017",
                  "tags": "Entity|Individual|DataSet",
                  "description": "[]",
                  "miniref": "Tirian & Dickson, 2017",
                  "FlyBase": "",
                  "PMID": "",
                  "DOI": "10.1101/198648",
                  "_deepnote_index_column": 2
                },
                {
                  "label": "Dickson lab VT line collection - VDRC images",
                  "symbol": "",
                  "id": "Dickson_VT",
                  "tags": "Entity|Individual|DataSet",
                  "description": "[]",
                  "miniref": "Tirian & Dickson, 2017",
                  "FlyBase": "",
                  "PMID": "",
                  "DOI": "10.1101/198648",
                  "_deepnote_index_column": 50
                },
                {
                  "label": "EM FAFB Dolan and Belliart-Guerin et al. 2018",
                  "symbol": "",
                  "id": "Dolan2018",
                  "tags": "Entity|Individual|DataSet",
                  "description": "['FAFB EM reconstructed neurons from Dolan and Belliart-Guerin et al. 2018']",
                  "miniref": "Dolan et al., 2018, Neuron 100(3): 651--668.e8",
                  "FlyBase": "FBrf0240600",
                  "PMID": "30244885",
                  "DOI": "10.1016/j.neuron.2018.08.037",
                  "_deepnote_index_column": 58
                },
                {
                  "label": "GAL4 Split expression patterns from Dolan et al. 2019",
                  "symbol": "",
                  "id": "Dolan2019",
                  "tags": "Entity|Individual|DataSet",
                  "description": "['GAL4 Split expression patterns from Dolan et al. 2019']",
                  "miniref": "Dolan et al., 2019, eLife 8: e43079",
                  "FlyBase": "FBrf0242477",
                  "PMID": "31112130",
                  "DOI": "10.7554/eLife.43079",
                  "_deepnote_index_column": 32
                },
                {
                  "label": "Larval MB neurons - EM (Eichler2017)",
                  "symbol": "",
                  "id": "Eichler2017",
                  "tags": "Entity|Individual|DataSet",
                  "description": "['Eichler, Li, Litwin-Kumar et al. 2017']",
                  "miniref": "Eichler et al., 2017, Nature 548(7666): 175--182",
                  "FlyBase": "FBrf0236359",
                  "PMID": "28796202",
                  "DOI": "10.1038/nature23455",
                  "_deepnote_index_column": 61
                },
                {
                  "label": "EM L1 Eschbach et al 2020",
                  "symbol": "",
                  "id": "Eschbach2020",
                  "tags": "Entity|Individual|DataSet",
                  "description": "['L1 EM reconstructed neurons from Eschbach et al 2020']",
                  "miniref": "Eschbach et al., 2020, Nat. Neurosci. 23(4): 544--555",
                  "FlyBase": "FBrf0245294",
                  "PMID": "32203499",
                  "DOI": "10.1038/s41593-020-0607-9",
                  "_deepnote_index_column": 54
                },
                {
                  "label": "EM L1 Eschbach et al 2020b",
                  "symbol": "",
                  "id": "Eschbach2020b",
                  "tags": "Entity|Individual|DataSet",
                  "description": "['L1 EM reconstructed neurons from Eschbach et al 2020b']",
                  "miniref": "Eschbach, Fushiki et al. 2020b; Circuits for integrating learnt and innate valences in the fly brain",
                  "FlyBase": "",
                  "PMID": "",
                  "DOI": "10.1101/2020.04.23.058339",
                  "_deepnote_index_column": 68
                },
                {
                  "label": "EM FAFB Dolan et al. 2019",
                  "symbol": "",
                  "id": "FafbDolan2019",
                  "tags": "Entity|Individual|DataSet",
                  "description": "['FAFB EM reconstructed neurons from Dolan et al. 2019']",
                  "miniref": "Dolan et al., 2019, eLife 8: e43079",
                  "FlyBase": "FBrf0242477",
                  "PMID": "31112130",
                  "DOI": "10.7554/eLife.43079",
                  "_deepnote_index_column": 77
                },
                {
                  "label": "EM FAFB Felsenberg et al. 2018",
                  "symbol": "",
                  "id": "Felsenberg2018",
                  "tags": "Entity|Individual|DataSet",
                  "description": "['FAFB EM reconstructed neurons from Felsenberg et al 2018']",
                  "miniref": "Felsenberg et al., 2018, Cell 175(3): 709--722.e15",
                  "FlyBase": "FBrf0240371",
                  "PMID": "30245010",
                  "DOI": "10.1016/j.cell.2018.08.021",
                  "_deepnote_index_column": 76
                },
                {
                  "label": "split-GAL4 lines for dopaminergic neurons (AsoRubin2016)",
                  "symbol": "",
                  "id": "FlyLight2019AsoRubin2016",
                  "tags": "Entity|Individual|DataSet",
                  "description": "['For comparison of the properties of memories formed by optogenetic activation of individual DAN cell types']",
                  "miniref": "Aso and Rubin, 2016, eLife 5: e16135",
                  "FlyBase": "FBrf0233230",
                  "PMID": "27441388",
                  "DOI": "10.7554/eLife.16135",
                  "_deepnote_index_column": 9
                },
                {
                  "label": "Grooming neurons and drivers (Hampel 2015)",
                  "symbol": "",
                  "id": "FlyLight2019Hampel2015",
                  "tags": "Entity|Individual|DataSet",
                  "description": "['Images of grooming neurons and split GAL4 line drivers.']",
                  "miniref": "Hampel et al., 2015, eLife 4: e08758",
                  "FlyBase": "FBrf0229838",
                  "PMID": "26344548",
                  "DOI": "10.7554/eLife.08758",
                  "_deepnote_index_column": 53
                },
                {
                  "label": "Split-GAL4 lines from Klapoetke et al. 2017",
                  "symbol": "",
                  "id": "FlyLight2019Klapoetke2017",
                  "tags": "Entity|Individual|DataSet",
                  "description": "['Split-GAL4 lines used for the characterization of LPLC2 anatomy and function']",
                  "miniref": "Klapoetke et al., 2017, Nature 551(7679): 237--241",
                  "FlyBase": "FBrf0237184",
                  "PMID": "29120418",
                  "DOI": "10.1038/nature24626",
                  "_deepnote_index_column": 70
                },
                {
                  "label": "FlyLight split-GAL4 lines for Lateral Horn",
                  "symbol": "",
                  "id": "FlyLight2019LateralHorn2019",
                  "tags": "Entity|Individual|DataSet",
                  "description": "['FlyLight split-GAL4 lines for Lateral Horn from Dolan et al. 2019']",
                  "miniref": "Dolan et al., 2019, eLife 8: e43079",
                  "FlyBase": "FBrf0242477",
                  "PMID": "31112130",
                  "DOI": "10.7554/eLife.43079",
                  "_deepnote_index_column": 72
                },
                {
                  "label": "split-GAL4 lines for descending neurons (Namiki2018)",
                  "symbol": "",
                  "id": "FlyLight2019Namiki2018",
                  "tags": "Entity|Individual|DataSet",
                  "description": "['Descending sensory-motor pathways in adult CNS']",
                  "miniref": "Namiki et al., 2018, eLife 7: e34272",
                  "FlyBase": "FBrf0239335",
                  "PMID": "29943730",
                  "DOI": "10.7554/eLife.34272",
                  "_deepnote_index_column": 82
                },
                {
                  "label": "split-GAL4 lines for EB neurons (Robie2017)",
                  "symbol": "",
                  "id": "FlyLight2019Robie2017",
                  "tags": "Entity|Individual|DataSet",
                  "description": "['split-GAL4 lines for Ellipsoid Body neurons from the (walking-more) brain-behavior map']",
                  "miniref": "Robie et al., 2017, Cell 170(2): 393--406.e28",
                  "FlyBase": "FBrf0236042",
                  "PMID": "28709004",
                  "DOI": "10.1016/j.cell.2017.06.032",
                  "_deepnote_index_column": 38
                },
                {
                  "label": "Splits targetting the visual motion pathway, Strother2017",
                  "symbol": "",
                  "id": "FlyLight2019Strother2017",
                  "tags": "Entity|Individual|DataSet",
                  "description": "['']",
                  "miniref": "Strother et al., 2017, Neuron 94(1): 168--182.e10",
                  "FlyBase": "FBrf0235230",
                  "PMID": "28384470",
                  "DOI": "10.1016/j.neuron.2017.03.010",
                  "_deepnote_index_column": 23
                },
                {
                  "label": "Splits targetting CX neurons, Wolff2018",
                  "symbol": "",
                  "id": "FlyLight2019Wolff2018",
                  "tags": "Entity|Individual|DataSet",
                  "description": "['']",
                  "miniref": "Wolff and Rubin, 2018, J. Comp. Neurol. 526(16): 2585--2611",
                  "FlyBase": "FBrf0240744",
                  "PMID": "30084503",
                  "DOI": "10.1002/cne.24512",
                  "_deepnote_index_column": 62
                },
                {
                  "label": "split-GAL4 lines for LC VPNs (Wu2016)",
                  "symbol": "",
                  "id": "FlyLight2019Wu2016",
                  "tags": "Entity|Individual|DataSet",
                  "description": "['split-GAL4 lines for the Lobula Columnar (LC) visual projection neurons (LC Paper)']",
                  "miniref": "Wu et al., 2016, eLife 5: e21022",
                  "FlyBase": "FBrf0234700",
                  "PMID": "28029094",
                  "DOI": "10.7554/eLife.21022",
                  "_deepnote_index_column": 63
                },
                {
                  "label": "FlyLight - Gen1 GAL4/LexA collection (exported 2019)",
                  "symbol": "",
                  "id": "FlyLightGen1Set2019",
                  "tags": "Entity|Individual|DataSet",
                  "description": "[]",
                  "miniref": "Jenett et al., 2012, Cell Rep. 2(4): 991--1001",
                  "FlyBase": "FBrf0219813",
                  "PMID": "23063364",
                  "DOI": "10.1016/j.celrep.2012.09.011",
                  "_deepnote_index_column": 80
                },
                {
                  "label": "Larval peristaltic locomotor system neurons - EM (Fushiki2016)",
                  "symbol": "",
                  "id": "Fushiki2016",
                  "tags": "Entity|Individual|DataSet",
                  "description": "['Fushiki et al. 2016']",
                  "miniref": "Fushiki et al., 2016, eLife 5: e13253",
                  "FlyBase": "FBrf0231611",
                  "PMID": "26880545",
                  "DOI": "10.7554/eLife.13253",
                  "_deepnote_index_column": 34
                },
                {
                  "label": "Nociceptive circuit neurons - EM (Gerhard2017)",
                  "symbol": "",
                  "id": "Gerhard2017",
                  "tags": "Entity|Individual|DataSet",
                  "description": "['Gerhard et al. 2017']",
                  "miniref": "Gerhard et al., 2017, eLife 6: e29089",
                  "FlyBase": "FBrf0237057",
                  "PMID": "29058674",
                  "DOI": "10.7554/eLife.29089",
                  "_deepnote_index_column": 52
                },
                {
                  "label": "Grooming neurons and drivers (Hampel 2015)",
                  "symbol": "",
                  "id": "Hampel2015",
                  "tags": "Entity|Individual|DataSet",
                  "description": "['Images of grooming neurons and split GAL4 line drivers.']",
                  "miniref": "Hampel et al., 2015, eLife 4: e08758",
                  "FlyBase": "FBrf0229838",
                  "PMID": "26344548",
                  "DOI": "10.7554/eLife.08758",
                  "_deepnote_index_column": 75
                },
                {
                  "label": "LexA driver targetting mechanosensory eye bristles (Hampel2017)",
                  "symbol": "",
                  "id": "Hampel2017",
                  "tags": "Entity|Individual|DataSet",
                  "description": "['Simultaneous activation of parallel sensory pathways promotes a grooming sequence in Drosophila']",
                  "miniref": "Hampel et al., 2017, eLife 6: e28804",
                  "FlyBase": "FBrf0236775",
                  "PMID": "28887878",
                  "DOI": "10.7554/eLife.28804",
                  "_deepnote_index_column": 42
                },
                {
                  "label": "EM FAFB Hampel and Eichler et al 2020",
                  "symbol": "",
                  "id": "HampelEichler2020",
                  "tags": "Entity|Individual|DataSet",
                  "description": "['FAFB EM reconstructed neurons from Hampel and Eichler et al 2020']",
                  "miniref": "Hampel et al., 2020, eLife 9: e59976",
                  "FlyBase": "FBrf0247223",
                  "PMID": "33103999",
                  "DOI": "10.7554/eLife.59976",
                  "_deepnote_index_column": 18
                },
                {
                  "label": "Eve+ neurons, sensorimotor circuit - EM (Heckscher2015)",
                  "symbol": "",
                  "id": "Heckscher2015",
                  "tags": "Entity|Individual|DataSet",
                  "description": "['Heckscher et al. 2015']",
                  "miniref": "Heckscher et al., 2015, Neuron 88(2): 314--329",
                  "FlyBase": "FBrf0229965",
                  "PMID": "26439528",
                  "DOI": "10.1016/j.neuron.2015.09.009",
                  "_deepnote_index_column": 27
                },
                {
                  "label": "Ito lab adult brain lineage clone image set",
                  "symbol": "",
                  "id": "Ito2013",
                  "tags": "Entity|Individual|DataSet",
                  "description": "[\"An exhaustive set of lineage clones covering the adult brain from Kei Ito's  lab.\"]",
                  "miniref": "Ito et al., 2013, Curr. Biol. 23(8): 644--655",
                  "FlyBase": "FBrf0221438",
                  "PMID": "23541729",
                  "DOI": "10.1016/j.cub.2013.03.015",
                  "_deepnote_index_column": 71
                },
                {
                  "label": "JRC 2018 templates & ROIs",
                  "symbol": "",
                  "id": "JRC2018",
                  "tags": "Entity|Individual|DataSet",
                  "description": "['JRC2018 templates with regions of interest painted by Kazunori Shinomiya']",
                  "miniref": "Bogovic et al., 2019, biorxiv",
                  "FlyBase": "",
                  "PMID": "",
                  "DOI": "10.1101/376384",
                  "_deepnote_index_column": 8
                },
                {
                  "label": "FlyLight - GMR GAL4 collection (Jenett2012)",
                  "symbol": "",
                  "id": "Jenett2012",
                  "tags": "Entity|Individual|DataSet",
                  "description": "[]",
                  "miniref": "Jenett et al., 2012, Cell Rep. 2(4): 991--1001",
                  "FlyBase": "FBrf0219813",
                  "PMID": "23063364",
                  "DOI": "10.1016/j.celrep.2012.09.011",
                  "_deepnote_index_column": 28
                },
                {
                  "label": "BrainName neuropils on adult brain JFRC2 (Jenett, Shinomya)",
                  "symbol": "",
                  "id": "JenettShinomya_BrainName",
                  "tags": "Entity|Individual|DataSet",
                  "description": "[]",
                  "miniref": "Ito et al., 2014, Neuron 81(4): 755--765",
                  "FlyBase": "FBrf0224194",
                  "PMID": "24559671",
                  "DOI": "10.1016/j.neuron.2013.12.017",
                  "_deepnote_index_column": 74
                },
                {
                  "label": "larval sensorimotor decision pathways (Jovanic2016)",
                  "symbol": "",
                  "id": "Jovanic2016",
                  "tags": "Entity|Individual|DataSet",
                  "description": "['Jovanic, Schneider-Mizell et al. 2016']",
                  "miniref": "Jovanic et al., 2016, Cell 167(3): 858--870.e19",
                  "FlyBase": "FBrf0233796",
                  "PMID": "27720450",
                  "DOI": "10.1016/j.cell.2016.09.009",
                  "_deepnote_index_column": 16
                },
                {
                  "label": "EM L1 Jovanic et al. 2019",
                  "symbol": "",
                  "id": "Jovanic2019",
                  "tags": "Entity|Individual|DataSet",
                  "description": "['L1 EM reconstructed neurons from Jovanic et al. 2019']",
                  "miniref": "Jovanic et al., 2019, Curr. Biol. 29(4): 554--566.e4",
                  "FlyBase": "FBrf0241547",
                  "PMID": "30744969",
                  "DOI": "10.1016/j.cub.2019.01.009",
                  "_deepnote_index_column": 11
                },
                {
                  "label": "EM FAFB Kim et al 2020",
                  "symbol": "",
                  "id": "Kim2020",
                  "tags": "Entity|Individual|DataSet",
                  "description": "['FAFB EM reconstructed neurons from Kim et al 2020']",
                  "miniref": "Kim et al., 2020",
                  "FlyBase": "",
                  "PMID": "",
                  "DOI": "10.1002/cne.24877",
                  "_deepnote_index_column": 83
                },
                {
                  "label": "Split-GAL4 lines from Klapoetke et al. 2017",
                  "symbol": "",
                  "id": "Klapoetke2017",
                  "tags": "Entity|Individual|DataSet",
                  "description": "['Split-GAL4 lines used for the characterization of LPLC2 anatomy and function']",
                  "miniref": "Klapoetke et al., 2017, Nature 551(7679): 237--241",
                  "FlyBase": "FBrf0237184",
                  "PMID": "29120418",
                  "DOI": "10.1038/nature24626",
                  "_deepnote_index_column": 29
                },
                {
                  "label": "BrainTrap lines (Knowles-Barley2010)",
                  "symbol": "",
                  "id": "Knowles_Barley2010",
                  "tags": "Entity|Individual|DataSet",
                  "description": "[]",
                  "miniref": "Knowles-Barley et al., 2010, Database (Oxford) 2010: baq005",
                  "FlyBase": "FBrf0211243",
                  "PMID": "20624714",
                  "DOI": "10.1093/database/baq005",
                  "_deepnote_index_column": 69
                },
                {
                  "label": "Third order olfactory neurons involved in pheromone response - backfills (Kohl2013)",
                  "symbol": "",
                  "id": "Kohl2013",
                  "tags": "Entity|Individual|DataSet",
                  "description": "[]",
                  "miniref": "Kohl et al., 2013, Cell 155(7): 1610--1623",
                  "FlyBase": "FBrf0223724",
                  "PMID": "24360281",
                  "DOI": "10.1016/j.cell.2013.11.025",
                  "_deepnote_index_column": 40
                },
                {
                  "label": "larval visual circuit neurons (Larderet2017)",
                  "symbol": "",
                  "id": "Larderet2017",
                  "tags": "Entity|Individual|DataSet",
                  "description": "['Larderet, Fritsch et al. 2017']",
                  "miniref": "Larderet et al., 2017, eLife 6: e28387",
                  "FlyBase": "FBrf0237760",
                  "PMID": "",
                  "DOI": "10.7554/eLife.28387",
                  "_deepnote_index_column": 24
                },
                {
                  "label": "FlyLight split-GAL4 lines for Lateral Horn",
                  "symbol": "",
                  "id": "LateralHorn2019",
                  "tags": "Entity|Individual|DataSet",
                  "description": "['FlyLight split-GAL4 lines for Lateral Horn from Dolan et al. 2019']",
                  "miniref": "Dolan et al., 2019, eLife 8: e43079",
                  "FlyBase": "FBrf0242477",
                  "PMID": "31112130",
                  "DOI": "10.7554/eLife.43079",
                  "_deepnote_index_column": 66
                },
                {
                  "label": "central brain neurons by lineage, Lee2020",
                  "symbol": "",
                  "id": "Lee2020",
                  "tags": "Entity|Individual|DataSet",
                  "description": "['A catalogue of single neuron images covering 18 central brain lineages.']",
                  "miniref": "Lee et al., 2020",
                  "FlyBase": "",
                  "PMID": "",
                  "DOI": "10.7554/eLife.53518",
                  "_deepnote_index_column": 0
                },
                {
                  "label": "Neurons involved in courtship and song (Lilvis2018)",
                  "symbol": "",
                  "id": "Lilvis2018",
                  "tags": "Entity|Individual|DataSet",
                  "description": "['single example of pIP10 neuron in adult CNS']",
                  "miniref": "Ding et al., 2017",
                  "FlyBase": "",
                  "PMID": "",
                  "DOI": "10.1101/238147",
                  "_deepnote_index_column": 31
                },
                {
                  "label": "EM FAFB Marin et al 2020",
                  "symbol": "",
                  "id": "Marin2020",
                  "tags": "Entity|Individual|DataSet",
                  "description": "['FAFB EM reconstructed neurons from Marin et al 2020']",
                  "miniref": "Marin et al., 2020",
                  "FlyBase": "",
                  "PMID": "",
                  "DOI": "10.1016/j.cub.2020.06.028",
                  "_deepnote_index_column": 57
                },
                {
                  "label": "EM L1 Mark et al. 2019",
                  "symbol": "",
                  "id": "Mark2019",
                  "tags": "Entity|Individual|DataSet",
                  "description": "['L1 EM reconstructed neurons from Mark et al. 2019']",
                  "miniref": "Mark et al., 2019",
                  "FlyBase": "",
                  "PMID": "",
                  "DOI": "10.1101/617936",
                  "_deepnote_index_column": 51
                },
                {
                  "label": "AMMC local and projection neurons (Matsuo2016)",
                  "symbol": "",
                  "id": "Matsuo2016",
                  "tags": "Entity|Individual|DataSet",
                  "description": "[]",
                  "miniref": "Matsuo et al., 2016, J. Comp. Neurol. 524(6): 1099--1164",
                  "FlyBase": "FBrf0230862",
                  "PMID": "26762251",
                  "DOI": "10.1002/cne.23955",
                  "_deepnote_index_column": 10
                },
                {
                  "label": "EM L1 Miroschnikow et al. 2018",
                  "symbol": "",
                  "id": "Miroschnikow2018",
                  "tags": "Entity|Individual|DataSet",
                  "description": "['L1 EM reconstructed neurons from Miroschnikow et al. 2018']",
                  "miniref": "Miroschnikow et al., 2018, eLife 7: e40247",
                  "FlyBase": "FBrf0240975",
                  "PMID": "30526854",
                  "DOI": "10.7554/eLife.40247",
                  "_deepnote_index_column": 47
                },
                {
                  "label": "EM FAFB Morimoto et al 2020",
                  "symbol": "",
                  "id": "Morimoto2020",
                  "tags": "Entity|Individual|DataSet",
                  "description": "['FAFB EM reconstructed neurons from Morimoto et al 2020']",
                  "miniref": "Morimoto et al., 2020, eLife 9: e57685",
                  "FlyBase": "FBrf0247630",
                  "PMID": "33205753",
                  "DOI": "10.7554/eLife.57685",
                  "_deepnote_index_column": 26
                },
                {
                  "label": "split-GAL4 lines for descending neurons (Namiki2018)",
                  "symbol": "",
                  "id": "Namiki2018",
                  "tags": "Entity|Individual|DataSet",
                  "description": "['Descending sensory-motor pathways in adult CNS']",
                  "miniref": "Namiki et al., 2018, eLife 7: e34272",
                  "FlyBase": "FBrf0239335",
                  "PMID": "29943730",
                  "DOI": "10.7554/eLife.34272",
                  "_deepnote_index_column": 67
                },
                {
                  "label": "Neurons involved in larval fast escape response - EM (Ohyama2016)",
                  "symbol": "",
                  "id": "Ohyama2015",
                  "tags": "Entity|Individual|DataSet",
                  "description": "['Ohyama, Schneider-Mizell et al. 2015']",
                  "miniref": "Ohyama et al., 2015, Nature 520(7549): 633--639",
                  "FlyBase": "FBrf0228257",
                  "PMID": "25896325",
                  "DOI": "10.1038/nature14297",
                  "_deepnote_index_column": 15
                },
                {
                  "label": "EM FAFB Otto et al 2020",
                  "symbol": "",
                  "id": "Otto2020",
                  "tags": "Entity|Individual|DataSet",
                  "description": "['FAFB EM reconstructed neurons from Otto et al 2020']",
                  "miniref": "Otto et al., 2020, Curr. Biol. 30(16): 3200--3211.e8",
                  "FlyBase": "FBrf0246510",
                  "PMID": "32619479",
                  "DOI": "10.1016/j.cub.2020.05.077",
                  "_deepnote_index_column": 17
                },
                {
                  "label": "split-GAL4 lines for  EB neurons (Robie2017)",
                  "symbol": "",
                  "id": "Robie2017",
                  "tags": "Entity|Individual|DataSet",
                  "description": "['split-GAL4 lines for Ellipsoid Body neurons from the (walking-more) brain-behavior map']",
                  "miniref": "Robie et al., 2017, Cell 170(2): 393--406.e28",
                  "FlyBase": "FBrf0236042",
                  "PMID": "28709004",
                  "DOI": "10.1016/j.cell.2017.06.032",
                  "_deepnote_index_column": 49
                },
                {
                  "label": "EM FAFB Sayin et al 2019",
                  "symbol": "",
                  "id": "Sayin2019",
                  "tags": "Entity|Individual|DataSet",
                  "description": "['FAFB EM reconstructed neurons from Sayin et al 2019']",
                  "miniref": "Sayin et al., 2019, Neuron 104(3): 544--558.e6",
                  "FlyBase": "FBrf0243986",
                  "PMID": "31471123",
                  "DOI": "10.1016/j.neuron.2019.07.028",
                  "_deepnote_index_column": 3
                },
                {
                  "label": "larval hugin neurons - EM (Schlegel2016)",
                  "symbol": "",
                  "id": "Schlegel2016",
                  "tags": "Entity|Individual|DataSet",
                  "description": "['Schlegel et al. 2016']",
                  "miniref": "Schlegel et al., 2016, eLife 5: e16799",
                  "FlyBase": "FBrf0234450",
                  "PMID": "27845623",
                  "DOI": "10.7554/eLife.16799",
                  "_deepnote_index_column": 56
                },
                {
                  "label": "Splits targetting the visual motion pathway, Strother2017",
                  "symbol": "",
                  "id": "Strother2017",
                  "tags": "Entity|Individual|DataSet",
                  "description": "['']",
                  "miniref": "Strother et al., 2017, Neuron 94(1): 168--182.e10",
                  "FlyBase": "FBrf0235230",
                  "PMID": "28384470",
                  "DOI": "10.1016/j.neuron.2017.03.010",
                  "_deepnote_index_column": 4
                },
                {
                  "label": "Larval wave neurons and circuit partners - EM  (Takagi2017)",
                  "symbol": "",
                  "id": "Takagi2017",
                  "tags": "Entity|Individual|DataSet",
                  "description": "['Takagi et al. 2017']",
                  "miniref": "Takagi et al., 2017, Neuron 96(6): 1373--1387.e6",
                  "FlyBase": "FBrf0237618",
                  "PMID": "29198754",
                  "DOI": "10.1016/j.neuron.2017.10.030",
                  "_deepnote_index_column": 5
                },
                {
                  "label": "EM L1 Tastekin et al 2018",
                  "symbol": "",
                  "id": "Tastekin2018",
                  "tags": "Entity|Individual|DataSet",
                  "description": "['L1 EM reconstructed neurons from Tastekin et al 2018']",
                  "miniref": "Tastekin et al., 2018, eLife 7: e38740",
                  "FlyBase": "FBrf0240828",
                  "PMID": "30465650",
                  "DOI": "10.7554/eLife.38740",
                  "_deepnote_index_column": 35
                },
                {
                  "label": "L3 Larval CNS Template (Truman2016)",
                  "symbol": "",
                  "id": "Truman2016",
                  "tags": "Entity|Individual|DataSet",
                  "description": "['Template image by James W. Truman and the Fly Light Project Team at HHMI Janelia Research Campus.']",
                  "miniref": "",
                  "FlyBase": "",
                  "PMID": "",
                  "DOI": "",
                  "_deepnote_index_column": 22
                },
                {
                  "label": "Truman Larval Flip-Out Collection",
                  "symbol": "",
                  "id": "TrumanWood2018public",
                  "tags": "Entity|Individual|DataSet",
                  "description": "['Images by James W. Truman and the Fly Light Project Team at HHMI Janelia Research Campus.']",
                  "miniref": "",
                  "FlyBase": "",
                  "PMID": "",
                  "DOI": "",
                  "_deepnote_index_column": 21
                },
                {
                  "label": "EM FAFB Turner-Evans et al 2020",
                  "symbol": "",
                  "id": "Turner_Evans2020",
                  "tags": "Entity|Individual|DataSet",
                  "description": "['FAFB EM reconstructed neurons from Turner-Evans et al 2020']",
                  "miniref": "Turner-Evans et al., 2020",
                  "FlyBase": "",
                  "PMID": "",
                  "DOI": "10.1016/j.neuron.2020.08.006",
                  "_deepnote_index_column": 33
                },
                {
                  "label": "EM FAFB Wang et al 2020a",
                  "symbol": "",
                  "id": "Wang2020a",
                  "tags": "Entity|Individual|DataSet",
                  "description": "['FAFB EM reconstructed neurons from Wang et al 2020a']",
                  "miniref": "Wang et al., 2020, Nature 579(7797): 101--105",
                  "FlyBase": "FBrf0245074",
                  "PMID": "32103180",
                  "DOI": "10.1038/s41586-020-2055-9",
                  "_deepnote_index_column": 41
                },
                {
                  "label": "EM FAFB Wang et al 2020b",
                  "symbol": "",
                  "id": "Wang2020b",
                  "tags": "Entity|Individual|DataSet",
                  "description": "['FAFB EM reconstructed neurons from Wang et al 2020b']",
                  "miniref": "Wang et al., 2020, Curr. Biol. 30(19): 3749--3760.e3",
                  "FlyBase": "FBrf0246914",
                  "PMID": "32795445",
                  "DOI": "10.1016/j.cub.2020.07.083",
                  "_deepnote_index_column": 65
                },
                {
                  "label": "Splits targetting CX neurons, Wolff2018",
                  "symbol": "",
                  "id": "Wolff2018",
                  "tags": "Entity|Individual|DataSet",
                  "description": "['']",
                  "miniref": "Wolff and Rubin, 2018, J. Comp. Neurol. 526(16): 2585--2611",
                  "FlyBase": "FBrf0240744",
                  "PMID": "30084503",
                  "DOI": "10.1002/cne.24512",
                  "_deepnote_index_column": 60
                },
                {
                  "label": "L3 neuropils (WoodHartenstein2018)",
                  "symbol": "",
                  "id": "WoodHartenstein2018",
                  "tags": "Entity|Individual|DataSet",
                  "description": "[]",
                  "miniref": "",
                  "FlyBase": "",
                  "PMID": "",
                  "DOI": "",
                  "_deepnote_index_column": 39
                },
                {
                  "label": "split-GAL4 lines for LC VPNs (Wu2016)",
                  "symbol": "",
                  "id": "Wu2016",
                  "tags": "Entity|Individual|DataSet",
                  "description": "['split-GAL4 lines for the Lobula Columnar (LC) visual projection neurons (LC Paper)']",
                  "miniref": "Wu et al., 2016, eLife 5: e21022",
                  "FlyBase": "FBrf0234700",
                  "PMID": "28029094",
                  "DOI": "10.7554/eLife.21022",
                  "_deepnote_index_column": 48
                },
                {
                  "label": "Split GAL4 lines for dopaminergic neurons, Xie2018",
                  "symbol": "",
                  "id": "Xie2018",
                  "tags": "Entity|Individual|DataSet",
                  "description": "[]",
                  "miniref": "Xie et al., 2018, Cell Rep. 23(2): 652--665",
                  "FlyBase": "FBrf0238545",
                  "PMID": "29642019",
                  "DOI": "10.1016/j.celrep.2018.03.068",
                  "_deepnote_index_column": 19
                },
                {
                  "label": "JRC_FlyEM_Hemibrain neurons Version 1.0.1",
                  "symbol": "",
                  "id": "Xu2020Neurons",
                  "tags": "Entity|Individual|DataSet",
                  "description": "['Version 1.0.1 of reconstruction JRC_FlyEM_Hemibrain neurons and their synaptic connectivity']",
                  "miniref": "Xu et al., 2020",
                  "FlyBase": "",
                  "PMID": "",
                  "DOI": "10.1101/2020.01.21.911859",
                  "_deepnote_index_column": 7
                },
                {
                  "label": "JRC_FlyEM_Hemibrain neurons Version 1.1",
                  "symbol": "",
                  "id": "Xu2020NeuronsV1point1",
                  "tags": "Entity|Individual|DataSet",
                  "description": "['Version 1.1 of reconstruction JRC_FlyEM_Hemibrain neurons and their synaptic connectivity']",
                  "miniref": "Xu et al., 2020",
                  "FlyBase": "",
                  "PMID": "",
                  "DOI": "10.1101/2020.01.21.911859",
                  "_deepnote_index_column": 20
                },
                {
                  "label": "JRC_FlyEM_Hemibrain painted domains",
                  "symbol": "",
                  "id": "Xu2020roi",
                  "tags": "Entity|Individual|DataSet",
                  "description": "['Synapse segmentation and regions of interest on JRC_FlyEM_Hemibrain']",
                  "miniref": "Xu et al., 2020",
                  "FlyBase": "",
                  "PMID": "",
                  "DOI": "10.1101/2020.01.21.911859",
                  "_deepnote_index_column": 78
                },
                {
                  "label": "Lee lab adult brain lineage clone image set",
                  "symbol": "",
                  "id": "Yu2013",
                  "tags": "Entity|Individual|DataSet",
                  "description": "[\"An exhaustive set of lineage clones covering the adult brain from Tzumin Lee's lab.\"]",
                  "miniref": "Yu et al., 2013, Curr. Biol. 23(8): 633--643",
                  "FlyBase": "FBrf0221412",
                  "PMID": "23541733",
                  "DOI": "10.1016/j.cub.2013.02.057",
                  "_deepnote_index_column": 14
                },
                {
                  "label": "EM L1 Zarin, Mark et al. 2019",
                  "symbol": "",
                  "id": "Zarin2019",
                  "tags": "Entity|Individual|DataSet",
                  "description": "['L1 EM reconstructed neurons from Zarin, Mark et al. 2019']",
                  "miniref": "Zarin, Mark et al., 2019",
                  "FlyBase": "",
                  "PMID": "",
                  "DOI": "10.1101/617977",
                  "_deepnote_index_column": 64
                },
                {
                  "label": "EM FAFB Zheng et al 2018",
                  "symbol": "",
                  "id": "Zheng2018",
                  "tags": "Entity|Individual|DataSet",
                  "description": "['FAFB EM reconstructed neurons from Zheng et al 2018']",
                  "miniref": "Zheng et al., 2018, Cell 174(3): 730--743.e22",
                  "FlyBase": "FBrf0239557",
                  "PMID": "30033368",
                  "DOI": "10.1016/j.cell.2018.06.019",
                  "_deepnote_index_column": 6
                },
                {
                  "label": "EM FAFB Zheng et al 2020",
                  "symbol": "",
                  "id": "Zheng2020",
                  "tags": "Entity|Individual|DataSet",
                  "description": "['FAFB EM reconstructed neurons from Zheng et al 2020']",
                  "miniref": "Zheng et al. 2020",
                  "FlyBase": "",
                  "PMID": "",
                  "DOI": "10.1101/2020.04.17.047167",
                  "_deepnote_index_column": 79
                },
                {
                  "label": "Larval motor circuit neurons (Zwart2016)",
                  "symbol": "",
                  "id": "Zwart2016",
                  "tags": "Entity|Individual|DataSet",
                  "description": "['Zwart et al. 2016']",
                  "miniref": "Zwart et al., 2016, Neuron 91(3): 615--628",
                  "FlyBase": "FBrf0233076",
                  "PMID": "27427461",
                  "DOI": "10.1016/j.neuron.2016.06.031",
                  "_deepnote_index_column": 13
                }
              ],
              "rows_bottom": null
            },
            "text/plain": "                                                label symbol  \\\n36                          EM L1 Andrade et al. 2019          \n55  MBONs and split-GAL4 lines that target them (A...          \n73  split-GAL4 lines for dopaminergic neurons (Aso...          \n59              EM FAFB Bates and Schlegel et al 2020          \n12    Larval olfactory system neurons - EM (Berk2016)          \n..                                                ...    ...   \n14        Lee lab adult brain lineage clone image set          \n64                      EM L1 Zarin, Mark et al. 2019          \n6                            EM FAFB Zheng et al 2018          \n79                           EM FAFB Zheng et al 2020          \n13           Larval motor circuit neurons (Zwart2016)          \n\n                   id                       tags  \\\n36        Andrade2019  Entity|Individual|DataSet   \n55            Aso2014  Entity|Individual|DataSet   \n73       AsoRubin2016  Entity|Individual|DataSet   \n59  BatesSchlegel2020  Entity|Individual|DataSet   \n12          Berck2016  Entity|Individual|DataSet   \n..                ...                        ...   \n14             Yu2013  Entity|Individual|DataSet   \n64          Zarin2019  Entity|Individual|DataSet   \n6           Zheng2018  Entity|Individual|DataSet   \n79          Zheng2020  Entity|Individual|DataSet   \n13          Zwart2016  Entity|Individual|DataSet   \n\n                                          description  \\\n36  [L1 EM reconstructed neurons from Andrade et a...   \n55                                                 []   \n73  [For comparison of the properties of memories ...   \n59  [FAFB EM reconstructed neurons from Bates and ...   \n12                    [Berck, Khandelwal et al. 2016]   \n..                                                ...   \n14  [An exhaustive set of lineage clones covering ...   \n64  [L1 EM reconstructed neurons from Zarin, Mark ...   \n6   [FAFB EM reconstructed neurons from Zheng et a...   \n79  [FAFB EM reconstructed neurons from Zheng et a...   \n13                                [Zwart et al. 2016]   \n\n                                              miniref      FlyBase      PMID  \\\n36  Andrade et al., 2019, Curr. Biol. 29(3): 412--...  FBrf0241389  30661802   \n55                  Aso et al., 2014, eLife 3: e04577  FBrf0227179  25535793   \n73               Aso and Rubin, 2016, eLife 5: e16135  FBrf0233230  27441388   \n59                    Bates and Schlegel et al., 2020                          \n12                Berck et al., 2016, eLife 5: e14859  FBrf0232785  27177418   \n..                                                ...          ...       ...   \n14       Yu et al., 2013, Curr. Biol. 23(8): 633--643  FBrf0221412  23541733   \n64                           Zarin, Mark et al., 2019                          \n6       Zheng et al., 2018, Cell 174(3): 730--743.e22  FBrf0239557  30033368   \n79                                  Zheng et al. 2020                          \n13         Zwart et al., 2016, Neuron 91(3): 615--628  FBrf0233076  27427461   \n\n                             DOI  \n36     10.1016/j.cub.2018.12.012  \n55           10.7554/eLife.04577  \n73           10.7554/eLife.16135  \n59     10.1016/j.cub.2020.06.042  \n12           10.7554/eLife.14859  \n..                           ...  \n14     10.1016/j.cub.2013.02.057  \n64                10.1101/617977  \n6     10.1016/j.cell.2018.06.019  \n79     10.1101/2020.04.17.047167  \n13  10.1016/j.neuron.2016.06.031  \n\n[84 rows x 9 columns]",
            "text/html": "<div>\n<style scoped>\n    .dataframe tbody tr th:only-of-type {\n        vertical-align: middle;\n    }\n\n    .dataframe tbody tr th {\n        vertical-align: top;\n    }\n\n    .dataframe thead th {\n        text-align: right;\n    }\n</style>\n<table border=\"1\" class=\"dataframe\">\n  <thead>\n    <tr style=\"text-align: right;\">\n      <th></th>\n      <th>label</th>\n      <th>symbol</th>\n      <th>id</th>\n      <th>tags</th>\n      <th>description</th>\n      <th>miniref</th>\n      <th>FlyBase</th>\n      <th>PMID</th>\n      <th>DOI</th>\n    </tr>\n  </thead>\n  <tbody>\n    <tr>\n      <th>36</th>\n      <td>EM L1 Andrade et al. 2019</td>\n      <td></td>\n      <td>Andrade2019</td>\n      <td>Entity|Individual|DataSet</td>\n      <td>[L1 EM reconstructed neurons from Andrade et a...</td>\n      <td>Andrade et al., 2019, Curr. Biol. 29(3): 412--...</td>\n      <td>FBrf0241389</td>\n      <td>30661802</td>\n      <td>10.1016/j.cub.2018.12.012</td>\n    </tr>\n    <tr>\n      <th>55</th>\n      <td>MBONs and split-GAL4 lines that target them (A...</td>\n      <td></td>\n      <td>Aso2014</td>\n      <td>Entity|Individual|DataSet</td>\n      <td>[]</td>\n      <td>Aso et al., 2014, eLife 3: e04577</td>\n      <td>FBrf0227179</td>\n      <td>25535793</td>\n      <td>10.7554/eLife.04577</td>\n    </tr>\n    <tr>\n      <th>73</th>\n      <td>split-GAL4 lines for dopaminergic neurons (Aso...</td>\n      <td></td>\n      <td>AsoRubin2016</td>\n      <td>Entity|Individual|DataSet</td>\n      <td>[For comparison of the properties of memories ...</td>\n      <td>Aso and Rubin, 2016, eLife 5: e16135</td>\n      <td>FBrf0233230</td>\n      <td>27441388</td>\n      <td>10.7554/eLife.16135</td>\n    </tr>\n    <tr>\n      <th>59</th>\n      <td>EM FAFB Bates and Schlegel et al 2020</td>\n      <td></td>\n      <td>BatesSchlegel2020</td>\n      <td>Entity|Individual|DataSet</td>\n      <td>[FAFB EM reconstructed neurons from Bates and ...</td>\n      <td>Bates and Schlegel et al., 2020</td>\n      <td></td>\n      <td></td>\n      <td>10.1016/j.cub.2020.06.042</td>\n    </tr>\n    <tr>\n      <th>12</th>\n      <td>Larval olfactory system neurons - EM (Berk2016)</td>\n      <td></td>\n      <td>Berck2016</td>\n      <td>Entity|Individual|DataSet</td>\n      <td>[Berck, Khandelwal et al. 2016]</td>\n      <td>Berck et al., 2016, eLife 5: e14859</td>\n      <td>FBrf0232785</td>\n      <td>27177418</td>\n      <td>10.7554/eLife.14859</td>\n    </tr>\n    <tr>\n      <th>...</th>\n      <td>...</td>\n      <td>...</td>\n      <td>...</td>\n      <td>...</td>\n      <td>...</td>\n      <td>...</td>\n      <td>...</td>\n      <td>...</td>\n      <td>...</td>\n    </tr>\n    <tr>\n      <th>14</th>\n      <td>Lee lab adult brain lineage clone image set</td>\n      <td></td>\n      <td>Yu2013</td>\n      <td>Entity|Individual|DataSet</td>\n      <td>[An exhaustive set of lineage clones covering ...</td>\n      <td>Yu et al., 2013, Curr. Biol. 23(8): 633--643</td>\n      <td>FBrf0221412</td>\n      <td>23541733</td>\n      <td>10.1016/j.cub.2013.02.057</td>\n    </tr>\n    <tr>\n      <th>64</th>\n      <td>EM L1 Zarin, Mark et al. 2019</td>\n      <td></td>\n      <td>Zarin2019</td>\n      <td>Entity|Individual|DataSet</td>\n      <td>[L1 EM reconstructed neurons from Zarin, Mark ...</td>\n      <td>Zarin, Mark et al., 2019</td>\n      <td></td>\n      <td></td>\n      <td>10.1101/617977</td>\n    </tr>\n    <tr>\n      <th>6</th>\n      <td>EM FAFB Zheng et al 2018</td>\n      <td></td>\n      <td>Zheng2018</td>\n      <td>Entity|Individual|DataSet</td>\n      <td>[FAFB EM reconstructed neurons from Zheng et a...</td>\n      <td>Zheng et al., 2018, Cell 174(3): 730--743.e22</td>\n      <td>FBrf0239557</td>\n      <td>30033368</td>\n      <td>10.1016/j.cell.2018.06.019</td>\n    </tr>\n    <tr>\n      <th>79</th>\n      <td>EM FAFB Zheng et al 2020</td>\n      <td></td>\n      <td>Zheng2020</td>\n      <td>Entity|Individual|DataSet</td>\n      <td>[FAFB EM reconstructed neurons from Zheng et a...</td>\n      <td>Zheng et al. 2020</td>\n      <td></td>\n      <td></td>\n      <td>10.1101/2020.04.17.047167</td>\n    </tr>\n    <tr>\n      <th>13</th>\n      <td>Larval motor circuit neurons (Zwart2016)</td>\n      <td></td>\n      <td>Zwart2016</td>\n      <td>Entity|Individual|DataSet</td>\n      <td>[Zwart et al. 2016]</td>\n      <td>Zwart et al., 2016, Neuron 91(3): 615--628</td>\n      <td>FBrf0233076</td>\n      <td>27427461</td>\n      <td>10.1016/j.neuron.2016.06.031</td>\n    </tr>\n  </tbody>\n</table>\n<p>84 rows × 9 columns</p>\n</div>"
          },
          "metadata": {}
        }
      ]
    },
    {
      "cell_type": "markdown",
      "source": "You can also find linked datasets directly on ",
      "metadata": {
        "tags": [],
        "cell_id": "00012-b3a9e3ed-4550-44ca-96ba-c9006d2b4c3c",
        "deepnote_cell_type": "markdown"
      }
    },
    {
      "cell_type": "code",
      "metadata": {
        "tags": [],
        "cell_id": "00011-0813a13c-a41c-4399-86ea-af6b1934912b",
        "deepnote_to_be_reexecuted": false,
        "source_hash": "8d995be0",
        "execution_millis": 412,
        "output_cleared": false,
        "execution_start": 1620061459329,
        "deepnote_cell_type": "code"
      },
      "source": "sayin_tab = pd.DataFrame.from_records(vc.get_instances_by_dataset('Sayin2019', summary=True))\nsayin_tab",
      "execution_count": 8,
      "outputs": [
        {
          "output_type": "execute_result",
          "execution_count": 8,
          "data": {
            "application/vnd.deepnote.dataframe.v2+json": {
              "row_count": 2,
              "column_count": 11,
              "columns": [
                {
                  "name": "label",
                  "dtype": "object",
                  "stats": {
                    "unique_count": 2,
                    "nan_count": 0,
                    "categories": [
                      {
                        "name": "OA-VPM4 (FAFB:1191261)",
                        "count": 1
                      },
                      {
                        "name": "OA-VPM3 (FAFB:1329078)",
                        "count": 1
                      }
                    ]
                  }
                },
                {
                  "name": "symbol",
                  "dtype": "object",
                  "stats": {
                    "unique_count": 1,
                    "nan_count": 0,
                    "categories": [
                      {
                        "name": "",
                        "count": 2
                      }
                    ]
                  }
                },
                {
                  "name": "id",
                  "dtype": "object",
                  "stats": {
                    "unique_count": 2,
                    "nan_count": 0,
                    "categories": [
                      {
                        "name": "VFB_001001dq",
                        "count": 1
                      },
                      {
                        "name": "VFB_001001dr",
                        "count": 1
                      }
                    ]
                  }
                },
                {
                  "name": "tags",
                  "dtype": "object",
                  "stats": {
                    "unique_count": 1,
                    "nan_count": 0,
                    "categories": [
                      {
                        "name": "Entity|Octopaminergic|Adult|Anatomy|has_image|Cell|Individual|has_neuron_connectivity|Nervous_system|Neuron",
                        "count": 2
                      }
                    ]
                  }
                },
                {
                  "name": "parents_label",
                  "dtype": "object",
                  "stats": {
                    "unique_count": 2,
                    "nan_count": 0,
                    "categories": [
                      {
                        "name": "octopaminergic VPM4 neuron",
                        "count": 1
                      },
                      {
                        "name": "octopaminergic VPM3 neuron",
                        "count": 1
                      }
                    ]
                  }
                },
                {
                  "name": "parents_id",
                  "dtype": "object",
                  "stats": {
                    "unique_count": 2,
                    "nan_count": 0,
                    "categories": [
                      {
                        "name": "FBbt_00110152",
                        "count": 1
                      },
                      {
                        "name": "FBbt_00110151",
                        "count": 1
                      }
                    ]
                  }
                },
                {
                  "name": "data_source",
                  "dtype": "object",
                  "stats": {
                    "unique_count": 1,
                    "nan_count": 0,
                    "categories": [
                      {
                        "name": "catmaid_fafb",
                        "count": 2
                      }
                    ]
                  }
                },
                {
                  "name": "accession",
                  "dtype": "object",
                  "stats": {
                    "unique_count": 2,
                    "nan_count": 0,
                    "categories": [
                      {
                        "name": "1191261",
                        "count": 1
                      },
                      {
                        "name": "1329078",
                        "count": 1
                      }
                    ]
                  }
                },
                {
                  "name": "templates",
                  "dtype": "object",
                  "stats": {
                    "unique_count": 1,
                    "nan_count": 0,
                    "categories": [
                      {
                        "name": "JRC2018Unisex",
                        "count": 2
                      }
                    ]
                  }
                },
                {
                  "name": "dataset",
                  "dtype": "object",
                  "stats": {
                    "unique_count": 1,
                    "nan_count": 0,
                    "categories": [
                      {
                        "name": "None",
                        "count": 2
                      }
                    ]
                  }
                },
                {
                  "name": "license",
                  "dtype": "object",
                  "stats": {
                    "unique_count": 1,
                    "nan_count": 0,
                    "categories": [
                      {
                        "name": "",
                        "count": 2
                      }
                    ]
                  }
                },
                {
                  "name": "_deepnote_index_column",
                  "dtype": "int64"
                }
              ],
              "rows_top": [
                {
                  "label": "OA-VPM4 (FAFB:1191261)",
                  "symbol": "",
                  "id": "VFB_001001dq",
                  "tags": "Entity|Octopaminergic|Adult|Anatomy|has_image|Cell|Individual|has_neuron_connectivity|Nervous_system|Neuron",
                  "parents_label": "octopaminergic VPM4 neuron",
                  "parents_id": "FBbt_00110152",
                  "data_source": "catmaid_fafb",
                  "accession": "1191261",
                  "templates": "JRC2018Unisex",
                  "dataset": "None",
                  "license": "",
                  "_deepnote_index_column": 0
                },
                {
                  "label": "OA-VPM3 (FAFB:1329078)",
                  "symbol": "",
                  "id": "VFB_001001dr",
                  "tags": "Entity|Octopaminergic|Adult|Anatomy|has_image|Cell|Individual|has_neuron_connectivity|Nervous_system|Neuron",
                  "parents_label": "octopaminergic VPM3 neuron",
                  "parents_id": "FBbt_00110151",
                  "data_source": "catmaid_fafb",
                  "accession": "1329078",
                  "templates": "JRC2018Unisex",
                  "dataset": "None",
                  "license": "",
                  "_deepnote_index_column": 1
                }
              ],
              "rows_bottom": null
            },
            "text/plain": "                    label symbol            id  \\\n0  OA-VPM4 (FAFB:1191261)         VFB_001001dq   \n1  OA-VPM3 (FAFB:1329078)         VFB_001001dr   \n\n                                                tags  \\\n0  Entity|Octopaminergic|Adult|Anatomy|has_image|...   \n1  Entity|Octopaminergic|Adult|Anatomy|has_image|...   \n\n                parents_label     parents_id   data_source accession  \\\n0  octopaminergic VPM4 neuron  FBbt_00110152  catmaid_fafb   1191261   \n1  octopaminergic VPM3 neuron  FBbt_00110151  catmaid_fafb   1329078   \n\n       templates dataset license  \n0  JRC2018Unisex    None          \n1  JRC2018Unisex    None          ",
            "text/html": "<div>\n<style scoped>\n    .dataframe tbody tr th:only-of-type {\n        vertical-align: middle;\n    }\n\n    .dataframe tbody tr th {\n        vertical-align: top;\n    }\n\n    .dataframe thead th {\n        text-align: right;\n    }\n</style>\n<table border=\"1\" class=\"dataframe\">\n  <thead>\n    <tr style=\"text-align: right;\">\n      <th></th>\n      <th>label</th>\n      <th>symbol</th>\n      <th>id</th>\n      <th>tags</th>\n      <th>parents_label</th>\n      <th>parents_id</th>\n      <th>data_source</th>\n      <th>accession</th>\n      <th>templates</th>\n      <th>dataset</th>\n      <th>license</th>\n    </tr>\n  </thead>\n  <tbody>\n    <tr>\n      <th>0</th>\n      <td>OA-VPM4 (FAFB:1191261)</td>\n      <td></td>\n      <td>VFB_001001dq</td>\n      <td>Entity|Octopaminergic|Adult|Anatomy|has_image|...</td>\n      <td>octopaminergic VPM4 neuron</td>\n      <td>FBbt_00110152</td>\n      <td>catmaid_fafb</td>\n      <td>1191261</td>\n      <td>JRC2018Unisex</td>\n      <td>None</td>\n      <td></td>\n    </tr>\n    <tr>\n      <th>1</th>\n      <td>OA-VPM3 (FAFB:1329078)</td>\n      <td></td>\n      <td>VFB_001001dr</td>\n      <td>Entity|Octopaminergic|Adult|Anatomy|has_image|...</td>\n      <td>octopaminergic VPM3 neuron</td>\n      <td>FBbt_00110151</td>\n      <td>catmaid_fafb</td>\n      <td>1329078</td>\n      <td>JRC2018Unisex</td>\n      <td>None</td>\n      <td></td>\n    </tr>\n  </tbody>\n</table>\n</div>"
          },
          "metadata": {}
        }
      ]
    },
    {
      "cell_type": "code",
      "metadata": {
        "tags": [],
        "cell_id": "00001-98280165-9254-4b9a-a3a8-776420fa14b9",
        "deepnote_to_be_reexecuted": false,
        "source_hash": "5b5dd492",
        "execution_millis": 6884,
        "output_cleared": false,
        "execution_start": 1620061459738,
        "deepnote_cell_type": "code"
      },
      "source": "# Find connections between neurons by type across datasets.\n# Note: results are limited by how detailed annotation currently is in the DB.  \n    \nvc.get_connected_neurons_by_type(upstream_type='GABAergic neuron', downstream_type='adult descending neuron', weight=10).sort_values(['weight'],ascending=False)",
      "execution_count": 9,
      "outputs": [
        {
          "output_type": "execute_result",
          "execution_count": 9,
          "data": {
            "application/vnd.deepnote.dataframe.v2+json": {
              "row_count": 23,
              "column_count": 11,
              "columns": [
                {
                  "name": "upstream_neuron_id",
                  "dtype": "object",
                  "stats": {
                    "unique_count": 13,
                    "nan_count": 0,
                    "categories": [
                      {
                        "name": "VFB_jrchk7jh",
                        "count": 4
                      },
                      {
                        "name": "VFB_jrchk8dp",
                        "count": 3
                      },
                      {
                        "name": "11 others",
                        "count": 16
                      }
                    ]
                  }
                },
                {
                  "name": "upstream_neuron_name",
                  "dtype": "object",
                  "stats": {
                    "unique_count": 13,
                    "nan_count": 0,
                    "categories": [
                      {
                        "name": "VP4+_vPN(mlALT)_R (FlyEM-HB:543010474)",
                        "count": 4
                      },
                      {
                        "name": "oviIN_R (FlyEM-HB:423101189)",
                        "count": 3
                      },
                      {
                        "name": "11 others",
                        "count": 16
                      }
                    ]
                  }
                },
                {
                  "name": "weight",
                  "dtype": "int64",
                  "stats": {
                    "unique_count": 18,
                    "nan_count": 0,
                    "min": "10",
                    "max": "156",
                    "histogram": [
                      {
                        "bin_start": 10,
                        "bin_end": 24.6,
                        "count": 9
                      },
                      {
                        "bin_start": 24.6,
                        "bin_end": 39.2,
                        "count": 7
                      },
                      {
                        "bin_start": 39.2,
                        "bin_end": 53.8,
                        "count": 4
                      },
                      {
                        "bin_start": 53.8,
                        "bin_end": 68.4,
                        "count": 1
                      },
                      {
                        "bin_start": 68.4,
                        "bin_end": 83,
                        "count": 0
                      },
                      {
                        "bin_start": 83,
                        "bin_end": 97.6,
                        "count": 0
                      },
                      {
                        "bin_start": 97.6,
                        "bin_end": 112.2,
                        "count": 0
                      },
                      {
                        "bin_start": 112.2,
                        "bin_end": 126.8,
                        "count": 0
                      },
                      {
                        "bin_start": 126.8,
                        "bin_end": 141.4,
                        "count": 0
                      },
                      {
                        "bin_start": 141.4,
                        "bin_end": 156,
                        "count": 2
                      }
                    ]
                  }
                },
                {
                  "name": "downstream_neuron_id",
                  "dtype": "object",
                  "stats": {
                    "unique_count": 15,
                    "nan_count": 0,
                    "categories": [
                      {
                        "name": "VFB_jrchjthr",
                        "count": 3
                      },
                      {
                        "name": "VFB_001011rk",
                        "count": 2
                      },
                      {
                        "name": "13 others",
                        "count": 18
                      }
                    ]
                  }
                },
                {
                  "name": "downstream_neuron_name",
                  "dtype": "object",
                  "stats": {
                    "unique_count": 15,
                    "nan_count": 0,
                    "categories": [
                      {
                        "name": "DNp32_R (FlyEM-HB:5813050455)",
                        "count": 3
                      },
                      {
                        "name": "DNp44 (FAFB:3094186)",
                        "count": 2
                      },
                      {
                        "name": "13 others",
                        "count": 18
                      }
                    ]
                  }
                },
                {
                  "name": "upstream_class",
                  "dtype": "object",
                  "stats": {
                    "unique_count": 7,
                    "nan_count": 0,
                    "categories": [
                      {
                        "name": "oviposition inhibitory neuron",
                        "count": 9
                      },
                      {
                        "name": "adult antennal lobe projection neuron VP4+ vPN",
                        "count": 5
                      },
                      {
                        "name": "5 others",
                        "count": 9
                      }
                    ]
                  }
                },
                {
                  "name": "downstream_class",
                  "dtype": "object",
                  "stats": {
                    "unique_count": 11,
                    "nan_count": 0,
                    "categories": [
                      {
                        "name": "oviposition descending neuron b",
                        "count": 5
                      },
                      {
                        "name": "oviposition descending neuron a",
                        "count": 4
                      },
                      {
                        "name": "9 others",
                        "count": 14
                      }
                    ]
                  }
                },
                {
                  "name": "up_data_source",
                  "dtype": "object",
                  "stats": {
                    "unique_count": 0,
                    "nan_count": 23,
                    "categories": [
                      {
                        "name": "Missing",
                        "count": 23
                      }
                    ]
                  }
                },
                {
                  "name": "up_accession",
                  "dtype": "object",
                  "stats": {
                    "unique_count": 0,
                    "nan_count": 23,
                    "categories": [
                      {
                        "name": "Missing",
                        "count": 23
                      }
                    ]
                  }
                },
                {
                  "name": "down_source",
                  "dtype": "object",
                  "stats": {
                    "unique_count": 0,
                    "nan_count": 23,
                    "categories": [
                      {
                        "name": "Missing",
                        "count": 23
                      }
                    ]
                  }
                },
                {
                  "name": "down_accession",
                  "dtype": "object",
                  "stats": {
                    "unique_count": 0,
                    "nan_count": 23,
                    "categories": [
                      {
                        "name": "Missing",
                        "count": 23
                      }
                    ]
                  }
                },
                {
                  "name": "_deepnote_index_column",
                  "dtype": "int64"
                }
              ],
              "rows_top": [
                {
                  "upstream_neuron_id": "VFB_001011rg",
                  "upstream_neuron_name": "Uniglomerular mlALT VP4 vPN bilateral#R1 (FAFB:2484510)",
                  "weight": 156,
                  "downstream_neuron_id": "VFB_001011rk",
                  "downstream_neuron_name": "DNp44 (FAFB:3094186)",
                  "upstream_class": "adult antennal lobe projection neuron VP4+ vPN",
                  "downstream_class": "adult lateral horn PV9a1 neuron|descending neuron of the posterior brain DNp44",
                  "up_data_source": "nan",
                  "up_accession": "nan",
                  "down_source": "nan",
                  "down_accession": "nan",
                  "_deepnote_index_column": 4
                },
                {
                  "upstream_neuron_id": "VFB_00101152",
                  "upstream_neuron_name": "Uniglomerular t5-mlALT VP4 vPN#R1 (FAFB:1149173)",
                  "weight": 142,
                  "downstream_neuron_id": "VFB_001011rk",
                  "downstream_neuron_name": "DNp44 (FAFB:3094186)",
                  "upstream_class": "adult antennal lobe projection neuron VP4 vPN",
                  "downstream_class": "adult lateral horn PV9a1 neuron|descending neuron of the posterior brain DNp44",
                  "up_data_source": "nan",
                  "up_accession": "nan",
                  "down_source": "nan",
                  "down_accession": "nan",
                  "_deepnote_index_column": 21
                },
                {
                  "upstream_neuron_id": "VFB_jrchk7ji",
                  "upstream_neuron_name": "VP4_vPN(mlALT)_R (FlyEM-HB:634759240)",
                  "weight": 65,
                  "downstream_neuron_id": "VFB_jrchjthu",
                  "downstream_neuron_name": "DNp44_R (FlyEM-HB:542751938)",
                  "upstream_class": "adult antennal lobe projection neuron VP4 vPN",
                  "downstream_class": "descending neuron of the posterior brain DNp44",
                  "up_data_source": "nan",
                  "up_accession": "nan",
                  "down_source": "nan",
                  "down_accession": "nan",
                  "_deepnote_index_column": 17
                },
                {
                  "upstream_neuron_id": "VFB_jrchk7jh",
                  "upstream_neuron_name": "VP4+_vPN(mlALT)_R (FlyEM-HB:543010474)",
                  "weight": 50,
                  "downstream_neuron_id": "VFB_jrchjthu",
                  "downstream_neuron_name": "DNp44_R (FlyEM-HB:542751938)",
                  "upstream_class": "adult antennal lobe projection neuron VP4+ vPN",
                  "downstream_class": "descending neuron of the posterior brain DNp44",
                  "up_data_source": "nan",
                  "up_accession": "nan",
                  "down_source": "nan",
                  "down_accession": "nan",
                  "_deepnote_index_column": 7
                },
                {
                  "upstream_neuron_id": "VFB_jrchk7jh",
                  "upstream_neuron_name": "VP4+_vPN(mlALT)_R (FlyEM-HB:543010474)",
                  "weight": 47,
                  "downstream_neuron_id": "VFB_jrchjthj",
                  "downstream_neuron_name": "DNp25_R (FlyEM-HB:451689001)",
                  "upstream_class": "adult antennal lobe projection neuron VP4+ vPN",
                  "downstream_class": "descending neuron of the posterior brain DNp25",
                  "up_data_source": "nan",
                  "up_accession": "nan",
                  "down_source": "nan",
                  "down_accession": "nan",
                  "_deepnote_index_column": 9
                },
                {
                  "upstream_neuron_id": "VFB_jrchk8dp",
                  "upstream_neuron_name": "oviIN_R (FlyEM-HB:423101189)",
                  "weight": 43,
                  "downstream_neuron_id": "VFB_jrchk8dm",
                  "downstream_neuron_name": "oviDNa_R (FlyEM-HB:550655668)",
                  "upstream_class": "oviposition inhibitory neuron",
                  "downstream_class": "oviposition descending neuron a",
                  "up_data_source": "nan",
                  "up_accession": "nan",
                  "down_source": "nan",
                  "down_accession": "nan",
                  "_deepnote_index_column": 12
                },
                {
                  "upstream_neuron_id": "VFB_jrchk8dq",
                  "upstream_neuron_name": "oviIN_L (FlyEM-HB:485934965)",
                  "weight": 40,
                  "downstream_neuron_id": "VFB_jrchk8do",
                  "downstream_neuron_name": "oviDNb_R (FlyEM-HB:519949044)",
                  "upstream_class": "oviposition inhibitory neuron",
                  "downstream_class": "oviposition descending neuron b",
                  "up_data_source": "nan",
                  "up_accession": "nan",
                  "down_source": "nan",
                  "down_accession": "nan",
                  "_deepnote_index_column": 3
                },
                {
                  "upstream_neuron_id": "VFB_jrchk8dp",
                  "upstream_neuron_name": "oviIN_R (FlyEM-HB:423101189)",
                  "weight": 36,
                  "downstream_neuron_id": "VFB_jrchk8do",
                  "downstream_neuron_name": "oviDNb_R (FlyEM-HB:519949044)",
                  "upstream_class": "oviposition inhibitory neuron",
                  "downstream_class": "oviposition descending neuron b",
                  "up_data_source": "nan",
                  "up_accession": "nan",
                  "down_source": "nan",
                  "down_accession": "nan",
                  "_deepnote_index_column": 6
                },
                {
                  "upstream_neuron_id": "VFB_001013vv",
                  "upstream_neuron_name": "oviIN (FAFB:13325634)",
                  "weight": 35,
                  "downstream_neuron_id": "VFB_001013vm",
                  "downstream_neuron_name": "oviDNa#2 (FAFB:1875104)",
                  "upstream_class": "oviposition inhibitory neuron",
                  "downstream_class": "oviposition descending neuron a",
                  "up_data_source": "nan",
                  "up_accession": "nan",
                  "down_source": "nan",
                  "down_accession": "nan",
                  "_deepnote_index_column": 22
                },
                {
                  "upstream_neuron_id": "VFB_jrchk8dp",
                  "upstream_neuron_name": "oviIN_R (FlyEM-HB:423101189)",
                  "weight": 35,
                  "downstream_neuron_id": "VFB_jrchk8dn",
                  "downstream_neuron_name": "oviDNb(PDM15)_L (FlyEM-HB:642763374)",
                  "upstream_class": "oviposition inhibitory neuron",
                  "downstream_class": "oviposition descending neuron b",
                  "up_data_source": "nan",
                  "up_accession": "nan",
                  "down_source": "nan",
                  "down_accession": "nan",
                  "_deepnote_index_column": 8
                },
                {
                  "upstream_neuron_id": "VFB_jrchk8dq",
                  "upstream_neuron_name": "oviIN_L (FlyEM-HB:485934965)",
                  "weight": 32,
                  "downstream_neuron_id": "VFB_jrchk8dn",
                  "downstream_neuron_name": "oviDNb(PDM15)_L (FlyEM-HB:642763374)",
                  "upstream_class": "oviposition inhibitory neuron",
                  "downstream_class": "oviposition descending neuron b",
                  "up_data_source": "nan",
                  "up_accession": "nan",
                  "down_source": "nan",
                  "down_accession": "nan",
                  "_deepnote_index_column": 19
                },
                {
                  "upstream_neuron_id": "VFB_001013vv",
                  "upstream_neuron_name": "oviIN (FAFB:13325634)",
                  "weight": 29,
                  "downstream_neuron_id": "VFB_001013vl",
                  "downstream_neuron_name": "oviDNb (FAFB:1862762)",
                  "upstream_class": "oviposition inhibitory neuron",
                  "downstream_class": "oviposition descending neuron b",
                  "up_data_source": "nan",
                  "up_accession": "nan",
                  "down_source": "nan",
                  "down_accession": "nan",
                  "_deepnote_index_column": 14
                },
                {
                  "upstream_neuron_id": "VFB_jrchk7jh",
                  "upstream_neuron_name": "VP4+_vPN(mlALT)_R (FlyEM-HB:543010474)",
                  "weight": 28,
                  "downstream_neuron_id": "VFB_jrchjtg4",
                  "downstream_neuron_name": "DNg30_R (FlyEM-HB:571346836)",
                  "upstream_class": "adult antennal lobe projection neuron VP4+ vPN",
                  "downstream_class": "descending neuron of the gnathal ganglion DNg30",
                  "up_data_source": "nan",
                  "up_accession": "nan",
                  "down_source": "nan",
                  "down_accession": "nan",
                  "_deepnote_index_column": 5
                },
                {
                  "upstream_neuron_id": "VFB_jrchk8dq",
                  "upstream_neuron_name": "oviIN_L (FlyEM-HB:485934965)",
                  "weight": 27,
                  "downstream_neuron_id": "VFB_jrchk8dm",
                  "downstream_neuron_name": "oviDNa_R (FlyEM-HB:550655668)",
                  "upstream_class": "oviposition inhibitory neuron",
                  "downstream_class": "oviposition descending neuron a",
                  "up_data_source": "nan",
                  "up_accession": "nan",
                  "down_source": "nan",
                  "down_accession": "nan",
                  "_deepnote_index_column": 16
                },
                {
                  "upstream_neuron_id": "VFB_001013vv",
                  "upstream_neuron_name": "oviIN (FAFB:13325634)",
                  "weight": 20,
                  "downstream_neuron_id": "VFB_001013vt",
                  "downstream_neuron_name": "oviDNa#1 (FAFB:5143346)",
                  "upstream_class": "oviposition inhibitory neuron",
                  "downstream_class": "oviposition descending neuron a",
                  "up_data_source": "nan",
                  "up_accession": "nan",
                  "down_source": "nan",
                  "down_accession": "nan",
                  "_deepnote_index_column": 13
                },
                {
                  "upstream_neuron_id": "VFB_jrchjza4",
                  "upstream_neuron_name": "LHPV2c1_b_R (FlyEM-HB:825032139)",
                  "weight": 13,
                  "downstream_neuron_id": "VFB_jrchjthr",
                  "downstream_neuron_name": "DNp32_R (FlyEM-HB:5813050455)",
                  "upstream_class": "adult lateral horn PV2c1 neuron",
                  "downstream_class": "descending neuron of the posterior brain DNp32",
                  "up_data_source": "nan",
                  "up_accession": "nan",
                  "down_source": "nan",
                  "down_accession": "nan",
                  "_deepnote_index_column": 0
                },
                {
                  "upstream_neuron_id": "VFB_jrchjtd8",
                  "upstream_neuron_name": "CT1_L (FlyEM-HB:1311993208)",
                  "weight": 12,
                  "downstream_neuron_id": "VFB_jrchjtgf",
                  "downstream_neuron_name": "DNp11_R (FlyEM-HB:1281324958)",
                  "upstream_class": "tangential neuron CT1",
                  "downstream_class": "descending neuron of the posterior brain DNp11",
                  "up_data_source": "nan",
                  "up_accession": "nan",
                  "down_source": "nan",
                  "down_accession": "nan",
                  "_deepnote_index_column": 15
                },
                {
                  "upstream_neuron_id": "VFB_jrchjza6",
                  "upstream_neuron_name": "LHPV2c1_c_R (FlyEM-HB:913345831)",
                  "weight": 12,
                  "downstream_neuron_id": "VFB_jrchjthr",
                  "downstream_neuron_name": "DNp32_R (FlyEM-HB:5813050455)",
                  "upstream_class": "adult lateral horn PV2c1 neuron",
                  "downstream_class": "descending neuron of the posterior brain DNp32",
                  "up_data_source": "nan",
                  "up_accession": "nan",
                  "down_source": "nan",
                  "down_accession": "nan",
                  "_deepnote_index_column": 20
                },
                {
                  "upstream_neuron_id": "VFB_jrchk7jh",
                  "upstream_neuron_name": "VP4+_vPN(mlALT)_R (FlyEM-HB:543010474)",
                  "weight": 12,
                  "downstream_neuron_id": "VFB_jrchjthh",
                  "downstream_neuron_name": "DNp24_R (FlyEM-HB:5813047199)",
                  "upstream_class": "adult antennal lobe projection neuron VP4+ vPN",
                  "downstream_class": "descending neuron of the posterior brain DNp24",
                  "up_data_source": "nan",
                  "up_accession": "nan",
                  "down_source": "nan",
                  "down_accession": "nan",
                  "_deepnote_index_column": 2
                },
                {
                  "upstream_neuron_id": "VFB_jrchjza3",
                  "upstream_neuron_name": "LHPV2c1_b_R (FlyEM-HB:856066807)",
                  "weight": 11,
                  "downstream_neuron_id": "VFB_jrchjthr",
                  "downstream_neuron_name": "DNp32_R (FlyEM-HB:5813050455)",
                  "upstream_class": "adult lateral horn PV2c1 neuron",
                  "downstream_class": "descending neuron of the posterior brain DNp32",
                  "up_data_source": "nan",
                  "up_accession": "nan",
                  "down_source": "nan",
                  "down_accession": "nan",
                  "_deepnote_index_column": 1
                },
                {
                  "upstream_neuron_id": "VFB_jrchjymc",
                  "upstream_neuron_name": "LHAV1a3_R (FlyEM-HB:823999645)",
                  "weight": 10,
                  "downstream_neuron_id": "VFB_jrchjtht",
                  "downstream_neuron_name": "DNp42_R (FlyEM-HB:981000564)",
                  "upstream_class": "adult lateral horn AV1a3 neuron",
                  "downstream_class": "descending neuron of the posterior brain",
                  "up_data_source": "nan",
                  "up_accession": "nan",
                  "down_source": "nan",
                  "down_accession": "nan",
                  "_deepnote_index_column": 18
                },
                {
                  "upstream_neuron_id": "VFB_jrchk7ji",
                  "upstream_neuron_name": "VP4_vPN(mlALT)_R (FlyEM-HB:634759240)",
                  "weight": 10,
                  "downstream_neuron_id": "VFB_jrchjtg4",
                  "downstream_neuron_name": "DNg30_R (FlyEM-HB:571346836)",
                  "upstream_class": "adult antennal lobe projection neuron VP4 vPN",
                  "downstream_class": "descending neuron of the gnathal ganglion DNg30",
                  "up_data_source": "nan",
                  "up_accession": "nan",
                  "down_source": "nan",
                  "down_accession": "nan",
                  "_deepnote_index_column": 10
                },
                {
                  "upstream_neuron_id": "VFB_jrchjywh",
                  "upstream_neuron_name": "LHAV4c2_R (FlyEM-HB:921969630)",
                  "weight": 10,
                  "downstream_neuron_id": "VFB_jrchk8rz",
                  "downstream_neuron_name": "vpoDN_R (FlyEM-HB:5813057864)",
                  "upstream_class": "adult lateral horn AV4c2 neuron",
                  "downstream_class": "adult doublesex pMN2 (female) neuron",
                  "up_data_source": "nan",
                  "up_accession": "nan",
                  "down_source": "nan",
                  "down_accession": "nan",
                  "_deepnote_index_column": 11
                }
              ],
              "rows_bottom": null
            },
            "text/plain": "   upstream_neuron_id                               upstream_neuron_name  \\\n4        VFB_001011rg  Uniglomerular mlALT VP4 vPN bilateral#R1 (FAFB...   \n21       VFB_00101152   Uniglomerular t5-mlALT VP4 vPN#R1 (FAFB:1149173)   \n17       VFB_jrchk7ji              VP4_vPN(mlALT)_R (FlyEM-HB:634759240)   \n7        VFB_jrchk7jh             VP4+_vPN(mlALT)_R (FlyEM-HB:543010474)   \n9        VFB_jrchk7jh             VP4+_vPN(mlALT)_R (FlyEM-HB:543010474)   \n12       VFB_jrchk8dp                       oviIN_R (FlyEM-HB:423101189)   \n3        VFB_jrchk8dq                       oviIN_L (FlyEM-HB:485934965)   \n6        VFB_jrchk8dp                       oviIN_R (FlyEM-HB:423101189)   \n22       VFB_001013vv                              oviIN (FAFB:13325634)   \n8        VFB_jrchk8dp                       oviIN_R (FlyEM-HB:423101189)   \n19       VFB_jrchk8dq                       oviIN_L (FlyEM-HB:485934965)   \n14       VFB_001013vv                              oviIN (FAFB:13325634)   \n5        VFB_jrchk7jh             VP4+_vPN(mlALT)_R (FlyEM-HB:543010474)   \n16       VFB_jrchk8dq                       oviIN_L (FlyEM-HB:485934965)   \n13       VFB_001013vv                              oviIN (FAFB:13325634)   \n0        VFB_jrchjza4                   LHPV2c1_b_R (FlyEM-HB:825032139)   \n15       VFB_jrchjtd8                        CT1_L (FlyEM-HB:1311993208)   \n20       VFB_jrchjza6                   LHPV2c1_c_R (FlyEM-HB:913345831)   \n2        VFB_jrchk7jh             VP4+_vPN(mlALT)_R (FlyEM-HB:543010474)   \n1        VFB_jrchjza3                   LHPV2c1_b_R (FlyEM-HB:856066807)   \n18       VFB_jrchjymc                     LHAV1a3_R (FlyEM-HB:823999645)   \n10       VFB_jrchk7ji              VP4_vPN(mlALT)_R (FlyEM-HB:634759240)   \n11       VFB_jrchjywh                     LHAV4c2_R (FlyEM-HB:921969630)   \n\n    weight downstream_neuron_id                downstream_neuron_name  \\\n4      156         VFB_001011rk                  DNp44 (FAFB:3094186)   \n21     142         VFB_001011rk                  DNp44 (FAFB:3094186)   \n17      65         VFB_jrchjthu          DNp44_R (FlyEM-HB:542751938)   \n7       50         VFB_jrchjthu          DNp44_R (FlyEM-HB:542751938)   \n9       47         VFB_jrchjthj          DNp25_R (FlyEM-HB:451689001)   \n12      43         VFB_jrchk8dm         oviDNa_R (FlyEM-HB:550655668)   \n3       40         VFB_jrchk8do         oviDNb_R (FlyEM-HB:519949044)   \n6       36         VFB_jrchk8do         oviDNb_R (FlyEM-HB:519949044)   \n22      35         VFB_001013vm               oviDNa#2 (FAFB:1875104)   \n8       35         VFB_jrchk8dn  oviDNb(PDM15)_L (FlyEM-HB:642763374)   \n19      32         VFB_jrchk8dn  oviDNb(PDM15)_L (FlyEM-HB:642763374)   \n14      29         VFB_001013vl                 oviDNb (FAFB:1862762)   \n5       28         VFB_jrchjtg4          DNg30_R (FlyEM-HB:571346836)   \n16      27         VFB_jrchk8dm         oviDNa_R (FlyEM-HB:550655668)   \n13      20         VFB_001013vt               oviDNa#1 (FAFB:5143346)   \n0       13         VFB_jrchjthr         DNp32_R (FlyEM-HB:5813050455)   \n15      12         VFB_jrchjtgf         DNp11_R (FlyEM-HB:1281324958)   \n20      12         VFB_jrchjthr         DNp32_R (FlyEM-HB:5813050455)   \n2       12         VFB_jrchjthh         DNp24_R (FlyEM-HB:5813047199)   \n1       11         VFB_jrchjthr         DNp32_R (FlyEM-HB:5813050455)   \n18      10         VFB_jrchjtht          DNp42_R (FlyEM-HB:981000564)   \n10      10         VFB_jrchjtg4          DNg30_R (FlyEM-HB:571346836)   \n11      10         VFB_jrchk8rz         vpoDN_R (FlyEM-HB:5813057864)   \n\n                                    upstream_class  \\\n4   adult antennal lobe projection neuron VP4+ vPN   \n21   adult antennal lobe projection neuron VP4 vPN   \n17   adult antennal lobe projection neuron VP4 vPN   \n7   adult antennal lobe projection neuron VP4+ vPN   \n9   adult antennal lobe projection neuron VP4+ vPN   \n12                   oviposition inhibitory neuron   \n3                    oviposition inhibitory neuron   \n6                    oviposition inhibitory neuron   \n22                   oviposition inhibitory neuron   \n8                    oviposition inhibitory neuron   \n19                   oviposition inhibitory neuron   \n14                   oviposition inhibitory neuron   \n5   adult antennal lobe projection neuron VP4+ vPN   \n16                   oviposition inhibitory neuron   \n13                   oviposition inhibitory neuron   \n0                  adult lateral horn PV2c1 neuron   \n15                           tangential neuron CT1   \n20                 adult lateral horn PV2c1 neuron   \n2   adult antennal lobe projection neuron VP4+ vPN   \n1                  adult lateral horn PV2c1 neuron   \n18                 adult lateral horn AV1a3 neuron   \n10   adult antennal lobe projection neuron VP4 vPN   \n11                 adult lateral horn AV4c2 neuron   \n\n                                     downstream_class up_data_source  \\\n4   adult lateral horn PV9a1 neuron|descending neu...           None   \n21  adult lateral horn PV9a1 neuron|descending neu...           None   \n17     descending neuron of the posterior brain DNp44           None   \n7      descending neuron of the posterior brain DNp44           None   \n9      descending neuron of the posterior brain DNp25           None   \n12                    oviposition descending neuron a           None   \n3                     oviposition descending neuron b           None   \n6                     oviposition descending neuron b           None   \n22                    oviposition descending neuron a           None   \n8                     oviposition descending neuron b           None   \n19                    oviposition descending neuron b           None   \n14                    oviposition descending neuron b           None   \n5     descending neuron of the gnathal ganglion DNg30           None   \n16                    oviposition descending neuron a           None   \n13                    oviposition descending neuron a           None   \n0      descending neuron of the posterior brain DNp32           None   \n15     descending neuron of the posterior brain DNp11           None   \n20     descending neuron of the posterior brain DNp32           None   \n2      descending neuron of the posterior brain DNp24           None   \n1      descending neuron of the posterior brain DNp32           None   \n18           descending neuron of the posterior brain           None   \n10    descending neuron of the gnathal ganglion DNg30           None   \n11               adult doublesex pMN2 (female) neuron           None   \n\n   up_accession down_source down_accession  \n4          None        None           None  \n21         None        None           None  \n17         None        None           None  \n7          None        None           None  \n9          None        None           None  \n12         None        None           None  \n3          None        None           None  \n6          None        None           None  \n22         None        None           None  \n8          None        None           None  \n19         None        None           None  \n14         None        None           None  \n5          None        None           None  \n16         None        None           None  \n13         None        None           None  \n0          None        None           None  \n15         None        None           None  \n20         None        None           None  \n2          None        None           None  \n1          None        None           None  \n18         None        None           None  \n10         None        None           None  \n11         None        None           None  ",
            "text/html": "<div>\n<style scoped>\n    .dataframe tbody tr th:only-of-type {\n        vertical-align: middle;\n    }\n\n    .dataframe tbody tr th {\n        vertical-align: top;\n    }\n\n    .dataframe thead th {\n        text-align: right;\n    }\n</style>\n<table border=\"1\" class=\"dataframe\">\n  <thead>\n    <tr style=\"text-align: right;\">\n      <th></th>\n      <th>upstream_neuron_id</th>\n      <th>upstream_neuron_name</th>\n      <th>weight</th>\n      <th>downstream_neuron_id</th>\n      <th>downstream_neuron_name</th>\n      <th>upstream_class</th>\n      <th>downstream_class</th>\n      <th>up_data_source</th>\n      <th>up_accession</th>\n      <th>down_source</th>\n      <th>down_accession</th>\n    </tr>\n  </thead>\n  <tbody>\n    <tr>\n      <th>4</th>\n      <td>VFB_001011rg</td>\n      <td>Uniglomerular mlALT VP4 vPN bilateral#R1 (FAFB...</td>\n      <td>156</td>\n      <td>VFB_001011rk</td>\n      <td>DNp44 (FAFB:3094186)</td>\n      <td>adult antennal lobe projection neuron VP4+ vPN</td>\n      <td>adult lateral horn PV9a1 neuron|descending neu...</td>\n      <td>None</td>\n      <td>None</td>\n      <td>None</td>\n      <td>None</td>\n    </tr>\n    <tr>\n      <th>21</th>\n      <td>VFB_00101152</td>\n      <td>Uniglomerular t5-mlALT VP4 vPN#R1 (FAFB:1149173)</td>\n      <td>142</td>\n      <td>VFB_001011rk</td>\n      <td>DNp44 (FAFB:3094186)</td>\n      <td>adult antennal lobe projection neuron VP4 vPN</td>\n      <td>adult lateral horn PV9a1 neuron|descending neu...</td>\n      <td>None</td>\n      <td>None</td>\n      <td>None</td>\n      <td>None</td>\n    </tr>\n    <tr>\n      <th>17</th>\n      <td>VFB_jrchk7ji</td>\n      <td>VP4_vPN(mlALT)_R (FlyEM-HB:634759240)</td>\n      <td>65</td>\n      <td>VFB_jrchjthu</td>\n      <td>DNp44_R (FlyEM-HB:542751938)</td>\n      <td>adult antennal lobe projection neuron VP4 vPN</td>\n      <td>descending neuron of the posterior brain DNp44</td>\n      <td>None</td>\n      <td>None</td>\n      <td>None</td>\n      <td>None</td>\n    </tr>\n    <tr>\n      <th>7</th>\n      <td>VFB_jrchk7jh</td>\n      <td>VP4+_vPN(mlALT)_R (FlyEM-HB:543010474)</td>\n      <td>50</td>\n      <td>VFB_jrchjthu</td>\n      <td>DNp44_R (FlyEM-HB:542751938)</td>\n      <td>adult antennal lobe projection neuron VP4+ vPN</td>\n      <td>descending neuron of the posterior brain DNp44</td>\n      <td>None</td>\n      <td>None</td>\n      <td>None</td>\n      <td>None</td>\n    </tr>\n    <tr>\n      <th>9</th>\n      <td>VFB_jrchk7jh</td>\n      <td>VP4+_vPN(mlALT)_R (FlyEM-HB:543010474)</td>\n      <td>47</td>\n      <td>VFB_jrchjthj</td>\n      <td>DNp25_R (FlyEM-HB:451689001)</td>\n      <td>adult antennal lobe projection neuron VP4+ vPN</td>\n      <td>descending neuron of the posterior brain DNp25</td>\n      <td>None</td>\n      <td>None</td>\n      <td>None</td>\n      <td>None</td>\n    </tr>\n    <tr>\n      <th>12</th>\n      <td>VFB_jrchk8dp</td>\n      <td>oviIN_R (FlyEM-HB:423101189)</td>\n      <td>43</td>\n      <td>VFB_jrchk8dm</td>\n      <td>oviDNa_R (FlyEM-HB:550655668)</td>\n      <td>oviposition inhibitory neuron</td>\n      <td>oviposition descending neuron a</td>\n      <td>None</td>\n      <td>None</td>\n      <td>None</td>\n      <td>None</td>\n    </tr>\n    <tr>\n      <th>3</th>\n      <td>VFB_jrchk8dq</td>\n      <td>oviIN_L (FlyEM-HB:485934965)</td>\n      <td>40</td>\n      <td>VFB_jrchk8do</td>\n      <td>oviDNb_R (FlyEM-HB:519949044)</td>\n      <td>oviposition inhibitory neuron</td>\n      <td>oviposition descending neuron b</td>\n      <td>None</td>\n      <td>None</td>\n      <td>None</td>\n      <td>None</td>\n    </tr>\n    <tr>\n      <th>6</th>\n      <td>VFB_jrchk8dp</td>\n      <td>oviIN_R (FlyEM-HB:423101189)</td>\n      <td>36</td>\n      <td>VFB_jrchk8do</td>\n      <td>oviDNb_R (FlyEM-HB:519949044)</td>\n      <td>oviposition inhibitory neuron</td>\n      <td>oviposition descending neuron b</td>\n      <td>None</td>\n      <td>None</td>\n      <td>None</td>\n      <td>None</td>\n    </tr>\n    <tr>\n      <th>22</th>\n      <td>VFB_001013vv</td>\n      <td>oviIN (FAFB:13325634)</td>\n      <td>35</td>\n      <td>VFB_001013vm</td>\n      <td>oviDNa#2 (FAFB:1875104)</td>\n      <td>oviposition inhibitory neuron</td>\n      <td>oviposition descending neuron a</td>\n      <td>None</td>\n      <td>None</td>\n      <td>None</td>\n      <td>None</td>\n    </tr>\n    <tr>\n      <th>8</th>\n      <td>VFB_jrchk8dp</td>\n      <td>oviIN_R (FlyEM-HB:423101189)</td>\n      <td>35</td>\n      <td>VFB_jrchk8dn</td>\n      <td>oviDNb(PDM15)_L (FlyEM-HB:642763374)</td>\n      <td>oviposition inhibitory neuron</td>\n      <td>oviposition descending neuron b</td>\n      <td>None</td>\n      <td>None</td>\n      <td>None</td>\n      <td>None</td>\n    </tr>\n    <tr>\n      <th>19</th>\n      <td>VFB_jrchk8dq</td>\n      <td>oviIN_L (FlyEM-HB:485934965)</td>\n      <td>32</td>\n      <td>VFB_jrchk8dn</td>\n      <td>oviDNb(PDM15)_L (FlyEM-HB:642763374)</td>\n      <td>oviposition inhibitory neuron</td>\n      <td>oviposition descending neuron b</td>\n      <td>None</td>\n      <td>None</td>\n      <td>None</td>\n      <td>None</td>\n    </tr>\n    <tr>\n      <th>14</th>\n      <td>VFB_001013vv</td>\n      <td>oviIN (FAFB:13325634)</td>\n      <td>29</td>\n      <td>VFB_001013vl</td>\n      <td>oviDNb (FAFB:1862762)</td>\n      <td>oviposition inhibitory neuron</td>\n      <td>oviposition descending neuron b</td>\n      <td>None</td>\n      <td>None</td>\n      <td>None</td>\n      <td>None</td>\n    </tr>\n    <tr>\n      <th>5</th>\n      <td>VFB_jrchk7jh</td>\n      <td>VP4+_vPN(mlALT)_R (FlyEM-HB:543010474)</td>\n      <td>28</td>\n      <td>VFB_jrchjtg4</td>\n      <td>DNg30_R (FlyEM-HB:571346836)</td>\n      <td>adult antennal lobe projection neuron VP4+ vPN</td>\n      <td>descending neuron of the gnathal ganglion DNg30</td>\n      <td>None</td>\n      <td>None</td>\n      <td>None</td>\n      <td>None</td>\n    </tr>\n    <tr>\n      <th>16</th>\n      <td>VFB_jrchk8dq</td>\n      <td>oviIN_L (FlyEM-HB:485934965)</td>\n      <td>27</td>\n      <td>VFB_jrchk8dm</td>\n      <td>oviDNa_R (FlyEM-HB:550655668)</td>\n      <td>oviposition inhibitory neuron</td>\n      <td>oviposition descending neuron a</td>\n      <td>None</td>\n      <td>None</td>\n      <td>None</td>\n      <td>None</td>\n    </tr>\n    <tr>\n      <th>13</th>\n      <td>VFB_001013vv</td>\n      <td>oviIN (FAFB:13325634)</td>\n      <td>20</td>\n      <td>VFB_001013vt</td>\n      <td>oviDNa#1 (FAFB:5143346)</td>\n      <td>oviposition inhibitory neuron</td>\n      <td>oviposition descending neuron a</td>\n      <td>None</td>\n      <td>None</td>\n      <td>None</td>\n      <td>None</td>\n    </tr>\n    <tr>\n      <th>0</th>\n      <td>VFB_jrchjza4</td>\n      <td>LHPV2c1_b_R (FlyEM-HB:825032139)</td>\n      <td>13</td>\n      <td>VFB_jrchjthr</td>\n      <td>DNp32_R (FlyEM-HB:5813050455)</td>\n      <td>adult lateral horn PV2c1 neuron</td>\n      <td>descending neuron of the posterior brain DNp32</td>\n      <td>None</td>\n      <td>None</td>\n      <td>None</td>\n      <td>None</td>\n    </tr>\n    <tr>\n      <th>15</th>\n      <td>VFB_jrchjtd8</td>\n      <td>CT1_L (FlyEM-HB:1311993208)</td>\n      <td>12</td>\n      <td>VFB_jrchjtgf</td>\n      <td>DNp11_R (FlyEM-HB:1281324958)</td>\n      <td>tangential neuron CT1</td>\n      <td>descending neuron of the posterior brain DNp11</td>\n      <td>None</td>\n      <td>None</td>\n      <td>None</td>\n      <td>None</td>\n    </tr>\n    <tr>\n      <th>20</th>\n      <td>VFB_jrchjza6</td>\n      <td>LHPV2c1_c_R (FlyEM-HB:913345831)</td>\n      <td>12</td>\n      <td>VFB_jrchjthr</td>\n      <td>DNp32_R (FlyEM-HB:5813050455)</td>\n      <td>adult lateral horn PV2c1 neuron</td>\n      <td>descending neuron of the posterior brain DNp32</td>\n      <td>None</td>\n      <td>None</td>\n      <td>None</td>\n      <td>None</td>\n    </tr>\n    <tr>\n      <th>2</th>\n      <td>VFB_jrchk7jh</td>\n      <td>VP4+_vPN(mlALT)_R (FlyEM-HB:543010474)</td>\n      <td>12</td>\n      <td>VFB_jrchjthh</td>\n      <td>DNp24_R (FlyEM-HB:5813047199)</td>\n      <td>adult antennal lobe projection neuron VP4+ vPN</td>\n      <td>descending neuron of the posterior brain DNp24</td>\n      <td>None</td>\n      <td>None</td>\n      <td>None</td>\n      <td>None</td>\n    </tr>\n    <tr>\n      <th>1</th>\n      <td>VFB_jrchjza3</td>\n      <td>LHPV2c1_b_R (FlyEM-HB:856066807)</td>\n      <td>11</td>\n      <td>VFB_jrchjthr</td>\n      <td>DNp32_R (FlyEM-HB:5813050455)</td>\n      <td>adult lateral horn PV2c1 neuron</td>\n      <td>descending neuron of the posterior brain DNp32</td>\n      <td>None</td>\n      <td>None</td>\n      <td>None</td>\n      <td>None</td>\n    </tr>\n    <tr>\n      <th>18</th>\n      <td>VFB_jrchjymc</td>\n      <td>LHAV1a3_R (FlyEM-HB:823999645)</td>\n      <td>10</td>\n      <td>VFB_jrchjtht</td>\n      <td>DNp42_R (FlyEM-HB:981000564)</td>\n      <td>adult lateral horn AV1a3 neuron</td>\n      <td>descending neuron of the posterior brain</td>\n      <td>None</td>\n      <td>None</td>\n      <td>None</td>\n      <td>None</td>\n    </tr>\n    <tr>\n      <th>10</th>\n      <td>VFB_jrchk7ji</td>\n      <td>VP4_vPN(mlALT)_R (FlyEM-HB:634759240)</td>\n      <td>10</td>\n      <td>VFB_jrchjtg4</td>\n      <td>DNg30_R (FlyEM-HB:571346836)</td>\n      <td>adult antennal lobe projection neuron VP4 vPN</td>\n      <td>descending neuron of the gnathal ganglion DNg30</td>\n      <td>None</td>\n      <td>None</td>\n      <td>None</td>\n      <td>None</td>\n    </tr>\n    <tr>\n      <th>11</th>\n      <td>VFB_jrchjywh</td>\n      <td>LHAV4c2_R (FlyEM-HB:921969630)</td>\n      <td>10</td>\n      <td>VFB_jrchk8rz</td>\n      <td>vpoDN_R (FlyEM-HB:5813057864)</td>\n      <td>adult lateral horn AV4c2 neuron</td>\n      <td>adult doublesex pMN2 (female) neuron</td>\n      <td>None</td>\n      <td>None</td>\n      <td>None</td>\n      <td>None</td>\n    </tr>\n  </tbody>\n</table>\n</div>"
          },
          "metadata": {}
        }
      ]
    }
  ],
  "nbformat": 4,
  "nbformat_minor": 2,
  "metadata": {
    "orig_nbformat": 2,
    "deepnote_notebook_id": "718b5c51-e3e5-4906-8b47-3ce8982d56ba",
    "deepnote": {},
    "deepnote_execution_queue": []
  }
}