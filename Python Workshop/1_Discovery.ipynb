{
  "cells": [
    {
      "cell_type": "markdown",
      "source": "Required packages: vfb-connect and python-catmaid (pymaid & navis)",
      "metadata": {
        "tags": [],
        "cell_id": "00000-d3cab687-8c75-48b6-9862-b1215893d8be",
        "deepnote_cell_type": "markdown"
      }
    },
    {
      "cell_type": "code",
      "metadata": {
        "tags": [],
        "cell_id": "00000-8f977ce1-edb3-464f-8d14-37d0507d14dc",
        "deepnote_to_be_reexecuted": false,
        "source_hash": "d547b677",
        "execution_millis": 6998,
        "output_cleared": true,
        "execution_start": 1620061435938,
        "deepnote_cell_type": "code"
      },
      "source": "!pip install vfb-connect --upgrade\n!pip install python-catmaid --upgrade",
      "execution_count": 1,
      "outputs": []
    },
    {
      "cell_type": "markdown",
      "source": "### A note on using these notebooks\nThis is designed as an interactive tutorial. Feel free to add code cells below each example to try out variations of your own.",
      "metadata": {
        "tags": [],
        "cell_id": "00002-b9853f11-a533-4129-ab77-3a4381649c3f",
        "deepnote_cell_type": "markdown"
      }
    },
    {
      "cell_type": "markdown",
      "source": "### How to find neurons across datasets\n\nVirtualFlyBrain integrates images and connectomics profiles of neurons from many sources.  It classifies and records their properties using a standard, queryable classification ([The Drosophila Anatomy Ontology](https://www.ebi.ac.uk/ols/ontologies/fbbt)). This standardises the names of neuron types across sources, so you don't need to worry about differences in nomenclature uses and supports queries for neurons by their classification. ",
      "metadata": {
        "tags": [],
        "cell_id": "00000-79bca113-6b64-4597-ad88-b519aea26aea",
        "deepnote_cell_type": "markdown"
      }
    },
    {
      "cell_type": "code",
      "metadata": {
        "tags": [],
        "cell_id": "00000-7a8aaee6-8107-4d3e-8262-7fdb8e78edbf",
        "deepnote_to_be_reexecuted": false,
        "source_hash": "558cc218",
        "execution_millis": 6069,
        "output_cleared": true,
        "execution_start": 1620061442939,
        "deepnote_cell_type": "code"
      },
      "source": "# Import libs and initialise API objects\nfrom vfb_connect.cross_server_tools import VfbConnect\nimport pandas as pd\nvc = VfbConnect()\n\nimport pymaid\nimport navis\n\nnavis.set_pbars(jupyter=False)\npymaid.set_pbars(jupyter=False)\n\n# Connect to the VFB CATMAID server hosting the FAFB data\nrm = pymaid.connect_catmaid(server=\"https://fafb.catmaid.virtualflybrain.org/\", api_token=None, max_threads=10)\n\n# Test call to see if connection works \nprint(f'Server is running CATMAID version {rm.catmaid_version}')\n",
      "execution_count": 2,
      "outputs": []
    },
    {
      "cell_type": "markdown",
      "source": "### Finds neurons by type (classification) across datasets\n\nWe can use the `vc.get_instances` method in combination with theNname or Symbol of a neuron type on VFB to find individual neurons from multiple sources.\n\nUse the search tool on [VFB](http://virtualflybrain.org) to find neuron types by name or synonym:\n\n<img src=\"https://user-images.githubusercontent.com/112839/109564687-535c9380-7ad9-11eb-80e9-5a5bc21cd915.png\" width=30% height=30%>\n<img src=\"https://user-images.githubusercontent.com/112839/109565128-eac1e680-7ad9-11eb-9649-1ec55a298a1b.png\" width=30% height=30%>\n\nUse either the full name or the Symbol to query for neurons:",
      "metadata": {
        "tags": [],
        "cell_id": "00001-3d466554-95ec-42b9-af26-4d0c9eee3e2c",
        "deepnote_cell_type": "markdown"
      }
    },
    {
      "cell_type": "code",
      "metadata": {
        "tags": [],
        "cell_id": "00002-0f08c5a1-913b-4a33-be18-d83db2c4809b",
        "deepnote_to_be_reexecuted": false,
        "source_hash": "32c9c2ad",
        "execution_millis": 429,
        "output_cleared": true,
        "execution_start": 1620061449012,
        "deepnote_cell_type": "code"
      },
      "source": "DA3adPN = vc.get_instances(\"DA3_adPN\", summary=True)\npd.DataFrame.from_records(DA3adPN)",
      "execution_count": 3,
      "outputs": []
    },
    {
      "cell_type": "markdown",
      "source": "### Find neurons by location\n\nWe can use the same method to search for neurons by location, using simple queries.  See [Semantic query guide](https://vfb-connect.readthedocs.io/en/latest/Semantic_queries.html) for more info.",
      "metadata": {
        "tags": [],
        "cell_id": "00004-d350500b-89e9-4a83-9add-bb45e436dc1f",
        "deepnote_cell_type": "markdown"
      }
    },
    {
      "cell_type": "code",
      "metadata": {
        "tags": [],
        "cell_id": "00004-dcc17021-330f-4898-877c-cf190a55c379",
        "deepnote_to_be_reexecuted": false,
        "source_hash": "1e03ca3a",
        "execution_millis": 2426,
        "output_cleared": true,
        "execution_start": 1620061449435,
        "deepnote_cell_type": "code"
      },
      "source": "# Find neurons by location. The following query works across multiple data sources and both sides of the brain.  \n# Results may be incomplete & may include minor overlap inferred from low synapse counts\n\nneurons_in_DA3 = vc.get_instances(\"'neuron' that 'overlaps' some 'antennal lobe glomerulus DA3'\", summary=True)\nneurons_in_DA3_tab = pd.DataFrame.from_records(neurons_in_DA3)\nneurons_in_DA3_tab[0:5]\n",
      "execution_count": 4,
      "outputs": []
    },
    {
      "cell_type": "code",
      "metadata": {
        "tags": [],
        "cell_id": "00006-d14e7552-74de-47db-b0df-2cd4880e2d37",
        "deepnote_to_be_reexecuted": false,
        "source_hash": "1d3a22e2",
        "execution_millis": 4039,
        "output_cleared": true,
        "execution_start": 1620061451863,
        "deepnote_cell_type": "code"
      },
      "source": "# Find local interneurons (intrinsic neurons) of the AL, overlapping DA3:\n\nlocal_in_DA3 = vc.get_instances(\"'local interneuron of adult antennal lobe' that 'overlaps' some 'antennal lobe glomerulus DA3'\",\n                                summary=True)\nlocal_in_DA3_tab = pd.DataFrame.from_records(local_in_DA3)\nlocal_in_DA3_tab",
      "execution_count": 5,
      "outputs": []
    },
    {
      "cell_type": "code",
      "metadata": {
        "tags": [],
        "cell_id": "00004-91e5a8af-2f48-4ebb-9c9a-765a7d80a5f1",
        "deepnote_to_be_reexecuted": false,
        "source_hash": "e41b421a",
        "execution_millis": 1330,
        "output_cleared": true,
        "execution_start": 1620061455883,
        "deepnote_cell_type": "code"
      },
      "source": "# Find neurons by dataset/paper - on CATMAID\n\nbates = pymaid.find_neurons(annotations='Paper: Bates and Schlegel et al 2020')\nbates",
      "execution_count": 6,
      "outputs": []
    },
    {
      "cell_type": "code",
      "metadata": {
        "tags": [],
        "cell_id": "00009-51e5ef7d-4810-4d2d-afce-eb3c6e315810",
        "deepnote_to_be_reexecuted": false,
        "source_hash": "46eeef09",
        "execution_millis": 2131,
        "output_cleared": true,
        "execution_start": 1620061457217,
        "deepnote_cell_type": "code"
      },
      "source": "# Inspect what datasets are available on VFB\n\nds = vc.neo_query_wrapper.get_datasets(summary=True)\nds_tab = pd.DataFrame.from_records(ds)\nds_tab.sort_values(by=['id'])",
      "execution_count": 7,
      "outputs": []
    },
    {
      "cell_type": "markdown",
      "source": "You can also find linked datasets directly on pub reports on VFB ![image](https://user-images.githubusercontent.com/112839/116908789-36f4e880-ac3b-11eb-9dc7-a2493917f179.png)\n\n\n\n\n",
      "metadata": {
        "tags": [],
        "cell_id": "00012-b3a9e3ed-4550-44ca-96ba-c9006d2b4c3c",
        "deepnote_cell_type": "markdown"
      }
    },
    {
      "cell_type": "code",
      "metadata": {
        "tags": [],
        "cell_id": "00011-0813a13c-a41c-4399-86ea-af6b1934912b",
        "deepnote_to_be_reexecuted": false,
        "source_hash": "8d995be0",
        "execution_millis": 412,
        "output_cleared": true,
        "execution_start": 1620061459329,
        "deepnote_cell_type": "code"
      },
      "source": "sayin_tab = pd.DataFrame.from_records(vc.get_instances_by_dataset('Sayin2019', summary=True))\nsayin_tab",
      "execution_count": 8,
      "outputs": []
    },
    {
      "cell_type": "code",
      "metadata": {
        "tags": [],
        "cell_id": "00001-98280165-9254-4b9a-a3a8-776420fa14b9",
        "deepnote_to_be_reexecuted": false,
        "source_hash": "5b5dd492",
        "execution_millis": 6884,
        "output_cleared": true,
        "execution_start": 1620061459738,
        "deepnote_cell_type": "code"
      },
      "source": "# Find connections between neurons by type across datasets.\n# Note: results are limited by how detailed annotation currently is in the DB.  \n    \nvc.get_connected_neurons_by_type(upstream_type='GABAergic neuron', downstream_type='adult descending neuron', weight=10).sort_values(['weight'],ascending=False)",
      "execution_count": 9,
      "outputs": []
    }
  ],
  "nbformat": 4,
  "nbformat_minor": 2,
  "metadata": {
    "orig_nbformat": 2,
    "deepnote_notebook_id": "718b5c51-e3e5-4906-8b47-3ce8982d56ba",
    "deepnote": {},
    "deepnote_execution_queue": []
  }
}