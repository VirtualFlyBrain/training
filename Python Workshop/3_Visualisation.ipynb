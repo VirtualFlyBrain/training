{
  "cells": [
    {
      "cell_type": "code",
      "metadata": {
        "tags": [],
        "cell_id": "00000-89f39c55-c189-465f-9a03-6b8ec9624a13",
        "deepnote_to_be_reexecuted": false,
        "source_hash": null,
        "execution_millis": 2900,
        "execution_start": 1614635087945,
        "output_cleared": true,
        "deepnote_cell_type": "code"
      },
      "source": "!pip install vfb-connect --upgrade",
      "execution_count": null,
      "outputs": []
    },
    {
      "cell_type": "markdown",
      "source": "### A note on using these notebooks\nThis is designed as an interactive tutorial. Feel free to add code cells below each example to try out variations of your own.",
      "metadata": {
        "tags": [],
        "cell_id": "00001-ac343f19-6cb9-4923-b76e-ea473d486d3d",
        "deepnote_cell_type": "markdown"
      }
    },
    {
      "cell_type": "code",
      "metadata": {
        "tags": [],
        "cell_id": "00000-daa7fb7e-3c8b-4b08-a957-c36090351ec1",
        "deepnote_to_be_reexecuted": false,
        "source_hash": null,
        "execution_millis": 3534,
        "execution_start": 1614635094626,
        "output_cleared": true,
        "deepnote_cell_type": "code"
      },
      "source": "# Import libs and initialise API objects\nfrom vfb_connect.cross_server_tools import VfbConnect\nimport pandas as pd\n\nvc = VfbConnect()  \n\nimport pymaid\nimport navis\n\n# Needed because deepnote doesn't support fancy progress bars yet\nnavis.set_pbars(jupyter=False) \npymaid.set_pbars(jupyter=False)\n\n# Connect to the VFB CATMAID server hosting the FAFB data\nrm = pymaid.connect_catmaid(server=\"https://fafb.catmaid.virtualflybrain.org/\",  \n                            api_token=None, max_threads=10)\n\n# Test call to see if connection works \nprint(f'Server is running CATMAID version {rm.catmaid_version}')\n",
      "execution_count": null,
      "outputs": []
    },
    {
      "cell_type": "markdown",
      "source": "# Plotting\n`navis` lets you plot neurons in 2d using `matplotlib` (nice for figures), and in 3d using either `plotly` when in a notebook environment like Deepnote or using a `vispy`-based 3D viewer when using a Python terminal. The `vispy` solution won't work in Deepnote so we will focus on `matplotlib`'s 2d and `plotly` for 3d.",
      "metadata": {
        "tags": [],
        "cell_id": "00000-8424dd6b-4ef5-4a82-917a-c180f9629dac",
        "deepnote_cell_type": "markdown"
      }
    },
    {
      "cell_type": "code",
      "metadata": {
        "tags": [],
        "cell_id": "00000-52ccbb02-29fc-4a2c-aaec-9684b451aa57",
        "deepnote_to_be_reexecuted": false,
        "source_hash": null,
        "execution_millis": 1222,
        "execution_start": 1614633954975,
        "output_cleared": true,
        "deepnote_cell_type": "code"
      },
      "source": "# We'll use a FAFB neuron, retrieved using navis as an example\nn = pymaid.get_neurons(16) # retrieves a CatMaid neuron object with skeleton id = 16 (See the Mapping notebook for how to find )\nn",
      "execution_count": null,
      "outputs": []
    },
    {
      "cell_type": "markdown",
      "source": "",
      "metadata": {
        "tags": [],
        "cell_id": "00004-164f7295-7fdb-4860-be61-5cac47226ee6",
        "deepnote_cell_type": "markdown"
      }
    },
    {
      "cell_type": "code",
      "metadata": {
        "tags": [],
        "cell_id": "00005-f9748447-2767-4087-acad-39e134b7a26d",
        "deepnote_to_be_reexecuted": false,
        "source_hash": null,
        "execution_millis": 896,
        "execution_start": 1614633956193,
        "output_cleared": true,
        "deepnote_cell_type": "code"
      },
      "source": "# We can plot this in 2D\nnavis.plot2d(n)",
      "execution_count": null,
      "outputs": []
    },
    {
      "cell_type": "code",
      "metadata": {
        "tags": [],
        "cell_id": "00004-27a0d04a-c63b-40f0-8fcc-b1267e22c05a",
        "deepnote_to_be_reexecuted": false,
        "source_hash": null,
        "execution_millis": 1039,
        "execution_start": 1614633957085,
        "output_cleared": true,
        "deepnote_cell_type": "code"
      },
      "source": "# Or 3D\nnavis.plot3d(n)",
      "execution_count": null,
      "outputs": []
    },
    {
      "cell_type": "markdown",
      "source": "**Navigation:**\n\n* left click and drag to rotate (select \"Orbital rotation\" above the legend to make your life easier)\n* mousewheel to zoom\n* middle-mouse + drag to translate\n* click legend items (single or double) to hide/unhide\n\n**Customization:**\n\nThe above plots are very basic examples but there are a ton of ways to tweak things to your liking. For a full list of parameters check out the docs for plot2d and plot3d.  (Hint - you can view documentation by floating over a method name in Deepnote)\n\nLet's for example change the colors. In general, colors can be:\n\na string - e.g. \"red\" or just \"r\"\nan rgb/rgba tuple - e.g. (1, 0, 0) for red",
      "metadata": {
        "tags": [],
        "cell_id": "00007-ef3991b1-f6f9-4357-951a-6ff1c7818381",
        "deepnote_cell_type": "markdown"
      }
    },
    {
      "cell_type": "code",
      "metadata": {
        "tags": [],
        "cell_id": "00008-91d31350-e564-46f6-bd8b-f703bd4ee24b",
        "deepnote_to_be_reexecuted": false,
        "source_hash": null,
        "execution_millis": 1309,
        "execution_start": 1614633958110,
        "output_cleared": true,
        "deepnote_cell_type": "code"
      },
      "source": "navis.plot3d(n, color='red')",
      "execution_count": null,
      "outputs": []
    },
    {
      "cell_type": "markdown",
      "source": "#### Excercise\n\nFloat over the ",
      "metadata": {
        "tags": [],
        "cell_id": "00009-a6f74c17-a719-4a0b-afb1-56c96a5f8de7",
        "deepnote_cell_type": "markdown"
      }
    },
    {
      "cell_type": "code",
      "metadata": {
        "tags": [],
        "cell_id": "00006-f3cd8dea-7ada-4dd2-ba9b-cfaf9efec731",
        "deepnote_to_be_reexecuted": false,
        "source_hash": null,
        "execution_millis": 960,
        "execution_start": 1614633958506,
        "output_cleared": true,
        "deepnote_cell_type": "code"
      },
      "source": "# CATMAID neuron objects include connectors (synapses)  here pre-(red) and postsynapses (blue).\nnavis.plot3d(n, width=1000, connectors=True, color='k') #",
      "execution_count": null,
      "outputs": []
    },
    {
      "cell_type": "markdown",
      "source": "Now let's try an example with multiple neurons",
      "metadata": {
        "tags": [],
        "cell_id": "00010-d2654c49-1ef8-4aa7-8ba3-ea62bbbef54c",
        "deepnote_cell_type": "markdown"
      }
    },
    {
      "cell_type": "code",
      "metadata": {
        "tags": [],
        "cell_id": "00012-b958288a-e177-4313-9029-eedc8a9020e0",
        "deepnote_to_be_reexecuted": false,
        "source_hash": null,
        "execution_millis": 883,
        "execution_start": 1614633959352,
        "output_cleared": true,
        "deepnote_cell_type": "code"
      },
      "source": "# Pulling (annotations on) neurons from a single dataset on CATMAID\n\nbates = pymaid.find_neurons(annotations='Paper: Bates and Schlegel et al 2020') \n# Viewing first 10 neurons:\nbates[0:10]",
      "execution_count": null,
      "outputs": []
    },
    {
      "cell_type": "code",
      "metadata": {
        "tags": [],
        "cell_id": "00011-65f0397c-fb59-4664-89a7-6850de7f6e8c",
        "deepnote_to_be_reexecuted": false,
        "source_hash": null,
        "execution_millis": 10272,
        "execution_start": 1614633960238,
        "output_cleared": true,
        "deepnote_cell_type": "code"
      },
      "source": "# Plotting multiple neurons, we get a default multi-color pallete\n\nbates[0:10].plot3d(hover_name=True)\n\n",
      "execution_count": null,
      "outputs": []
    },
    {
      "cell_type": "markdown",
      "source": "What if we want to use color to group neurons in some way?\n\nThe following example illustrates colouring by lineage, where lineage is derived from standardised neuron names on FAFB CATMAID \n\n",
      "metadata": {
        "tags": [],
        "cell_id": "00014-c63d2783-f00c-41e8-8551-219ae2b44115",
        "deepnote_cell_type": "markdown"
      }
    },
    {
      "cell_type": "code",
      "metadata": {
        "tags": [],
        "cell_id": "00015-9aac7320-6c91-4ab1-9890-405d4fe1cbb8",
        "deepnote_to_be_reexecuted": false,
        "source_hash": null,
        "execution_millis": 54,
        "execution_start": 1614633970456,
        "output_cleared": true,
        "deepnote_cell_type": "code"
      },
      "source": "# On CATMAID, we need to know something about the structure of names and parse them to get types:\n\nimport re \nprog = re.compile(\"Uniglomerular(.*?) DA1 \") \n\n# Match all neuron names in `bates` against that pattern\nis_da1 = list(map(lambda x: prog.match(x) != None, bates.name))\n\n# Subset list of neurons\nda1 = bates[is_da1]\nda1.head()",
      "execution_count": null,
      "outputs": []
    },
    {
      "cell_type": "code",
      "metadata": {
        "tags": [],
        "cell_id": "00017-fad578c1-e7f8-47b6-85f3-36fc6d8b3766",
        "deepnote_to_be_reexecuted": false,
        "source_hash": null,
        "execution_millis": 14162,
        "execution_start": 1614633970463,
        "output_cleared": true,
        "deepnote_cell_type": "code"
      },
      "source": "# Add lineage attribute to all da1 neurons based on regex against name\nfor n in da1:\n    # Split name into components and keep only the tract\n    n.lineage = n.name.split(' ')[3]    \n\nimport seaborn as sns\nimport numpy as np \n\n# Get all unique lineages (we expect only two)\nlineages = np.unique(da1.lineage) \n\n# Generate a color per lineage\nlin_cmap = dict(zip(lineages, sns.color_palette('muted', len(lineages))))\n\n# Make a dictionary mapping skid to colour appropriate to lineage\nlineage_map = dict(zip(da1.id, da1.lineage)) \nneuron_cmap = {i: lin_cmap[l] for i, l in lineage_map.items()}\n\nnavis.plot3d(da1, color=neuron_cmap, legend_group=lineage_map, hover_name=True, width=1000)",
      "execution_count": null,
      "outputs": []
    },
    {
      "cell_type": "markdown",
      "source": "We can do the same thing using VFB, looking up the relevant terms on the web site and then using these to categorise CATMAID neurons",
      "metadata": {
        "tags": [],
        "cell_id": "00016-152c286b-6832-420e-a93f-9395c3ec8d0d",
        "deepnote_cell_type": "markdown"
      }
    },
    {
      "cell_type": "code",
      "metadata": {
        "tags": [],
        "cell_id": "00016-3482fb82-b66b-4ce1-9fe2-94144d50eeb4",
        "deepnote_to_be_reexecuted": false,
        "source_hash": null,
        "execution_millis": 1547,
        "execution_start": 1614635388917,
        "output_cleared": true,
        "deepnote_cell_type": "code"
      },
      "source": "# With VFB, we can query by type\n\nfrom vfb_connect.cross_server_tools import gen_short_form # TODO - make this arg on oc.get_instances\n\ndef vfb_type_2_skids(vfb_type):\n    # Get IDs (short_forms) for instances of type\n    da1_from_vfb = map(gen_short_form, vc.oc.get_instances(vfb_type, query_by_label=True))\n    # Find which neurons are in catmaid_fafb and return \n    da1_skid_lookup = vc.neo_query_wrapper.vfb_id_2_xrefs(da1_from_vfb, db='catmaid_fafb', reverse_return=True)\n    # Convert skids to ints \n    da1_skids = da1_skid_lookup.keys()\n    return list(da1_skids)\n\nda1_fafb = vfb_type_2_skids(\"'adult antennal lobe projection neuron DA1'\")",
      "execution_count": null,
      "outputs": []
    },
    {
      "cell_type": "markdown",
      "source": "",
      "metadata": {
        "tags": [],
        "cell_id": "00020-859d8eab-9d1a-4d14-a72a-2e6ad4d40b61",
        "deepnote_cell_type": "markdown"
      }
    },
    {
      "cell_type": "code",
      "metadata": {
        "tags": [],
        "cell_id": "00020-7317f2e4-5847-498a-9f3d-5c12a6d40dab",
        "deepnote_to_be_reexecuted": false,
        "source_hash": null,
        "execution_start": 1614637692493,
        "execution_millis": 849,
        "output_cleared": true,
        "deepnote_cell_type": "code"
      },
      "source": "# Inspect subclasses:\npd.DataFrame.from_records(vc.get_subclasses(\"'adult antennal lobe projection neuron DA1'\", summary=True))",
      "execution_count": null,
      "outputs": []
    },
    {
      "cell_type": "code",
      "metadata": {
        "tags": [],
        "cell_id": "00022-9c085890-de3d-4e85-9147-ad84882fcfd2",
        "deepnote_cell_type": "code"
      },
      "source": "# Get skids for DA1_lPNs and DA1_vPNs\nda1_l_fafb = vfb_type_2_skids(\"'DA1_lPN'\")\nda1_v_fafb = vfb_type_2_skids(\"'DA1_vPN'\")\n\nis_da1 = list(map(lambda x: x in da1_fafb, bates.skeleton_id))\nda1 = bates[is_da1]",
      "execution_count": null,
      "outputs": []
    },
    {
      "cell_type": "code",
      "metadata": {
        "tags": [],
        "cell_id": "00018-74ecaa40-2b5e-4181-bb89-f4e2c9519a7a",
        "deepnote_to_be_reexecuted": false,
        "source_hash": "9b603105",
        "execution_millis": 4,
        "execution_start": 1614633985599,
        "deepnote_cell_type": "code"
      },
      "source": "# Generate a palette \npalette = sns.color_palette('muted', 2)\n# Make a dictionary \nlin_cmap = { 'lPN': palette[0], 'vPN': palette[1]}",
      "execution_count": null,
      "outputs": []
    },
    {
      "cell_type": "code",
      "metadata": {
        "tags": [],
        "cell_id": "00019-95a9b74c-ccd1-4818-be98-3ceeb4ea1016",
        "deepnote_to_be_reexecuted": false,
        "source_hash": null,
        "execution_millis": 3887,
        "execution_start": 1614633985608,
        "output_cleared": true,
        "deepnote_cell_type": "code"
      },
      "source": "# Make a dictionary with key = skid & value = color by lineage\nlineage_map = {n: 'lPN' for n in da1_l_fafb}\nlineage_map.update({n: 'vPN' for n in da1_v_fafb})\n\nneuron_cmap = {n: lin_cmap[l] for n, l in lineage_map.items()}\n\nnavis.plot3d(da1, color=neuron_cmap, hover_name=True, legend_group=lineage_map, width=1000)",
      "execution_count": null,
      "outputs": []
    },
    {
      "cell_type": "markdown",
      "source": "### Using VFB templates and data to plot nerons from multiple sources in a single template space.\n\nVFB allows us to pull neurons from multiple sources and display them in a single template space\n\nYou can browse the various templates available on the VFB site, or get a summary:",
      "metadata": {
        "tags": [],
        "cell_id": "00012-ef35cd85-030f-405f-b78e-12f9fd5badfc",
        "deepnote_cell_type": "markdown"
      }
    },
    {
      "cell_type": "code",
      "metadata": {
        "tags": [],
        "cell_id": "00026-d7fbb67d-9271-4774-b2e8-207af358049a",
        "deepnote_to_be_reexecuted": false,
        "source_hash": null,
        "execution_start": 1614637946274,
        "execution_millis": 741,
        "output_cleared": true,
        "deepnote_cell_type": "code"
      },
      "source": "pd.DataFrame.from_records(vc.neo_query_wrapper.get_templates(summary=True))",
      "execution_count": null,
      "outputs": []
    },
    {
      "cell_type": "code",
      "metadata": {
        "tags": [],
        "cell_id": "00021-dd50e9d6-4337-421d-885c-2fce34922a55",
        "deepnote_to_be_reexecuted": false,
        "source_hash": null,
        "execution_millis": 16305,
        "execution_start": 1614633988409,
        "output_cleared": true,
        "deepnote_cell_type": "code"
      },
      "source": "DA1_manifest = vc.get_images_by_type(\"'adult antennal lobe projection neuron DA1'\", template = 'JRC2018Unisex', image_folder = 'DA1', stomp=True)",
      "execution_count": null,
      "outputs": []
    },
    {
      "cell_type": "code",
      "metadata": {
        "tags": [],
        "cell_id": "00022-7fddebf5-1827-402f-a5bc-b764407b5cb8",
        "deepnote_to_be_reexecuted": false,
        "source_hash": null,
        "execution_millis": 21,
        "execution_start": 1614634004748,
        "output_cleared": true,
        "deepnote_cell_type": "code"
      },
      "source": "DA1_manifest[0:3]",
      "execution_count": null,
      "outputs": []
    },
    {
      "cell_type": "markdown",
      "source": "We can then plot the neurons, coloring by data_source",
      "metadata": {
        "tags": [],
        "cell_id": "00023-5b57acb7-145d-452e-8c42-9c7af5422a9c",
        "deepnote_cell_type": "markdown"
      }
    },
    {
      "cell_type": "code",
      "metadata": {
        "tags": [],
        "cell_id": "00026-d427c442-4611-4b0d-912a-4d0969fb9837",
        "deepnote_to_be_reexecuted": false,
        "source_hash": "a4c3216b",
        "execution_millis": 614,
        "execution_start": 1614634084718,
        "deepnote_cell_type": "code"
      },
      "source": "# Read skeletons from file\nnl = navis.read_swc('DA1') \n\n# The neuron names correspond to the filenames\n# To make it easier, we will manually add IDs from the manifest\nids = dict(zip(DA1_manifest.filename.map(lambda x: x.replace('.swc', '')).values,\n               DA1_manifest.accession.values)) \nfor n in nl:\n    n.id = ids[n.name]\n\n# Add data source \nds = DA1_manifest.set_index('accession').data_source.to_dict()\nfor n in nl:\n    n.source = ds[n.id]",
      "execution_count": null,
      "outputs": [
        {
          "name": "stderr",
          "text": "",
          "output_type": "stream"
        }
      ]
    },
    {
      "cell_type": "code",
      "metadata": {
        "tags": [],
        "cell_id": "00027-cd0c1d9b-c25c-4226-9833-4433e31f8d25",
        "deepnote_to_be_reexecuted": false,
        "source_hash": null,
        "execution_millis": 7367,
        "execution_start": 1614634089253,
        "output_cleared": true,
        "deepnote_cell_type": "code"
      },
      "source": "source_cmap = dict(zip(np.unique(nl.source),\n                       sns.color_palette('muted', len(np.unique(nl.source)))))\n\nsource_map = dict(zip(nl.id, nl.source))\nneuron_cmap = {n.id: source_cmap[n.source] for n in nl}\n\nnavis.plot3d(nl, color=neuron_cmap, hover_name=True, legend_group=source_map, width=1000)",
      "execution_count": null,
      "outputs": []
    },
    {
      "cell_type": "markdown",
      "source": "### Adding volumes\n\nVFB has regions of interest defined for every template.  These can be browsed on our template ROI browser:\n<img src=\"https://user-images.githubusercontent.com/112839/109641953-475cea00-7b4a-11eb-9e3e-92a6e776b86a.png\" width=30% height=30%> or the [results of queries](https://v2.virtualflybrain.org/org.geppetto.frontend/geppetto?q=VFB_00101567,PaintedDomains) available from each template. The ROIs for JRC2018Unisex come from Janelia (the work of Kazonori Shinomiya) and align with domains on the Hemibrain following standard cross-registration.\n\n\n",
      "metadata": {
        "tags": [],
        "cell_id": "00013-b5d77c09-d52c-44ff-bc3a-453639acdcb5",
        "deepnote_cell_type": "markdown"
      }
    },
    {
      "cell_type": "code",
      "metadata": {
        "tags": [],
        "cell_id": "00026-4721fd26-92e4-45f4-a7ec-7ce370b9866a",
        "deepnote_to_be_reexecuted": false,
        "source_hash": null,
        "execution_millis": 1000,
        "execution_start": 1614634109496,
        "output_cleared": true,
        "deepnote_cell_type": "code"
      },
      "source": "# Get an image (obj volume) of the mushroom body calyx on JRC2018Unisex: \n\nMB = vc.get_images_by_type(\"'mushroom body calyx'\", template = 'JRC2018Unisex', image_folder='MB', image_type='obj', stomp=True) # TODO \nMB",
      "execution_count": null,
      "outputs": []
    },
    {
      "cell_type": "code",
      "metadata": {
        "tags": [],
        "cell_id": "00026-dc2a30fb-5b36-4756-aab9-a47ac4b59461",
        "deepnote_to_be_reexecuted": false,
        "source_hash": null,
        "execution_millis": 3891,
        "execution_start": 1614634123843,
        "output_cleared": true,
        "deepnote_cell_type": "code"
      },
      "source": "# Plot this along with the neurons in the previous example\nimport trimesh\n\n# TBA # discovery step\n\ntest = trimesh.load('MB/CA_on_JRC2018Unisex_adult_brain.obj')\nmesh = navis.Volume(test)\nmesh.color = (230, 230, 230, .2)\nmesh.name = \"ME on JRC2018Unisex adult brain\"\nnavis.plot3d([mesh, nl], color=neuron_cmap, hover_name=True, legend_group=source_map)",
      "execution_count": null,
      "outputs": []
    },
    {
      "cell_type": "markdown",
      "source": "### Excercise  \n\nChoose some neurons to display and render by classification.  Write some code based on the previous examples to achieve this.",
      "metadata": {
        "tags": [],
        "cell_id": "00031-f4cd2580-bfa3-46db-b79e-97dbd6ca810e",
        "deepnote_cell_type": "markdown"
      }
    },
    {
      "cell_type": "markdown",
      "source": "<a style='text-decoration:none;line-height:16px;display:flex;color:#5B5B62;padding:10px;justify-content:end;' href='https://deepnote.com?utm_source=created-in-deepnote-cell&projectId=94cb7c07-bfd7-4142-b5f9-bec41746df04' target=\"_blank\">\n<img style='display:inline;max-height:16px;margin:0px;margin-right:7.5px;' src='data:image/svg+xml;base64,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' > </img>\nCreated in <span style='font-weight:600;margin-left:4px;'>Deepnote</span></a>",
      "metadata": {
        "tags": [],
        "created_in_deepnote_cell": true,
        "deepnote_cell_type": "markdown"
      }
    }
  ],
  "nbformat": 4,
  "nbformat_minor": 2,
  "metadata": {
    "orig_nbformat": 2,
    "deepnote_notebook_id": "abca6357-03da-417f-8178-d6d2367ab232",
    "deepnote": {},
    "deepnote_execution_queue": []
  }
}