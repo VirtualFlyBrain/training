{
  "cells": [
    {
      "cell_type": "markdown",
      "source": "### Intro to Deepnote\n\nAvailable methods and their documentation are easy to explore in DeepNote:\n* Tab completion and type adhead can be used to help find methods. \n* Float your cursor over a method to see its signature and docstring.\n\nUse the code cells below to test out autocompletion and docstring display.",
      "metadata": {
        "tags": [],
        "cell_id": "00000-0a19118e-3f4a-47ec-abe1-33d7160ec52d",
        "deepnote_cell_type": "markdown"
      }
    },
    {
      "cell_type": "code",
      "metadata": {
        "tags": [],
        "deepnote_to_be_reexecuted": false,
        "source_hash": "4459df4a",
        "execution_start": 1614619550426,
        "execution_millis": 3328,
        "cell_id": "00001-166b79ea-96f6-49e3-b099-c3cfcdbd9350",
        "deepnote_cell_type": "code"
      },
      "source": "# Import lib and initialise object\nfrom vfb_connect.cross_server_tools import VfbConnect\nvc = VfbConnect()\n\n# Try typing vc. here:",
      "execution_count": null,
      "outputs": []
    },
    {
      "cell_type": "markdown",
      "source": "### A note on using these notebooks\n\nThis is designed as an interactive tutorial.  Feel free to add code cells below each example to try out variations of your own. ",
      "metadata": {
        "tags": [],
        "cell_id": "00002-01af3821-5715-418f-9158-ca391c34ed5a",
        "deepnote_cell_type": "markdown"
      }
    },
    {
      "cell_type": "markdown",
      "source": "![](../presentations/_static/deepnote_add_code.png \"Hover between cells to add new markdown Block or Code\") Hover between cells to add new markdown Block or Code",
      "metadata": {
        "tags": [],
        "cell_id": "00003-4c3a55a0-ca2f-4571-8e68-48a31bca8c4e",
        "deepnote_cell_type": "markdown"
      }
    },
    {
      "cell_type": "markdown",
      "source": "## Run one cell at a time!\n\nSelect the code cell below and click Run in the right sidebar. You can also press <kbd>Shift</kbd>+<kbd>Enter</kbd> to run it and move to the next cell.",
      "metadata": {
        "tags": [],
        "cell_id": "00004-1dd751da-538a-4628-adaa-ee0172e1d990",
        "deepnote_cell_type": "markdown"
      }
    }
  ],
  "nbformat": 4,
  "nbformat_minor": 2,
  "metadata": {
    "orig_nbformat": 2,
    "deepnote_notebook_id": "227e1f70-3ec9-4695-8a14-ed73e114a69c",
    "deepnote": {},
    "deepnote_execution_queue": []
  }
}